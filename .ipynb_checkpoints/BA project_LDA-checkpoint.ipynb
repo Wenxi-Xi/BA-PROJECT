{
 "cells": [
  {
   "cell_type": "code",
   "execution_count": 41,
   "metadata": {},
   "outputs": [],
   "source": [
    "import pandas as pd\n",
    "import numpy as np\n",
    "# do the LDA\n",
    "from gensim import corpora\n",
    "from gensim.models.ldamodel import LdaModel\n",
    "from gensim.parsing.preprocessing import STOPWORDS\n",
    "import pprint\n",
    "import nltk\n",
    "from nltk import sent_tokenize,word_tokenize "
   ]
  },
  {
   "cell_type": "code",
   "execution_count": 59,
   "metadata": {},
   "outputs": [],
   "source": [
    "df_BA=pd.read_csv('BA')\n",
    "df_DS=pd.read_csv('DS')\n",
    "df_DA=pd.read_csv('DA')\n",
    "df_DE=pd.read_csv('DE')"
   ]
  },
  {
   "cell_type": "markdown",
   "metadata": {},
   "source": [
    "# LDA Model"
   ]
  },
  {
   "cell_type": "code",
   "execution_count": 71,
   "metadata": {},
   "outputs": [],
   "source": [
    "def get_df_name(df):\n",
    "    name =[x for x in globals() if globals()[x] is df][0]\n",
    "    return name\n",
    "\n",
    "def lda(df,num_topics = 3,passes = 10,num_words=8):\n",
    "    l1=[]\n",
    "    for i in df.index:\n",
    "        sents=df.loc[i]['JD']\n",
    "        l1.append(sents.replace('\\n',''))\n",
    "    \n",
    "    texts = [[word for word in story.lower().split()\n",
    "            if word not in STOPWORDS and word.isalnum()]\n",
    "            for story in l1]\n",
    "    dictionary = corpora.Dictionary(texts) #(word_id,word) pairs\n",
    "    corpus = [dictionary.doc2bow(text) for text in texts]\n",
    "    \n",
    "    lda = LdaModel(corpus,\n",
    "              id2word=dictionary,\n",
    "              num_topics=num_topics,\n",
    "              passes=passes)\n",
    "    pp = pprint.PrettyPrinter(indent=4)\n",
    "    pp.pprint(lda.print_topics(num_words))\n",
    "    \n",
    "    return lda"
   ]
  },
  {
   "cell_type": "code",
   "execution_count": 72,
   "metadata": {},
   "outputs": [
    {
     "name": "stdout",
     "output_type": "stream",
     "text": [
      "[   (   0,\n",
      "        '0.029*\"business\" + 0.011*\"work\" + 0.010*\"data\" + 0.009*\"experience\" + '\n",
      "        '0.008*\"team\" + 0.007*\"years\" + 0.006*\"support\" + 0.006*\"project\" + '\n",
      "        '0.006*\"requirements\" + 0.006*\"analysis\"'),\n",
      "    (   1,\n",
      "        '0.040*\"business\" + 0.015*\"requirements\" + 0.015*\"experience\" + '\n",
      "        '0.015*\"project\" + 0.009*\"technical\" + 0.008*\"process\" + '\n",
      "        '0.008*\"development\" + 0.008*\"team\" + 0.008*\"management\" + '\n",
      "        '0.007*\"user\"'),\n",
      "    (   2,\n",
      "        '0.038*\"business\" + 0.017*\"data\" + 0.015*\"experience\" + 0.011*\"work\" + '\n",
      "        '0.009*\"requirements\" + 0.007*\"analyst\" + 0.007*\"management\" + '\n",
      "        '0.007*\"skills\" + 0.006*\"years\" + 0.006*\"ability\"')]\n"
     ]
    },
    {
     "data": {
      "text/plain": [
       "[('business', 0.029029097),\n",
       " ('work', 0.010841886),\n",
       " ('data', 0.0101776915),\n",
       " ('experience', 0.009327167),\n",
       " ('team', 0.0075798836),\n",
       " ('years', 0.0074357153),\n",
       " ('support', 0.006364252),\n",
       " ('project', 0.006285037),\n",
       " ('requirements', 0.0060918164),\n",
       " ('analysis', 0.006033137)]"
      ]
     },
     "execution_count": 72,
     "metadata": {},
     "output_type": "execute_result"
    }
   ],
   "source": [
    "lda(df_BA).show_topic(0)"
   ]
  },
  {
   "cell_type": "code",
   "execution_count": 74,
   "metadata": {},
   "outputs": [
    {
     "name": "stdout",
     "output_type": "stream",
     "text": [
      "[   (   0,\n",
      "        '0.030*\"data\" + 0.009*\"experience\" + 0.009*\"work\" + 0.007*\"analysis\" + '\n",
      "        '0.006*\"related\" + 0.006*\"support\" + 0.006*\"ability\" + '\n",
      "        '0.005*\"information\" + 0.005*\"degree\" + 0.005*\"years\"'),\n",
      "    (   1,\n",
      "        '0.014*\"data\" + 0.009*\"marketing\" + 0.007*\"work\" + 0.006*\"team\" + '\n",
      "        '0.006*\"sales\" + 0.005*\"years\" + 0.005*\"business\" + 0.005*\"analytics\" '\n",
      "        '+ 0.004*\"experience\" + 0.004*\"applicants\"'),\n",
      "    (   2,\n",
      "        '0.069*\"data\" + 0.023*\"business\" + 0.019*\"experience\" + 0.009*\"work\" + '\n",
      "        '0.008*\"management\" + 0.008*\"analysis\" + 0.008*\"years\" + '\n",
      "        '0.007*\"reporting\" + 0.007*\"information\" + 0.006*\"knowledge\"')]\n"
     ]
    },
    {
     "data": {
      "text/plain": [
       "[('data', 0.03010265),\n",
       " ('experience', 0.009177024),\n",
       " ('work', 0.008625959),\n",
       " ('analysis', 0.006681344),\n",
       " ('related', 0.0062822094),\n",
       " ('support', 0.0059790625),\n",
       " ('ability', 0.005694934),\n",
       " ('information', 0.005459062),\n",
       " ('degree', 0.0051678917),\n",
       " ('years', 0.0051183524)]"
      ]
     },
     "execution_count": 74,
     "metadata": {},
     "output_type": "execute_result"
    }
   ],
   "source": [
    "lda(df_DA).show_topic(0)"
   ]
  },
  {
   "cell_type": "code",
   "execution_count": 75,
   "metadata": {},
   "outputs": [
    {
     "name": "stdout",
     "output_type": "stream",
     "text": [
      "[   (   0,\n",
      "        '0.049*\"data\" + 0.017*\"experience\" + 0.014*\"business\" + 0.009*\"work\" + '\n",
      "        '0.009*\"science\" + 0.008*\"statistical\" + 0.008*\"machine\" + '\n",
      "        '0.007*\"years\" + 0.007*\"learning\" + 0.007*\"team\"'),\n",
      "    (   1,\n",
      "        '0.044*\"data\" + 0.017*\"experience\" + 0.012*\"business\" + '\n",
      "        '0.010*\"machine\" + 0.010*\"learning\" + 0.007*\"statistical\" + '\n",
      "        '0.007*\"years\" + 0.006*\"science\" + 0.006*\"work\" + 0.005*\"ability\"'),\n",
      "    (   2,\n",
      "        '0.017*\"quantum\" + 0.011*\"data\" + 0.010*\"work\" + 0.009*\"development\" + '\n",
      "        '0.008*\"best\" + 0.007*\"including\" + 0.007*\"application\" + '\n",
      "        '0.006*\"knowledge\" + 0.006*\"new\" + 0.006*\"science\"')]\n"
     ]
    },
    {
     "data": {
      "text/plain": [
       "[('data', 0.048991453),\n",
       " ('experience', 0.017313149),\n",
       " ('business', 0.0137994215),\n",
       " ('work', 0.008786315),\n",
       " ('science', 0.008553887),\n",
       " ('statistical', 0.008345108),\n",
       " ('machine', 0.008166797),\n",
       " ('years', 0.0074272635),\n",
       " ('learning', 0.006828826),\n",
       " ('team', 0.0066643837)]"
      ]
     },
     "execution_count": 75,
     "metadata": {},
     "output_type": "execute_result"
    }
   ],
   "source": [
    "lda(df_DS).show_topic(0)"
   ]
  },
  {
   "cell_type": "code",
   "execution_count": 73,
   "metadata": {},
   "outputs": [
    {
     "name": "stdout",
     "output_type": "stream",
     "text": [
      "[   (   0,\n",
      "        '0.042*\"data\" + 0.018*\"experience\" + 0.008*\"business\" + 0.008*\"work\" + '\n",
      "        '0.008*\"years\" + 0.006*\"knowledge\" + 0.005*\"sql\" + 0.005*\"working\" + '\n",
      "        '0.005*\"team\" + 0.005*\"technical\"'),\n",
      "    (   1,\n",
      "        '0.046*\"data\" + 0.014*\"experience\" + 0.011*\"work\" + 0.007*\"business\" + '\n",
      "        '0.007*\"development\" + 0.006*\"team\" + 0.006*\"big\" + 0.006*\"working\" + '\n",
      "        '0.005*\"systems\" + 0.005*\"technical\"'),\n",
      "    (   2,\n",
      "        '0.082*\"data\" + 0.029*\"experience\" + 0.013*\"years\" + 0.012*\"business\" '\n",
      "        '+ 0.009*\"working\" + 0.006*\"tools\" + 0.006*\"development\" + '\n",
      "        '0.006*\"technical\" + 0.006*\"cloud\" + 0.006*\"engineering\"')]\n"
     ]
    },
    {
     "data": {
      "text/plain": [
       "[('data', 0.042221744),\n",
       " ('experience', 0.017943649),\n",
       " ('business', 0.008327899),\n",
       " ('work', 0.008176807),\n",
       " ('years', 0.00789807),\n",
       " ('knowledge', 0.00557284),\n",
       " ('sql', 0.005365309),\n",
       " ('working', 0.0052213697),\n",
       " ('team', 0.0049189404),\n",
       " ('technical', 0.00489676)]"
      ]
     },
     "execution_count": 73,
     "metadata": {},
     "output_type": "execute_result"
    }
   ],
   "source": [
    "lda(df_DE).show_topic(0)"
   ]
  },
  {
   "cell_type": "code",
   "execution_count": null,
   "metadata": {},
   "outputs": [],
   "source": []
  },
  {
   "cell_type": "code",
   "execution_count": null,
   "metadata": {},
   "outputs": [],
   "source": []
  },
  {
   "cell_type": "code",
   "execution_count": null,
   "metadata": {},
   "outputs": [],
   "source": []
  },
  {
   "cell_type": "markdown",
   "metadata": {},
   "source": [
    "# Match Topic to Document"
   ]
  },
  {
   "cell_type": "code",
   "execution_count": null,
   "metadata": {},
   "outputs": [],
   "source": [
    "from operator import itemgetter\n",
    "lda.get_document_topics(corpus_new[0],minimum_probability=0.05,per_word_topics=False)\n",
    "sorted(lda.get_document_topics(corpus_new[0],minimum_probability=0,per_word_topics=False),key=itemgetter(1),reverse=True)"
   ]
  }
 ],
 "metadata": {
  "kernelspec": {
   "display_name": "Python 3",
   "language": "python",
   "name": "python3"
  },
  "language_info": {
   "codemirror_mode": {
    "name": "ipython",
    "version": 3
   },
   "file_extension": ".py",
   "mimetype": "text/x-python",
   "name": "python",
   "nbconvert_exporter": "python",
   "pygments_lexer": "ipython3",
   "version": "3.8.5"
  }
 },
 "nbformat": 4,
 "nbformat_minor": 4
}
