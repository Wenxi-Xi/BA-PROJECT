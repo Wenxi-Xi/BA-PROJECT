{
 "cells": [
  {
   "cell_type": "code",
   "execution_count": 1,
   "metadata": {},
   "outputs": [],
   "source": [
    "import pandas as pd\n",
    "import numpy as np\n",
    "# do the LDA\n",
    "from gensim import corpora\n",
    "from gensim.models.ldamodel import LdaModel\n",
    "from gensim.parsing.preprocessing import STOPWORDS\n",
    "import pprint\n",
    "import nltk\n",
    "from nltk import sent_tokenize,word_tokenize "
   ]
  },
  {
   "cell_type": "code",
   "execution_count": 2,
   "metadata": {},
   "outputs": [],
   "source": [
    "df_BA=pd.read_csv('BA')\n",
    "df_DS=pd.read_csv('DS')\n",
    "df_DA=pd.read_csv('DA')\n",
    "df_DE=pd.read_csv('DE')"
   ]
  },
  {
   "cell_type": "markdown",
   "metadata": {},
   "source": [
    "# LDA Model"
   ]
  },
  {
   "cell_type": "code",
   "execution_count": 3,
   "metadata": {},
   "outputs": [],
   "source": [
    "def get_df_name(df):\n",
    "    name =[x for x in globals() if globals()[x] is df][0]\n",
    "    return name\n",
    "\n",
    "def lda(df,num_topics = 3,passes = 10,num_words=8):\n",
    "    l1=[]\n",
    "    for i in df.index:\n",
    "        sents=df.loc[i]['JD']\n",
    "        l1.append(sents.replace('\\n',''))\n",
    "    \n",
    "    texts = [[word for word in story.lower().split()\n",
    "            if word not in STOPWORDS and word.isalnum()]\n",
    "            for story in l1]\n",
    "    dictionary = corpora.Dictionary(texts) #(word_id,word) pairs\n",
    "    corpus = [dictionary.doc2bow(text) for text in texts]\n",
    "    \n",
    "    lda = LdaModel(corpus,\n",
    "              id2word=dictionary,\n",
    "              num_topics=num_topics,\n",
    "              passes=passes)\n",
    "    pp = pprint.PrettyPrinter(indent=4)\n",
    "    pp.pprint(lda.print_topics(num_words))\n",
    "    \n",
    "    return lda"
   ]
  },
  {
   "cell_type": "code",
   "execution_count": 4,
   "metadata": {},
   "outputs": [
    {
     "name": "stdout",
     "output_type": "stream",
     "text": [
      "[   (   0,\n",
      "        '0.039*\"business\" + 0.014*\"experience\" + 0.014*\"requirements\" + '\n",
      "        '0.010*\"work\" + 0.010*\"project\" + 0.009*\"data\" + 0.008*\"technical\" + '\n",
      "        '0.008*\"team\" + 0.007*\"management\" + 0.007*\"development\"'),\n",
      "    (   1,\n",
      "        '0.034*\"business\" + 0.011*\"project\" + 0.010*\"experience\" + '\n",
      "        '0.008*\"work\" + 0.007*\"management\" + 0.007*\"data\" + '\n",
      "        '0.007*\"requirements\" + 0.007*\"support\" + 0.007*\"ability\" + '\n",
      "        '0.006*\"skills\"'),\n",
      "    (   2,\n",
      "        '0.034*\"business\" + 0.018*\"experience\" + 0.017*\"data\" + 0.009*\"years\" '\n",
      "        '+ 0.009*\"analyst\" + 0.007*\"requirements\" + 0.007*\"work\" + '\n",
      "        '0.006*\"skills\" + 0.006*\"analysis\" + 0.006*\"working\"')]\n"
     ]
    },
    {
     "data": {
      "text/plain": [
       "[('business', 0.038985834),\n",
       " ('experience', 0.01425201),\n",
       " ('requirements', 0.013879435),\n",
       " ('work', 0.010249482),\n",
       " ('project', 0.010036753),\n",
       " ('data', 0.0094878385),\n",
       " ('technical', 0.008223996),\n",
       " ('team', 0.007774335),\n",
       " ('management', 0.0074313194),\n",
       " ('development', 0.007166406)]"
      ]
     },
     "execution_count": 4,
     "metadata": {},
     "output_type": "execute_result"
    }
   ],
   "source": [
    "lda(df_BA).show_topic(0)"
   ]
  },
  {
   "cell_type": "code",
   "execution_count": 5,
   "metadata": {},
   "outputs": [
    {
     "name": "stdout",
     "output_type": "stream",
     "text": [
      "[   (   0,\n",
      "        '0.085*\"data\" + 0.022*\"experience\" + 0.017*\"statistical\" + '\n",
      "        '0.014*\"business\" + 0.012*\"management\" + 0.011*\"information\" + '\n",
      "        '0.010*\"analysis\" + 0.008*\"knowledge\" + 0.008*\"analyst\" + '\n",
      "        '0.008*\"work\"'),\n",
      "    (   1,\n",
      "        '0.049*\"data\" + 0.017*\"business\" + 0.013*\"experience\" + 0.010*\"work\" + '\n",
      "        '0.007*\"years\" + 0.007*\"analysis\" + 0.006*\"reporting\" + '\n",
      "        '0.006*\"ability\" + 0.006*\"team\" + 0.005*\"skills\"'),\n",
      "    (   2,\n",
      "        '0.015*\"data\" + 0.011*\"experience\" + 0.007*\"work\" + 0.007*\"years\" + '\n",
      "        '0.007*\"employment\" + 0.006*\"support\" + 0.006*\"national\" + '\n",
      "        '0.006*\"applicants\" + 0.006*\"protected\" + 0.005*\"information\"')]\n"
     ]
    },
    {
     "data": {
      "text/plain": [
       "[('data', 0.08456503),\n",
       " ('experience', 0.022313017),\n",
       " ('statistical', 0.016530758),\n",
       " ('business', 0.014226782),\n",
       " ('management', 0.012244571),\n",
       " ('information', 0.011141785),\n",
       " ('analysis', 0.009537577),\n",
       " ('knowledge', 0.008077953),\n",
       " ('analyst', 0.007913484),\n",
       " ('work', 0.0077205147)]"
      ]
     },
     "execution_count": 5,
     "metadata": {},
     "output_type": "execute_result"
    }
   ],
   "source": [
    "lda(df_DA).show_topic(0)"
   ]
  },
  {
   "cell_type": "code",
   "execution_count": 6,
   "metadata": {},
   "outputs": [
    {
     "name": "stdout",
     "output_type": "stream",
     "text": [
      "[   (   0,\n",
      "        '0.031*\"data\" + 0.017*\"experience\" + 0.010*\"machine\" + '\n",
      "        '0.009*\"learning\" + 0.009*\"business\" + 0.009*\"work\" + 0.007*\"years\" + '\n",
      "        '0.006*\"science\" + 0.005*\"models\" + 0.005*\"software\"'),\n",
      "    (   1,\n",
      "        '0.052*\"data\" + 0.017*\"experience\" + 0.014*\"business\" + '\n",
      "        '0.009*\"machine\" + 0.008*\"statistical\" + 0.008*\"learning\" + '\n",
      "        '0.008*\"years\" + 0.007*\"science\" + 0.007*\"work\" + 0.007*\"team\"'),\n",
      "    (   2,\n",
      "        '0.025*\"data\" + 0.014*\"quantum\" + 0.011*\"science\" + 0.009*\"work\" + '\n",
      "        '0.009*\"business\" + 0.007*\"including\" + 0.006*\"best\" + '\n",
      "        '0.006*\"development\" + 0.006*\"knowledge\" + 0.005*\"experience\"')]\n"
     ]
    },
    {
     "data": {
      "text/plain": [
       "[('data', 0.030576607),\n",
       " ('experience', 0.01705175),\n",
       " ('machine', 0.009827084),\n",
       " ('learning', 0.0094086155),\n",
       " ('business', 0.008922758),\n",
       " ('work', 0.008920261),\n",
       " ('years', 0.006687694),\n",
       " ('science', 0.0059193494),\n",
       " ('models', 0.005322647),\n",
       " ('software', 0.0050646085)]"
      ]
     },
     "execution_count": 6,
     "metadata": {},
     "output_type": "execute_result"
    }
   ],
   "source": [
    "lda(df_DS).show_topic(0)"
   ]
  },
  {
   "cell_type": "code",
   "execution_count": 7,
   "metadata": {},
   "outputs": [
    {
     "name": "stdout",
     "output_type": "stream",
     "text": [
      "[   (   0,\n",
      "        '0.055*\"data\" + 0.013*\"experience\" + 0.009*\"business\" + 0.008*\"work\" + '\n",
      "        '0.007*\"big\" + 0.006*\"team\" + 0.006*\"working\" + 0.005*\"tools\" + '\n",
      "        '0.005*\"solutions\" + 0.005*\"machine\"'),\n",
      "    (   1,\n",
      "        '0.044*\"data\" + 0.023*\"experience\" + 0.013*\"years\" + 0.009*\"business\" '\n",
      "        '+ 0.008*\"work\" + 0.006*\"development\" + 0.005*\"tools\" + 0.005*\"team\" + '\n",
      "        '0.005*\"knowledge\" + 0.005*\"related\"'),\n",
      "    (   2,\n",
      "        '0.077*\"data\" + 0.026*\"experience\" + 0.011*\"business\" + 0.010*\"years\" '\n",
      "        '+ 0.009*\"working\" + 0.007*\"work\" + 0.007*\"technical\" + '\n",
      "        '0.007*\"development\" + 0.007*\"sql\" + 0.006*\"engineering\"')]\n"
     ]
    },
    {
     "data": {
      "text/plain": [
       "[('data', 0.05500107),\n",
       " ('experience', 0.013208854),\n",
       " ('business', 0.0092524635),\n",
       " ('work', 0.007829296),\n",
       " ('big', 0.007010994),\n",
       " ('team', 0.0062527545),\n",
       " ('working', 0.005869065),\n",
       " ('tools', 0.00485724),\n",
       " ('solutions', 0.00467186),\n",
       " ('machine', 0.0045895404)]"
      ]
     },
     "execution_count": 7,
     "metadata": {},
     "output_type": "execute_result"
    }
   ],
   "source": [
    "lda(df_DE).show_topic(0)"
   ]
  },
  {
   "cell_type": "code",
   "execution_count": null,
   "metadata": {},
   "outputs": [],
   "source": []
  },
  {
   "cell_type": "markdown",
   "metadata": {},
   "source": [
    "# LDA Ver2"
   ]
  },
  {
   "cell_type": "code",
   "execution_count": 3,
   "metadata": {},
   "outputs": [],
   "source": [
    "df_BA=pd.read_csv('BA')"
   ]
  },
  {
   "cell_type": "code",
   "execution_count": 10,
   "metadata": {},
   "outputs": [],
   "source": [
    "l1=[]\n",
    "for i in df_BA.index:\n",
    "    sents=df_BA.loc[i]['JD']\n",
    "    l1.append(sents.replace('\\n',''))\n",
    "    \n",
    "texts = [[word for word in story.lower().split()\n",
    "            if word not in STOPWORDS and word.isalnum()]\n",
    "            for story in l1]\n",
    "dictionary = corpora.Dictionary(texts)\n",
    "dictionary.filter_extremes(no_below=20,no_above=0.2, keep_n= 100000)\n",
    "corpus = [dictionary.doc2bow(text) for text in texts]"
   ]
  },
  {
   "cell_type": "code",
   "execution_count": 11,
   "metadata": {},
   "outputs": [
    {
     "name": "stdout",
     "output_type": "stream",
     "text": [
      "[   (   0,\n",
      "        '0.008*\"reporting\" + 0.008*\"financial\" + 0.006*\"client\" + '\n",
      "        '0.006*\"reports\" + 0.006*\"sap\" + 0.006*\"able\" + 0.005*\"senior\" + '\n",
      "        '0.005*\"sales\" + 0.005*\"operations\" + 0.005*\"applications\"'),\n",
      "    (   1,\n",
      "        '0.007*\"microsoft\" + 0.006*\"office\" + 0.005*\"existing\" + '\n",
      "        '0.005*\"training\" + 0.005*\"sql\" + 0.005*\"ms\" + 0.005*\"duties\" + '\n",
      "        '0.005*\"issues\" + 0.005*\"documents\" + 0.005*\"users\"'),\n",
      "    (   2,\n",
      "        '0.013*\"required\" + 0.012*\"agile\" + 0.008*\"solution\" + '\n",
      "        '0.007*\"acceptance\" + 0.006*\"time\" + 0.006*\"drive\" + 0.006*\"stories\" + '\n",
      "        '0.006*\"salesforce\" + 0.006*\"client\" + 0.005*\"high\"')]\n"
     ]
    }
   ],
   "source": [
    "lda = LdaModel(corpus,\n",
    "              id2word=dictionary,\n",
    "              num_topics=3,\n",
    "              passes=10)\n",
    "pp = pprint.PrettyPrinter(indent=4)\n",
    "pp.pprint(lda.print_topics(8))"
   ]
  },
  {
   "cell_type": "code",
   "execution_count": null,
   "metadata": {},
   "outputs": [],
   "source": []
  },
  {
   "cell_type": "code",
   "execution_count": null,
   "metadata": {},
   "outputs": [],
   "source": [
    "import spacy\n",
    "nlp = spacy.load('en_core_web_sm') \n",
    "# excluded tags\n",
    "excluded_tags = {\"VERB\", \"ADJ\", \"ADV\", \"ADP\"}\n",
    "\n",
    "l1=[]\n",
    "for i in df_BA.index:\n",
    "    sents=df_BA.loc[i]['JD']\n",
    "    l1.append(sents.split(\"\\n\"))\n",
    "\n",
    "sentences = l1[0]\n",
    "new_sentences = []\n",
    "for sentence in sentences:\n",
    "    new_sentence = []\n",
    "    for token in nlp(sentence):\n",
    "        if token.pos_ not in excluded_tags:\n",
    "            new_sentence.append(token.text)\n",
    "    new_sentences.append(\" \".join(new_sentence))"
   ]
  },
  {
   "cell_type": "code",
   "execution_count": null,
   "metadata": {},
   "outputs": [],
   "source": []
  },
  {
   "cell_type": "code",
   "execution_count": null,
   "metadata": {},
   "outputs": [],
   "source": [
    "\n"
   ]
  },
  {
   "cell_type": "markdown",
   "metadata": {},
   "source": [
    "# Match Topic to Document"
   ]
  },
  {
   "cell_type": "code",
   "execution_count": null,
   "metadata": {},
   "outputs": [],
   "source": [
    "from operator import itemgetter\n",
    "lda.get_document_topics(corpus_new[0],minimum_probability=0.05,per_word_topics=False)\n",
    "sorted(lda.get_document_topics(corpus_new[0],minimum_probability=0,per_word_topics=False),key=itemgetter(1),reverse=True)"
   ]
  }
 ],
 "metadata": {
  "kernelspec": {
   "display_name": "Python 3",
   "language": "python",
   "name": "python3"
  },
  "language_info": {
   "codemirror_mode": {
    "name": "ipython",
    "version": 3
   },
   "file_extension": ".py",
   "mimetype": "text/x-python",
   "name": "python",
   "nbconvert_exporter": "python",
   "pygments_lexer": "ipython3",
   "version": "3.8.8"
  }
 },
 "nbformat": 4,
 "nbformat_minor": 4
}
