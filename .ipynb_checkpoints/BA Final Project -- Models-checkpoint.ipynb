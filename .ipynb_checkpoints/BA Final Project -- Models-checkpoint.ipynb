{
 "cells": [
  {
   "cell_type": "code",
   "execution_count": 40,
   "metadata": {},
   "outputs": [],
   "source": [
    "import pandas as pd\n",
    "import numpy as np\n",
    "from sklearn.model_selection import train_test_split"
   ]
  },
  {
   "cell_type": "markdown",
   "metadata": {},
   "source": [
    "# Read In Data"
   ]
  },
  {
   "cell_type": "code",
   "execution_count": 41,
   "metadata": {},
   "outputs": [],
   "source": [
    "df_BA=pd.read_csv('BA')\n",
    "df_DS=pd.read_csv('DS')\n",
    "df_DA=pd.read_csv('DA')\n",
    "df_DE=pd.read_csv('DE')"
   ]
  },
  {
   "cell_type": "code",
   "execution_count": null,
   "metadata": {},
   "outputs": [],
   "source": []
  },
  {
   "cell_type": "markdown",
   "metadata": {},
   "source": [
    "# Sample and Split"
   ]
  },
  {
   "cell_type": "code",
   "execution_count": 51,
   "metadata": {},
   "outputs": [],
   "source": [
    "from sklearn.model_selection import train_test_split"
   ]
  },
  {
   "cell_type": "code",
   "execution_count": 52,
   "metadata": {},
   "outputs": [
    {
     "data": {
      "text/plain": [
       "(973, 1000, 1000, 1167)"
      ]
     },
     "execution_count": 52,
     "metadata": {},
     "output_type": "execute_result"
    }
   ],
   "source": [
    "len(df_DS),len(df_DA),len(df_BA),len(df_DE)"
   ]
  },
  {
   "cell_type": "code",
   "execution_count": 53,
   "metadata": {},
   "outputs": [],
   "source": [
    "df_DA=df_DA.sample(n=1000,replace=True)\n",
    "df_BA=df_BA.sample(n=1000,replace=True)"
   ]
  },
  {
   "cell_type": "code",
   "execution_count": 54,
   "metadata": {},
   "outputs": [
    {
     "data": {
      "text/plain": [
       "(973, 1000, 1000, 1167)"
      ]
     },
     "execution_count": 54,
     "metadata": {},
     "output_type": "execute_result"
    }
   ],
   "source": [
    "len(df_DS),len(df_DA),len(df_BA),len(df_DE)"
   ]
  },
  {
   "cell_type": "code",
   "execution_count": 55,
   "metadata": {},
   "outputs": [],
   "source": [
    "whole_list=[df_DA,df_DS,df_DE,df_BA]\n",
    "df_whole=pd.concat(whole_list)"
   ]
  },
  {
   "cell_type": "code",
   "execution_count": null,
   "metadata": {},
   "outputs": [],
   "source": []
  },
  {
   "cell_type": "markdown",
   "metadata": {},
   "source": [
    "# Models"
   ]
  },
  {
   "cell_type": "code",
   "execution_count": 81,
   "metadata": {},
   "outputs": [],
   "source": [
    "from sklearn.feature_extraction.text import CountVectorizer\n",
    "from sklearn.feature_extraction.text import TfidfTransformer\n",
    "from sklearn.metrics import classification_report,confusion_matrix\n",
    "from sklearn.tree import DecisionTreeClassifier\n",
    "from sklearn.model_selection import train_test_split"
   ]
  },
  {
   "cell_type": "code",
   "execution_count": null,
   "metadata": {},
   "outputs": [],
   "source": [
    "def evaluate_model(df,best,rf=False):\n",
    "    df_train, df_test = train_test_split(df, test_size = 0.3)\n",
    "    clean_train=df_train[\"clean\"]\n",
    "    Y_train=df_train[\"JT\"]\n",
    "    clean_test=df_test[\"clean\"]\n",
    "    Y_test=df_test[\"JT\"]\n",
    "\n",
    "    vectorizer = CountVectorizer().fit(df[\"clean\"])\n",
    "    clean_bow= vectorizer.transform(df[\"clean\"])\n",
    "    train_bow = vectorizer.transform(clean_train)\n",
    "    test_bow = vectorizer.transform(clean_test)\n",
    "    parameter=vectorizer.get_feature_names()\n",
    "    \n",
    "    tfidf_transformer = TfidfTransformer().fit(clean_bow)\n",
    "    X_train = tfidf_transformer.transform(train_bow)\n",
    "    X_test = tfidf_transformer.transform(test_bow)\n",
    "    \n",
    "    best.fit(X_train, Y_train)\n",
    "    predictions1 = best.predict(X_test)\n",
    "    print(classification_report(Y_test,predictions1))\n",
    "    if rf:\n",
    "        importances =best.feature_importances_\n",
    "        forest_importances = pd.Series(importances,index=parameter)\n",
    "        forest_importances=forest_importances.sort_values(ascending=False)[0:10]\n",
    "        ax=forest_importances.plot.barh(x='lab', y='val')\n",
    "        ax.invert_yaxis()\n",
    "    "
   ]
  },
  {
   "cell_type": "code",
   "execution_count": 82,
   "metadata": {},
   "outputs": [],
   "source": [
    "def encoding(name):\n",
    "    df=df_whole.copy()\n",
    "    df[\"NEWJT\"]= np.where(df[\"JT\"]==name,\"1\",\"0\")\n",
    "    df[\"JT\"]=df[\"NEWJT\"]\n",
    "    return df"
   ]
  },
  {
   "cell_type": "markdown",
   "metadata": {},
   "source": [
    "## Decision Tree"
   ]
  },
  {
   "cell_type": "code",
   "execution_count": 83,
   "metadata": {},
   "outputs": [
    {
     "name": "stdout",
     "output_type": "stream",
     "text": [
      "              precision    recall  f1-score   support\n",
      "\n",
      "          BA       0.86      0.87      0.86       305\n",
      "          DA       0.72      0.81      0.76       313\n",
      "          DE       0.82      0.75      0.78       326\n",
      "          DS       0.80      0.78      0.79       298\n",
      "\n",
      "    accuracy                           0.80      1242\n",
      "   macro avg       0.80      0.80      0.80      1242\n",
      "weighted avg       0.80      0.80      0.80      1242\n",
      "\n"
     ]
    },
    {
     "data": {
      "image/png": "[encoded data removed]",
      "text/plain": [
       "<Figure size 432x288 with 1 Axes>"
      ]
     },
     "metadata": {
      "needs_background": "light"
     },
     "output_type": "display_data"
    }
   ],
   "source": [
    "dtree = DecisionTreeClassifier()\n",
    "evaluate_model(df_whole,dtree,rf=True)"
   ]
  },
  {
   "cell_type": "markdown",
   "metadata": {},
   "source": [
    "## Random Forest"
   ]
  },
  {
   "cell_type": "code",
   "execution_count": 84,
   "metadata": {},
   "outputs": [
    {
     "data": {
      "text/plain": [
       "RandomForestClassifier(n_estimators=10)"
      ]
     },
     "execution_count": 84,
     "metadata": {},
     "output_type": "execute_result"
    }
   ],
   "source": [
    "from sklearn.ensemble import RandomForestClassifier\n",
    "rf = RandomForestClassifier(n_estimators=10)\n",
    "rf.fit(X_train,Y_train)"
   ]
  },
  {
   "cell_type": "code",
   "execution_count": 85,
   "metadata": {},
   "outputs": [],
   "source": [
    "# from sklearn.model_selection import GridSearchCV\n",
    "# parameters = {\n",
    "#      'n_estimators':(10, 50,100,150,200), #the number of trees\n",
    "#      'max_depth':(5,10,20,30,50,80),\n",
    "#      'min_samples_split': (2, 4, 8),\n",
    "#      'min_samples_leaf': (4,8,12,16)\n",
    "# }\n",
    "\n",
    "# model = GridSearchCV(RandomForestClassifier(),parameters,cv=3,iid=False)\n",
    "# model.fit(X_train, Y_train)\n",
    "# model.best_score_, model.best_params_"
   ]
  },
  {
   "cell_type": "code",
   "execution_count": 86,
   "metadata": {},
   "outputs": [],
   "source": [
    "b_model = RandomForestClassifier(max_depth=20,min_samples_leaf=4,min_samples_split=8,n_estimators=200)"
   ]
  },
  {
   "cell_type": "code",
   "execution_count": 87,
   "metadata": {},
   "outputs": [
    {
     "name": "stdout",
     "output_type": "stream",
     "text": [
      "              precision    recall  f1-score   support\n",
      "\n",
      "          BA       0.78      0.90      0.84       290\n",
      "          DA       0.76      0.69      0.73       308\n",
      "          DE       0.85      0.84      0.85       356\n",
      "          DS       0.83      0.80      0.81       288\n",
      "\n",
      "    accuracy                           0.81      1242\n",
      "   macro avg       0.81      0.81      0.81      1242\n",
      "weighted avg       0.81      0.81      0.81      1242\n",
      "\n"
     ]
    },
    {
     "data": {
      "image/png": "[encoded data removed]",
      "text/plain": [
       "<Figure size 432x288 with 1 Axes>"
      ]
     },
     "metadata": {
      "needs_background": "light"
     },
     "output_type": "display_data"
    }
   ],
   "source": [
    "evaluate_model(df_whole,b_model,rf=True)"
   ]
  },
  {
   "cell_type": "code",
   "execution_count": 88,
   "metadata": {},
   "outputs": [],
   "source": [
    "BA_model = encoding('BA')\n",
    "DE_model = encoding('DE')\n",
    "DS_model = encoding('DS')\n",
    "DA_model = encoding('DA')"
   ]
  },
  {
   "cell_type": "code",
   "execution_count": 89,
   "metadata": {},
   "outputs": [],
   "source": [
    "rf = RandomForestClassifier(n_estimators=10)"
   ]
  },
  {
   "cell_type": "code",
   "execution_count": 90,
   "metadata": {},
   "outputs": [
    {
     "name": "stdout",
     "output_type": "stream",
     "text": [
      "              precision    recall  f1-score   support\n",
      "\n",
      "           0       0.95      0.99      0.97       960\n",
      "           1       0.96      0.83      0.89       282\n",
      "\n",
      "    accuracy                           0.95      1242\n",
      "   macro avg       0.96      0.91      0.93      1242\n",
      "weighted avg       0.96      0.95      0.95      1242\n",
      "\n"
     ]
    },
    {
     "data": {
      "image/png": "[encoded data removed]",
      "text/plain": [
       "<Figure size 432x288 with 1 Axes>"
      ]
     },
     "metadata": {
      "needs_background": "light"
     },
     "output_type": "display_data"
    }
   ],
   "source": [
    "evaluate_model(BA_model,rf,rf=True)"
   ]
  },
  {
   "cell_type": "code",
   "execution_count": 91,
   "metadata": {},
   "outputs": [
    {
     "name": "stdout",
     "output_type": "stream",
     "text": [
      "              precision    recall  f1-score   support\n",
      "\n",
      "           0       0.91      0.96      0.93       930\n",
      "           1       0.86      0.71      0.78       312\n",
      "\n",
      "    accuracy                           0.90      1242\n",
      "   macro avg       0.89      0.84      0.86      1242\n",
      "weighted avg       0.90      0.90      0.90      1242\n",
      "\n"
     ]
    },
    {
     "data": {
      "image/png": "[encoded data removed]",
      "text/plain": [
       "<Figure size 432x288 with 1 Axes>"
      ]
     },
     "metadata": {
      "needs_background": "light"
     },
     "output_type": "display_data"
    }
   ],
   "source": [
    "evaluate_model(DA_model,rf,rf=True)"
   ]
  },
  {
   "cell_type": "code",
   "execution_count": 92,
   "metadata": {},
   "outputs": [
    {
     "name": "stdout",
     "output_type": "stream",
     "text": [
      "              precision    recall  f1-score   support\n",
      "\n",
      "           0       0.92      0.98      0.95       947\n",
      "           1       0.92      0.73      0.82       295\n",
      "\n",
      "    accuracy                           0.92      1242\n",
      "   macro avg       0.92      0.86      0.88      1242\n",
      "weighted avg       0.92      0.92      0.92      1242\n",
      "\n"
     ]
    },
    {
     "data": {
      "image/png": "[encoded data removed]",
      "text/plain": [
       "<Figure size 432x288 with 1 Axes>"
      ]
     },
     "metadata": {
      "needs_background": "light"
     },
     "output_type": "display_data"
    }
   ],
   "source": [
    "evaluate_model(DS_model,rf,rf=True)"
   ]
  },
  {
   "cell_type": "code",
   "execution_count": 93,
   "metadata": {},
   "outputs": [
    {
     "name": "stdout",
     "output_type": "stream",
     "text": [
      "              precision    recall  f1-score   support\n",
      "\n",
      "           0       0.91      0.97      0.94       884\n",
      "           1       0.91      0.75      0.82       358\n",
      "\n",
      "    accuracy                           0.91      1242\n",
      "   macro avg       0.91      0.86      0.88      1242\n",
      "weighted avg       0.91      0.91      0.90      1242\n",
      "\n"
     ]
    },
    {
     "data": {
      "image/png": "[encoded data removed]",
      "text/plain": [
       "<Figure size 432x288 with 1 Axes>"
      ]
     },
     "metadata": {
      "needs_background": "light"
     },
     "output_type": "display_data"
    }
   ],
   "source": [
    "evaluate_model(DE_model,rf,rf=True)"
   ]
  },
  {
   "cell_type": "markdown",
   "metadata": {},
   "source": [
    "## Bagging"
   ]
  },
  {
   "cell_type": "code",
   "execution_count": 94,
   "metadata": {},
   "outputs": [],
   "source": [
    "from sklearn.ensemble import BaggingClassifier\n",
    "# parameters = {\n",
    "#      'n_estimators':(30, 50,80), #the number of trees\n",
    "#      'max_samples':(20,40,60,80,100,120,150,200),\n",
    "#      'max_features':(20,40,60,80,100,120,150,200),\n",
    "     \n",
    "# }\n",
    "\n",
    "# model = GridSearchCV(BaggingClassifier(),parameters,cv=3,iid=False)\n",
    "# model.fit(X_train, Y_train)\n",
    "# model.best_score_, model.best_params_"
   ]
  },
  {
   "cell_type": "code",
   "execution_count": 30,
   "metadata": {},
   "outputs": [
    {
     "name": "stdout",
     "output_type": "stream",
     "text": [
      "              precision    recall  f1-score   support\n",
      "\n",
      "          BA       0.71      0.84      0.77       287\n",
      "          DA       0.67      0.58      0.62       316\n",
      "          DE       0.81      0.79      0.80       345\n",
      "          DS       0.78      0.77      0.78       294\n",
      "\n",
      "    accuracy                           0.75      1242\n",
      "   macro avg       0.74      0.75      0.74      1242\n",
      "weighted avg       0.75      0.75      0.74      1242\n",
      "\n"
     ]
    }
   ],
   "source": [
    "bg_model=BaggingClassifier(max_features=120,max_samples=200,n_estimators=80)\n",
    "evaluate_model(bg_model)"
   ]
  },
  {
   "cell_type": "code",
   "execution_count": 96,
   "metadata": {},
   "outputs": [],
   "source": [
    "bg=BaggingClassifier()"
   ]
  },
  {
   "cell_type": "code",
   "execution_count": 98,
   "metadata": {},
   "outputs": [
    {
     "name": "stdout",
     "output_type": "stream",
     "text": [
      "              precision    recall  f1-score   support\n",
      "\n",
      "           0       0.95      0.97      0.96       936\n",
      "           1       0.90      0.85      0.87       306\n",
      "\n",
      "    accuracy                           0.94      1242\n",
      "   macro avg       0.93      0.91      0.92      1242\n",
      "weighted avg       0.94      0.94      0.94      1242\n",
      "\n"
     ]
    }
   ],
   "source": [
    "evaluate_model(BA_model,bg)"
   ]
  },
  {
   "cell_type": "code",
   "execution_count": 99,
   "metadata": {},
   "outputs": [
    {
     "name": "stdout",
     "output_type": "stream",
     "text": [
      "              precision    recall  f1-score   support\n",
      "\n",
      "           0       0.93      0.95      0.94       936\n",
      "           1       0.82      0.77      0.79       306\n",
      "\n",
      "    accuracy                           0.90      1242\n",
      "   macro avg       0.87      0.86      0.86      1242\n",
      "weighted avg       0.90      0.90      0.90      1242\n",
      "\n"
     ]
    }
   ],
   "source": [
    "evaluate_model(DA_model,bg)"
   ]
  },
  {
   "cell_type": "code",
   "execution_count": null,
   "metadata": {},
   "outputs": [],
   "source": [
    "#conda install -c conda-forge skater"
   ]
  },
  {
   "cell_type": "code",
   "execution_count": null,
   "metadata": {},
   "outputs": [],
   "source": [
    "from sklearn.pipeline import Pipeline\n",
    "pipelines = Pipeline([\n",
    "    ('bow', CountVectorizer()),  # strings to token integer counts\n",
    "    ('tfidf', TfidfTransformer()),  # integer counts to weighted TF-IDF scores\n",
    "    ('classifier', DecisionTreeClassifier()),  # train on TF-IDF vectors w/ Naive Bayes classifier\n",
    "])"
   ]
  },
  {
   "cell_type": "code",
   "execution_count": null,
   "metadata": {},
   "outputs": [],
   "source": [
    "%matplotlib inline\n",
    "import warnings\n",
    "warnings.filterwarnings('ignore')\n",
    "import matplotlib.pyplot as plt\n",
    "from skater.model import InMemoryModel\n",
    "from skater.core.explanations import Interpretation\n",
    "transfromed_x_test = vectorizer.transform(clean_train).toarray()\n",
    "interpreter = Interpretation(transfromed_x_test, feature_names=vectorizer.get_feature_names())\n",
    "for pipeline in pipelines:\n",
    "    print('-' * 50)\n",
    "    #print('Estimator: %s' % (pipeline['name']))\n",
    "    \n",
    "    if pipeline['name'] in ['Logistic Regression', 'Random Forest']:\n",
    "        estimator = pipeline['pipeline'].steps[1][1]\n",
    "    else:\n",
    "        continue\n",
    "        \n",
    "    print(estimator)\n",
    "        \n",
    "    pyint_model = InMemoryModel(estimator.predict_proba, examples=transfromed_x_test)\n",
    "    \n",
    "    f, axes = plt.subplots(1, 1, figsize = (26, 18))\n",
    "    ax = axes\n",
    "    interpreter.feature_importance.plot_feature_importance(pyint_model, ascending=False, ax=ax)\n",
    "    plt.show()"
   ]
  },
  {
   "cell_type": "code",
   "execution_count": null,
   "metadata": {},
   "outputs": [],
   "source": []
  },
  {
   "cell_type": "code",
   "execution_count": null,
   "metadata": {},
   "outputs": [],
   "source": []
  }
 ],
 "metadata": {
  "kernelspec": {
   "display_name": "Python 3",
   "language": "python",
   "name": "python3"
  },
  "language_info": {
   "codemirror_mode": {
    "name": "ipython",
    "version": 3
   },
   "file_extension": ".py",
   "mimetype": "text/x-python",
   "name": "python",
   "nbconvert_exporter": "python",
   "pygments_lexer": "ipython3",
   "version": "3.8.5"
  }
 },
 "nbformat": 4,
 "nbformat_minor": 4
}
