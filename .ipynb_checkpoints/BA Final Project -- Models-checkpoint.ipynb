{
 "cells": [
  {
   "cell_type": "code",
   "execution_count": 20,
   "metadata": {},
   "outputs": [],
   "source": [
    "import pandas as pd\n",
    "import numpy as np\n",
    "from sklearn.model_selection import train_test_split"
   ]
  },
  {
   "cell_type": "markdown",
   "metadata": {},
   "source": [
    "# Read In Data"
   ]
  },
  {
   "cell_type": "code",
   "execution_count": 21,
   "metadata": {},
   "outputs": [],
   "source": [
    "df_BA=pd.read_csv('BA')\n",
    "df_DS=pd.read_csv('DS')\n",
    "df_DA=pd.read_csv('DA')\n",
    "df_DE=pd.read_csv('DE')"
   ]
  },
  {
   "cell_type": "markdown",
   "metadata": {},
   "source": [
    "# Sample and Split"
   ]
  },
  {
   "cell_type": "code",
   "execution_count": 22,
   "metadata": {},
   "outputs": [],
   "source": [
    "from sklearn.model_selection import train_test_split"
   ]
  },
  {
   "cell_type": "code",
   "execution_count": 23,
   "metadata": {},
   "outputs": [
    {
     "data": {
      "text/plain": [
       "(973, 3983, 1663, 1167)"
      ]
     },
     "execution_count": 23,
     "metadata": {},
     "output_type": "execute_result"
    }
   ],
   "source": [
    "len(df_DS),len(df_DA),len(df_BA),len(df_DE)"
   ]
  },
  {
   "cell_type": "code",
   "execution_count": 24,
   "metadata": {},
   "outputs": [],
   "source": [
    "df_DA=df_DA.sample(n=1000,replace=True)\n",
    "df_BA=df_BA.sample(n=1000,replace=True)"
   ]
  },
  {
   "cell_type": "code",
   "execution_count": 25,
   "metadata": {},
   "outputs": [
    {
     "data": {
      "text/plain": [
       "(973, 1000, 1000, 1167)"
      ]
     },
     "execution_count": 25,
     "metadata": {},
     "output_type": "execute_result"
    }
   ],
   "source": [
    "len(df_DS),len(df_DA),len(df_BA),len(df_DE)"
   ]
  },
  {
   "cell_type": "code",
   "execution_count": 26,
   "metadata": {},
   "outputs": [],
   "source": [
    "whole_list=[df_DA,df_DS,df_DE,df_BA]\n",
    "df_whole=pd.concat(whole_list)"
   ]
  },
  {
   "cell_type": "code",
   "execution_count": 27,
   "metadata": {},
   "outputs": [
    {
     "data": {
      "text/html": [
       "<div>\n",
       "<style scoped>\n",
       "    .dataframe tbody tr th:only-of-type {\n",
       "        vertical-align: middle;\n",
       "    }\n",
       "\n",
       "    .dataframe tbody tr th {\n",
       "        vertical-align: top;\n",
       "    }\n",
       "\n",
       "    .dataframe thead th {\n",
       "        text-align: right;\n",
       "    }\n",
       "</style>\n",
       "<table border=\"1\" class=\"dataframe\">\n",
       "  <thead>\n",
       "    <tr style=\"text-align: right;\">\n",
       "      <th></th>\n",
       "      <th>JT</th>\n",
       "      <th>JD</th>\n",
       "      <th>tool_list</th>\n",
       "      <th>skill_list</th>\n",
       "      <th>degree_list</th>\n",
       "      <th>clean</th>\n",
       "    </tr>\n",
       "  </thead>\n",
       "  <tbody>\n",
       "    <tr>\n",
       "      <th>2519</th>\n",
       "      <td>DA</td>\n",
       "      <td>Job Title\\nSales Operations Data Analyst\\nTroy...</td>\n",
       "      <td>['salesforc', 'excel', 'microsoft']</td>\n",
       "      <td>['analyz', 'data', 'optim', 'busi', 'econom']</td>\n",
       "      <td>1.0</td>\n",
       "      <td>['salesforc', 'excel', 'microsoft', 'analyz', ...</td>\n",
       "    </tr>\n",
       "    <tr>\n",
       "      <th>1711</th>\n",
       "      <td>DA</td>\n",
       "      <td>Job SummaryAmentum is actively seeking a Junio...</td>\n",
       "      <td>[None]</td>\n",
       "      <td>['data', 'data mining', 'forecast']</td>\n",
       "      <td>1.0</td>\n",
       "      <td>['data', 'data mining', 'forecast']</td>\n",
       "    </tr>\n",
       "    <tr>\n",
       "      <th>3308</th>\n",
       "      <td>DA</td>\n",
       "      <td>This position has two major roles, Data Transf...</td>\n",
       "      <td>['sql', 'excel', 'microsoft', 'oracl']</td>\n",
       "      <td>['research', 'data']</td>\n",
       "      <td>999.0</td>\n",
       "      <td>['sql', 'excel', 'microsoft', 'oracl', 'resear...</td>\n",
       "    </tr>\n",
       "    <tr>\n",
       "      <th>2046</th>\n",
       "      <td>DA</td>\n",
       "      <td>The Data Analyst will assist the office in com...</td>\n",
       "      <td>['excel', 'microsoft']</td>\n",
       "      <td>['data', 'analyz']</td>\n",
       "      <td>999.0</td>\n",
       "      <td>['excel', 'microsoft', 'data', 'analyz']</td>\n",
       "    </tr>\n",
       "    <tr>\n",
       "      <th>837</th>\n",
       "      <td>DA</td>\n",
       "      <td>Data Analyst SAS ProgrammerDescription:\\nTA-On...</td>\n",
       "      <td>['r', 'python', 'sa', 'excel', 'shini']</td>\n",
       "      <td>['graph', 'end user', 'data', 'hypothesi', 'ac...</td>\n",
       "      <td>1.0</td>\n",
       "      <td>['r', 'python', 'sa', 'excel', 'shini', 'graph...</td>\n",
       "    </tr>\n",
       "    <tr>\n",
       "      <th>...</th>\n",
       "      <td>...</td>\n",
       "      <td>...</td>\n",
       "      <td>...</td>\n",
       "      <td>...</td>\n",
       "      <td>...</td>\n",
       "      <td>...</td>\n",
       "    </tr>\n",
       "    <tr>\n",
       "      <th>92</th>\n",
       "      <td>BA</td>\n",
       "      <td>This position entails creating trade and appli...</td>\n",
       "      <td>['sql', 'excel']</td>\n",
       "      <td>['busi', 'dashboard']</td>\n",
       "      <td>999.0</td>\n",
       "      <td>['sql', 'excel', 'busi', 'dashboard']</td>\n",
       "    </tr>\n",
       "    <tr>\n",
       "      <th>1169</th>\n",
       "      <td>BA</td>\n",
       "      <td>The candidate will work to bridge the gap betw...</td>\n",
       "      <td>['sql', 'oracl', 'microsoft']</td>\n",
       "      <td>['data', 'busi', 'account']</td>\n",
       "      <td>1.0</td>\n",
       "      <td>['sql', 'oracl', 'microsoft', 'data', 'busi', ...</td>\n",
       "    </tr>\n",
       "    <tr>\n",
       "      <th>338</th>\n",
       "      <td>BA</td>\n",
       "      <td>Space Division Business Analyst\\nEl Segundo, C...</td>\n",
       "      <td>[None]</td>\n",
       "      <td>['busi', 'commun']</td>\n",
       "      <td>1.0</td>\n",
       "      <td>['busi', 'commun']</td>\n",
       "    </tr>\n",
       "    <tr>\n",
       "      <th>655</th>\n",
       "      <td>BA</td>\n",
       "      <td>Successful outcomes start and finish with eNGI...</td>\n",
       "      <td>['excel', 'microsoft', 'javascript']</td>\n",
       "      <td>['busi', 'commun']</td>\n",
       "      <td>1.0</td>\n",
       "      <td>['excel', 'microsoft', 'javascript', 'busi', '...</td>\n",
       "    </tr>\n",
       "    <tr>\n",
       "      <th>1398</th>\n",
       "      <td>BA</td>\n",
       "      <td>This role Will be involved in BAT UAT and work...</td>\n",
       "      <td>[None]</td>\n",
       "      <td>[None]</td>\n",
       "      <td>999.0</td>\n",
       "      <td>[]</td>\n",
       "    </tr>\n",
       "  </tbody>\n",
       "</table>\n",
       "<p>4140 rows × 6 columns</p>\n",
       "</div>"
      ],
      "text/plain": [
       "      JT                                                 JD  \\\n",
       "2519  DA  Job Title\\nSales Operations Data Analyst\\nTroy...   \n",
       "1711  DA  Job SummaryAmentum is actively seeking a Junio...   \n",
       "3308  DA  This position has two major roles, Data Transf...   \n",
       "2046  DA  The Data Analyst will assist the office in com...   \n",
       "837   DA  Data Analyst SAS ProgrammerDescription:\\nTA-On...   \n",
       "...   ..                                                ...   \n",
       "92    BA  This position entails creating trade and appli...   \n",
       "1169  BA  The candidate will work to bridge the gap betw...   \n",
       "338   BA  Space Division Business Analyst\\nEl Segundo, C...   \n",
       "655   BA  Successful outcomes start and finish with eNGI...   \n",
       "1398  BA  This role Will be involved in BAT UAT and work...   \n",
       "\n",
       "                                    tool_list  \\\n",
       "2519      ['salesforc', 'excel', 'microsoft']   \n",
       "1711                                   [None]   \n",
       "3308   ['sql', 'excel', 'microsoft', 'oracl']   \n",
       "2046                   ['excel', 'microsoft']   \n",
       "837   ['r', 'python', 'sa', 'excel', 'shini']   \n",
       "...                                       ...   \n",
       "92                           ['sql', 'excel']   \n",
       "1169            ['sql', 'oracl', 'microsoft']   \n",
       "338                                    [None]   \n",
       "655      ['excel', 'microsoft', 'javascript']   \n",
       "1398                                   [None]   \n",
       "\n",
       "                                             skill_list  degree_list  \\\n",
       "2519      ['analyz', 'data', 'optim', 'busi', 'econom']          1.0   \n",
       "1711                ['data', 'data mining', 'forecast']          1.0   \n",
       "3308                               ['research', 'data']        999.0   \n",
       "2046                                 ['data', 'analyz']        999.0   \n",
       "837   ['graph', 'end user', 'data', 'hypothesi', 'ac...          1.0   \n",
       "...                                                 ...          ...   \n",
       "92                                ['busi', 'dashboard']        999.0   \n",
       "1169                        ['data', 'busi', 'account']          1.0   \n",
       "338                                  ['busi', 'commun']          1.0   \n",
       "655                                  ['busi', 'commun']          1.0   \n",
       "1398                                             [None]        999.0   \n",
       "\n",
       "                                                  clean  \n",
       "2519  ['salesforc', 'excel', 'microsoft', 'analyz', ...  \n",
       "1711                ['data', 'data mining', 'forecast']  \n",
       "3308  ['sql', 'excel', 'microsoft', 'oracl', 'resear...  \n",
       "2046           ['excel', 'microsoft', 'data', 'analyz']  \n",
       "837   ['r', 'python', 'sa', 'excel', 'shini', 'graph...  \n",
       "...                                                 ...  \n",
       "92                ['sql', 'excel', 'busi', 'dashboard']  \n",
       "1169  ['sql', 'oracl', 'microsoft', 'data', 'busi', ...  \n",
       "338                                  ['busi', 'commun']  \n",
       "655   ['excel', 'microsoft', 'javascript', 'busi', '...  \n",
       "1398                                                 []  \n",
       "\n",
       "[4140 rows x 6 columns]"
      ]
     },
     "execution_count": 27,
     "metadata": {},
     "output_type": "execute_result"
    }
   ],
   "source": [
    "df_whole"
   ]
  },
  {
   "cell_type": "code",
   "execution_count": 28,
   "metadata": {},
   "outputs": [],
   "source": [
    "from sklearn.model_selection import train_test_split\n",
    "df_train, df_test = train_test_split(df_whole, test_size = 0.3)\n",
    "clean_train=df_train[\"clean\"]\n",
    "Y_train=df_train[\"JT\"]\n",
    "clean_test=df_test[\"clean\"]\n",
    "Y_test=df_test[\"JT\"]"
   ]
  },
  {
   "cell_type": "code",
   "execution_count": null,
   "metadata": {},
   "outputs": [],
   "source": []
  },
  {
   "cell_type": "markdown",
   "metadata": {},
   "source": [
    "# Decision Tree/ Random Forest"
   ]
  },
  {
   "cell_type": "code",
   "execution_count": 29,
   "metadata": {},
   "outputs": [],
   "source": [
    "from sklearn.feature_extraction.text import CountVectorizer\n",
    "from sklearn.feature_extraction.text import TfidfTransformer\n",
    "from sklearn.metrics import classification_report,confusion_matrix\n",
    "from sklearn.tree import DecisionTreeClassifier"
   ]
  },
  {
   "cell_type": "code",
   "execution_count": 30,
   "metadata": {},
   "outputs": [],
   "source": [
    "vectorizer = CountVectorizer().fit(df_whole[\"clean\"])\n",
    "clean_bow= vectorizer.transform(df_whole[\"clean\"])\n",
    "train_bow = vectorizer.transform(clean_train)\n",
    "test_bow = vectorizer.transform(clean_test)"
   ]
  },
  {
   "cell_type": "code",
   "execution_count": 31,
   "metadata": {},
   "outputs": [
    {
     "name": "stdout",
     "output_type": "stream",
     "text": [
      "(2898, 226)\n"
     ]
    }
   ],
   "source": [
    "tfidf_transformer = TfidfTransformer().fit(clean_bow)\n",
    "X_train = tfidf_transformer.transform(train_bow)\n",
    "X_test = tfidf_transformer.transform(test_bow)\n",
    "print(X_train.shape)"
   ]
  },
  {
   "cell_type": "code",
   "execution_count": null,
   "metadata": {},
   "outputs": [],
   "source": []
  },
  {
   "cell_type": "code",
   "execution_count": 32,
   "metadata": {},
   "outputs": [
    {
     "data": {
      "text/plain": [
       "DecisionTreeClassifier()"
      ]
     },
     "execution_count": 32,
     "metadata": {},
     "output_type": "execute_result"
    }
   ],
   "source": [
    "dtree = DecisionTreeClassifier()\n",
    "dtree.fit(X_train,Y_train)"
   ]
  },
  {
   "cell_type": "code",
   "execution_count": 33,
   "metadata": {},
   "outputs": [
    {
     "name": "stdout",
     "output_type": "stream",
     "text": [
      "              precision    recall  f1-score   support\n",
      "\n",
      "          BA       0.76      0.86      0.80       308\n",
      "          DA       0.64      0.64      0.64       289\n",
      "          DE       0.82      0.77      0.79       358\n",
      "          DS       0.78      0.73      0.76       287\n",
      "\n",
      "    accuracy                           0.75      1242\n",
      "   macro avg       0.75      0.75      0.75      1242\n",
      "weighted avg       0.75      0.75      0.75      1242\n",
      "\n"
     ]
    }
   ],
   "source": [
    "predictions = dtree.predict(X_test)\n",
    "print(classification_report(Y_test,predictions))"
   ]
  },
  {
   "cell_type": "code",
   "execution_count": 35,
   "metadata": {},
   "outputs": [],
   "source": [
    "#conda install -c conda-forge skater"
   ]
  },
  {
   "cell_type": "code",
   "execution_count": 36,
   "metadata": {},
   "outputs": [],
   "source": [
    "from sklearn.pipeline import Pipeline\n",
    "\n",
    "pipelines = Pipeline([\n",
    "    ('bow', CountVectorizer()),  # strings to token integer counts\n",
    "    ('tfidf', TfidfTransformer()),  # integer counts to weighted TF-IDF scores\n",
    "    ('classifier', DecisionTreeClassifier()),  # train on TF-IDF vectors w/ Naive Bayes classifier\n",
    "])"
   ]
  },
  {
   "cell_type": "code",
   "execution_count": 37,
   "metadata": {},
   "outputs": [
    {
     "ename": "ModuleNotFoundError",
     "evalue": "No module named 'skater'",
     "output_type": "error",
     "traceback": [
      "\u001b[0;31m---------------------------------------------------------------------------\u001b[0m",
      "\u001b[0;31mModuleNotFoundError\u001b[0m                       Traceback (most recent call last)",
      "\u001b[0;32m<ipython-input-37-819de3089967>\u001b[0m in \u001b[0;36m<module>\u001b[0;34m\u001b[0m\n\u001b[1;32m      3\u001b[0m \u001b[0mwarnings\u001b[0m\u001b[0;34m.\u001b[0m\u001b[0mfilterwarnings\u001b[0m\u001b[0;34m(\u001b[0m\u001b[0;34m'ignore'\u001b[0m\u001b[0;34m)\u001b[0m\u001b[0;34m\u001b[0m\u001b[0;34m\u001b[0m\u001b[0m\n\u001b[1;32m      4\u001b[0m \u001b[0;32mimport\u001b[0m \u001b[0mmatplotlib\u001b[0m\u001b[0;34m.\u001b[0m\u001b[0mpyplot\u001b[0m \u001b[0;32mas\u001b[0m \u001b[0mplt\u001b[0m\u001b[0;34m\u001b[0m\u001b[0;34m\u001b[0m\u001b[0m\n\u001b[0;32m----> 5\u001b[0;31m \u001b[0;32mfrom\u001b[0m \u001b[0mskater\u001b[0m\u001b[0;34m.\u001b[0m\u001b[0mmodel\u001b[0m \u001b[0;32mimport\u001b[0m \u001b[0mInMemoryModel\u001b[0m\u001b[0;34m\u001b[0m\u001b[0;34m\u001b[0m\u001b[0m\n\u001b[0m\u001b[1;32m      6\u001b[0m \u001b[0;32mfrom\u001b[0m \u001b[0mskater\u001b[0m\u001b[0;34m.\u001b[0m\u001b[0mcore\u001b[0m\u001b[0;34m.\u001b[0m\u001b[0mexplanations\u001b[0m \u001b[0;32mimport\u001b[0m \u001b[0mInterpretation\u001b[0m\u001b[0;34m\u001b[0m\u001b[0;34m\u001b[0m\u001b[0m\n\u001b[1;32m      7\u001b[0m \u001b[0mtransfromed_x_test\u001b[0m \u001b[0;34m=\u001b[0m \u001b[0mvectorizer\u001b[0m\u001b[0;34m.\u001b[0m\u001b[0mtransform\u001b[0m\u001b[0;34m(\u001b[0m\u001b[0mclean_train\u001b[0m\u001b[0;34m)\u001b[0m\u001b[0;34m.\u001b[0m\u001b[0mtoarray\u001b[0m\u001b[0;34m(\u001b[0m\u001b[0;34m)\u001b[0m\u001b[0;34m\u001b[0m\u001b[0;34m\u001b[0m\u001b[0m\n",
      "\u001b[0;31mModuleNotFoundError\u001b[0m: No module named 'skater'"
     ]
    }
   ],
   "source": [
    "%matplotlib inline\n",
    "import warnings\n",
    "warnings.filterwarnings('ignore')\n",
    "import matplotlib.pyplot as plt\n",
    "from skater.model import InMemoryModel\n",
    "from skater.core.explanations import Interpretation\n",
    "transfromed_x_test = vectorizer.transform(clean_train).toarray()\n",
    "interpreter = Interpretation(transfromed_x_test, feature_names=vectorizer.get_feature_names())\n",
    "for pipeline in pipelines:\n",
    "    print('-' * 50)\n",
    "    #print('Estimator: %s' % (pipeline['name']))\n",
    "    \n",
    "    if pipeline['name'] in ['Logistic Regression', 'Random Forest']:\n",
    "        estimator = pipeline['pipeline'].steps[1][1]\n",
    "    else:\n",
    "        continue\n",
    "        \n",
    "    print(estimator)\n",
    "        \n",
    "    pyint_model = InMemoryModel(estimator.predict_proba, examples=transfromed_x_test)\n",
    "    \n",
    "    f, axes = plt.subplots(1, 1, figsize = (26, 18))\n",
    "    ax = axes\n",
    "    interpreter.feature_importance.plot_feature_importance(pyint_model, ascending=False, ax=ax)\n",
    "    plt.show()"
   ]
  },
  {
   "cell_type": "code",
   "execution_count": null,
   "metadata": {},
   "outputs": [],
   "source": []
  },
  {
   "cell_type": "code",
   "execution_count": null,
   "metadata": {},
   "outputs": [],
   "source": []
  }
 ],
 "metadata": {
  "kernelspec": {
   "display_name": "Python 3",
   "language": "python",
   "name": "python3"
  },
  "language_info": {
   "codemirror_mode": {
    "name": "ipython",
    "version": 3
   },
   "file_extension": ".py",
   "mimetype": "text/x-python",
   "name": "python",
   "nbconvert_exporter": "python",
   "pygments_lexer": "ipython3",
   "version": "3.8.5"
  }
 },
 "nbformat": 4,
 "nbformat_minor": 4
}
