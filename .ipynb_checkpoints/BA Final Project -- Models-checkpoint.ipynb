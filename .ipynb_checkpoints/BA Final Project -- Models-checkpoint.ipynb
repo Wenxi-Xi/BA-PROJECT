{
 "cells": [
  {
   "cell_type": "code",
   "execution_count": 1,
   "metadata": {},
   "outputs": [],
   "source": [
    "import pandas as pd\n",
    "import numpy as np\n",
    "from sklearn.model_selection import train_test_split"
   ]
  },
  {
   "cell_type": "markdown",
   "metadata": {},
   "source": [
    "# Read In Data"
   ]
  },
  {
   "cell_type": "code",
   "execution_count": 2,
   "metadata": {},
   "outputs": [],
   "source": [
    "df_BA=pd.read_csv('BA')\n",
    "df_DS=pd.read_csv('DS')\n",
    "df_DA=pd.read_csv('DA')\n",
    "df_DE=pd.read_csv('DE')"
   ]
  },
  {
   "cell_type": "code",
   "execution_count": null,
   "metadata": {},
   "outputs": [],
   "source": []
  },
  {
   "cell_type": "markdown",
   "metadata": {},
   "source": [
    "# Sample and Split"
   ]
  },
  {
   "cell_type": "code",
   "execution_count": 3,
   "metadata": {},
   "outputs": [],
   "source": [
    "from sklearn.model_selection import train_test_split"
   ]
  },
  {
   "cell_type": "code",
   "execution_count": 4,
   "metadata": {},
   "outputs": [
    {
     "data": {
      "text/plain": [
       "(973, 3983, 1663, 1167)"
      ]
     },
     "execution_count": 4,
     "metadata": {},
     "output_type": "execute_result"
    }
   ],
   "source": [
    "len(df_DS),len(df_DA),len(df_BA),len(df_DE)"
   ]
  },
  {
   "cell_type": "code",
   "execution_count": 5,
   "metadata": {},
   "outputs": [],
   "source": [
    "df_DA=df_DA.sample(n=1000,replace=True)\n",
    "df_BA=df_BA.sample(n=1000,replace=True)"
   ]
  },
  {
   "cell_type": "code",
   "execution_count": 6,
   "metadata": {},
   "outputs": [
    {
     "data": {
      "text/plain": [
       "(973, 1000, 1000, 1167)"
      ]
     },
     "execution_count": 6,
     "metadata": {},
     "output_type": "execute_result"
    }
   ],
   "source": [
    "len(df_DS),len(df_DA),len(df_BA),len(df_DE)"
   ]
  },
  {
   "cell_type": "code",
   "execution_count": 7,
   "metadata": {},
   "outputs": [],
   "source": [
    "whole_list=[df_DA,df_DS,df_DE,df_BA]\n",
    "df_whole=pd.concat(whole_list)"
   ]
  },
  {
   "cell_type": "code",
   "execution_count": 8,
   "metadata": {},
   "outputs": [
    {
     "data": {
      "text/html": [
       "<div>\n",
       "<style scoped>\n",
       "    .dataframe tbody tr th:only-of-type {\n",
       "        vertical-align: middle;\n",
       "    }\n",
       "\n",
       "    .dataframe tbody tr th {\n",
       "        vertical-align: top;\n",
       "    }\n",
       "\n",
       "    .dataframe thead th {\n",
       "        text-align: right;\n",
       "    }\n",
       "</style>\n",
       "<table border=\"1\" class=\"dataframe\">\n",
       "  <thead>\n",
       "    <tr style=\"text-align: right;\">\n",
       "      <th></th>\n",
       "      <th>JT</th>\n",
       "      <th>JD</th>\n",
       "      <th>tool_list</th>\n",
       "      <th>skill_list</th>\n",
       "      <th>degree_list</th>\n",
       "      <th>clean</th>\n",
       "    </tr>\n",
       "  </thead>\n",
       "  <tbody>\n",
       "    <tr>\n",
       "      <th>3803</th>\n",
       "      <td>DA</td>\n",
       "      <td>Immediate need for a talented Data Analyst wit...</td>\n",
       "      <td>['panda', 'sql', 'python']</td>\n",
       "      <td>['data']</td>\n",
       "      <td>999.0</td>\n",
       "      <td>['panda', 'sql', 'python', 'data']</td>\n",
       "    </tr>\n",
       "    <tr>\n",
       "      <th>2662</th>\n",
       "      <td>DA</td>\n",
       "      <td>Job duties/description\\nInterpret data, analyz...</td>\n",
       "      <td>['excel', 'sql', 'spss', 'javascript', 'sa']</td>\n",
       "      <td>['etl', 'data', 'analyz', 'clean', 'busi', 'st...</td>\n",
       "      <td>2.0</td>\n",
       "      <td>['excel', 'sql', 'spss', 'javascript', 'sa', '...</td>\n",
       "    </tr>\n",
       "    <tr>\n",
       "      <th>2315</th>\n",
       "      <td>DA</td>\n",
       "      <td>Entry Level Analyst | Cambridge, MA, United St...</td>\n",
       "      <td>['r', 'python', 'mysql']</td>\n",
       "      <td>['statist', 'segment']</td>\n",
       "      <td>1.0</td>\n",
       "      <td>['r', 'python', 'sql', 'statist', 'segment']</td>\n",
       "    </tr>\n",
       "    <tr>\n",
       "      <th>401</th>\n",
       "      <td>DA</td>\n",
       "      <td>In 2020, Tripaink will expand to 30 cities, op...</td>\n",
       "      <td>['power bi', 'excel', 'sql', 'bi', 'tableau', ...</td>\n",
       "      <td>['data modeling', 'etl', 'data mining', 'data'...</td>\n",
       "      <td>1.0</td>\n",
       "      <td>['powerbi', 'excel', 'sql', 'tableau', 'python...</td>\n",
       "    </tr>\n",
       "    <tr>\n",
       "      <th>1020</th>\n",
       "      <td>DA</td>\n",
       "      <td>Job #: 1074072\\nTitle: Data Analyst\\nDuration:...</td>\n",
       "      <td>['hive', 'd3', 'pig', 'perl', 'sql', 'matlab',...</td>\n",
       "      <td>['data modeling', 'data', 'analyz', 'dashboard...</td>\n",
       "      <td>2.0</td>\n",
       "      <td>['hive', 'd3', 'pig', 'perl', 'sql', 'matlab',...</td>\n",
       "    </tr>\n",
       "    <tr>\n",
       "      <th>...</th>\n",
       "      <td>...</td>\n",
       "      <td>...</td>\n",
       "      <td>...</td>\n",
       "      <td>...</td>\n",
       "      <td>...</td>\n",
       "      <td>...</td>\n",
       "    </tr>\n",
       "    <tr>\n",
       "      <th>120</th>\n",
       "      <td>BA</td>\n",
       "      <td>Job Title: Technical Business Analyst - Contra...</td>\n",
       "      <td>['jira', 'salesforc']</td>\n",
       "      <td>['data', 'busi']</td>\n",
       "      <td>1.0</td>\n",
       "      <td>['jira', 'salesforc', 'data', 'busi']</td>\n",
       "    </tr>\n",
       "    <tr>\n",
       "      <th>1635</th>\n",
       "      <td>BA</td>\n",
       "      <td>Requirement\\nCompare and validate potential 3r...</td>\n",
       "      <td>['sql']</td>\n",
       "      <td>['optim', 'busi']</td>\n",
       "      <td>2.0</td>\n",
       "      <td>['sql', 'optim', 'busi']</td>\n",
       "    </tr>\n",
       "    <tr>\n",
       "      <th>793</th>\n",
       "      <td>BA</td>\n",
       "      <td>Job descriptionPosition Purpose: Perform and l...</td>\n",
       "      <td>['excel', 'microsoft']</td>\n",
       "      <td>['risk', 'busi', 'data', 'healthcar']</td>\n",
       "      <td>1.0</td>\n",
       "      <td>['excel', 'microsoft', 'risk', 'busi', 'data',...</td>\n",
       "    </tr>\n",
       "    <tr>\n",
       "      <th>795</th>\n",
       "      <td>BA</td>\n",
       "      <td>Role: Junior Business Analyst\\nJob Summary\\nHe...</td>\n",
       "      <td>[None]</td>\n",
       "      <td>['busi', 'analyz']</td>\n",
       "      <td>2.0</td>\n",
       "      <td>['busi', 'analyz']</td>\n",
       "    </tr>\n",
       "    <tr>\n",
       "      <th>1317</th>\n",
       "      <td>BA</td>\n",
       "      <td>The AWS EC2 Compute Business Development (BD) ...</td>\n",
       "      <td>['ec2', 'redshift', 'excel', 'sql', 'bi', 'tab...</td>\n",
       "      <td>['etl', 'data mining', 'data', 'financ', 'pred...</td>\n",
       "      <td>1.0</td>\n",
       "      <td>['ec2', 'redshift', 'excel', 'sql', 'powerbi',...</td>\n",
       "    </tr>\n",
       "  </tbody>\n",
       "</table>\n",
       "<p>4140 rows × 6 columns</p>\n",
       "</div>"
      ],
      "text/plain": [
       "      JT                                                 JD  \\\n",
       "3803  DA  Immediate need for a talented Data Analyst wit...   \n",
       "2662  DA  Job duties/description\\nInterpret data, analyz...   \n",
       "2315  DA  Entry Level Analyst | Cambridge, MA, United St...   \n",
       "401   DA  In 2020, Tripaink will expand to 30 cities, op...   \n",
       "1020  DA  Job #: 1074072\\nTitle: Data Analyst\\nDuration:...   \n",
       "...   ..                                                ...   \n",
       "120   BA  Job Title: Technical Business Analyst - Contra...   \n",
       "1635  BA  Requirement\\nCompare and validate potential 3r...   \n",
       "793   BA  Job descriptionPosition Purpose: Perform and l...   \n",
       "795   BA  Role: Junior Business Analyst\\nJob Summary\\nHe...   \n",
       "1317  BA  The AWS EC2 Compute Business Development (BD) ...   \n",
       "\n",
       "                                              tool_list  \\\n",
       "3803                         ['panda', 'sql', 'python']   \n",
       "2662       ['excel', 'sql', 'spss', 'javascript', 'sa']   \n",
       "2315                           ['r', 'python', 'mysql']   \n",
       "401   ['power bi', 'excel', 'sql', 'bi', 'tableau', ...   \n",
       "1020  ['hive', 'd3', 'pig', 'perl', 'sql', 'matlab',...   \n",
       "...                                                 ...   \n",
       "120                               ['jira', 'salesforc']   \n",
       "1635                                            ['sql']   \n",
       "793                              ['excel', 'microsoft']   \n",
       "795                                              [None]   \n",
       "1317  ['ec2', 'redshift', 'excel', 'sql', 'bi', 'tab...   \n",
       "\n",
       "                                             skill_list  degree_list  \\\n",
       "3803                                           ['data']        999.0   \n",
       "2662  ['etl', 'data', 'analyz', 'clean', 'busi', 'st...          2.0   \n",
       "2315                             ['statist', 'segment']          1.0   \n",
       "401   ['data modeling', 'etl', 'data mining', 'data'...          1.0   \n",
       "1020  ['data modeling', 'data', 'analyz', 'dashboard...          2.0   \n",
       "...                                                 ...          ...   \n",
       "120                                    ['data', 'busi']          1.0   \n",
       "1635                                  ['optim', 'busi']          2.0   \n",
       "793               ['risk', 'busi', 'data', 'healthcar']          1.0   \n",
       "795                                  ['busi', 'analyz']          2.0   \n",
       "1317  ['etl', 'data mining', 'data', 'financ', 'pred...          1.0   \n",
       "\n",
       "                                                  clean  \n",
       "3803                 ['panda', 'sql', 'python', 'data']  \n",
       "2662  ['excel', 'sql', 'spss', 'javascript', 'sa', '...  \n",
       "2315       ['r', 'python', 'sql', 'statist', 'segment']  \n",
       "401   ['powerbi', 'excel', 'sql', 'tableau', 'python...  \n",
       "1020  ['hive', 'd3', 'pig', 'perl', 'sql', 'matlab',...  \n",
       "...                                                 ...  \n",
       "120               ['jira', 'salesforc', 'data', 'busi']  \n",
       "1635                           ['sql', 'optim', 'busi']  \n",
       "793   ['excel', 'microsoft', 'risk', 'busi', 'data',...  \n",
       "795                                  ['busi', 'analyz']  \n",
       "1317  ['ec2', 'redshift', 'excel', 'sql', 'powerbi',...  \n",
       "\n",
       "[4140 rows x 6 columns]"
      ]
     },
     "execution_count": 8,
     "metadata": {},
     "output_type": "execute_result"
    }
   ],
   "source": [
    "df_whole"
   ]
  },
  {
   "cell_type": "code",
   "execution_count": 9,
   "metadata": {},
   "outputs": [],
   "source": [
    "from sklearn.model_selection import train_test_split\n",
    "df_train, df_test = train_test_split(df_whole, test_size = 0.3)\n",
    "clean_train=df_train[\"clean\"]\n",
    "Y_train=df_train[\"JT\"]\n",
    "clean_test=df_test[\"clean\"]\n",
    "Y_test=df_test[\"JT\"]"
   ]
  },
  {
   "cell_type": "code",
   "execution_count": null,
   "metadata": {},
   "outputs": [],
   "source": []
  },
  {
   "cell_type": "markdown",
   "metadata": {},
   "source": [
    "# Models"
   ]
  },
  {
   "cell_type": "code",
   "execution_count": 10,
   "metadata": {},
   "outputs": [],
   "source": [
    "from sklearn.feature_extraction.text import CountVectorizer\n",
    "from sklearn.feature_extraction.text import TfidfTransformer\n",
    "from sklearn.metrics import classification_report,confusion_matrix\n",
    "from sklearn.tree import DecisionTreeClassifier"
   ]
  },
  {
   "cell_type": "code",
   "execution_count": 11,
   "metadata": {},
   "outputs": [
    {
     "name": "stdout",
     "output_type": "stream",
     "text": [
      "(2898, 226)\n"
     ]
    }
   ],
   "source": [
    "vectorizer = CountVectorizer().fit(df_whole[\"clean\"])\n",
    "clean_bow= vectorizer.transform(df_whole[\"clean\"])\n",
    "train_bow = vectorizer.transform(clean_train)\n",
    "test_bow = vectorizer.transform(clean_test)\n",
    "parameter=vectorizer.get_feature_names()\n",
    "print(train_bow.shape)"
   ]
  },
  {
   "cell_type": "code",
   "execution_count": 12,
   "metadata": {},
   "outputs": [
    {
     "name": "stdout",
     "output_type": "stream",
     "text": [
      "(2898, 226)\n"
     ]
    }
   ],
   "source": [
    "tfidf_transformer = TfidfTransformer().fit(clean_bow)\n",
    "X_train = tfidf_transformer.transform(train_bow)\n",
    "X_test = tfidf_transformer.transform(test_bow)\n",
    "print(X_train.shape)"
   ]
  },
  {
   "cell_type": "markdown",
   "metadata": {},
   "source": [
    "## Decision Tree"
   ]
  },
  {
   "cell_type": "code",
   "execution_count": 13,
   "metadata": {},
   "outputs": [],
   "source": [
    "def evaluate_model(best,rf=False):\n",
    "    best.fit(X_train, Y_train)\n",
    "    predictions1 = best.predict(X_test)\n",
    "    print(classification_report(Y_test,predictions1))\n",
    "    if rf:\n",
    "        importances =best.feature_importances_\n",
    "        forest_importances = pd.Series(importances,index=parameter)\n",
    "        forest_importances=forest_importances.sort_values(ascending=False)[0:10]\n",
    "        ax=forest_importances.plot.barh(x='lab', y='val')\n",
    "        ax.invert_yaxis()\n",
    "    "
   ]
  },
  {
   "cell_type": "code",
   "execution_count": 26,
   "metadata": {},
   "outputs": [
    {
     "name": "stdout",
     "output_type": "stream",
     "text": [
      "              precision    recall  f1-score   support\n",
      "\n",
      "          BA       0.73      0.89      0.80       287\n",
      "          DA       0.67      0.58      0.62       316\n",
      "          DE       0.79      0.75      0.77       345\n",
      "          DS       0.80      0.79      0.79       294\n",
      "\n",
      "    accuracy                           0.75      1242\n",
      "   macro avg       0.75      0.75      0.75      1242\n",
      "weighted avg       0.75      0.75      0.75      1242\n",
      "\n"
     ]
    },
    {
     "data": {
      "image/png": "[encoded data removed]",
      "text/plain": [
       "<Figure size 432x288 with 1 Axes>"
      ]
     },
     "metadata": {
      "needs_background": "light"
     },
     "output_type": "display_data"
    }
   ],
   "source": [
    "dtree = DecisionTreeClassifier()\n",
    "evaluate_model(dtree,rf=True)"
   ]
  },
  {
   "cell_type": "markdown",
   "metadata": {},
   "source": [
    "## Random Forest"
   ]
  },
  {
   "cell_type": "code",
   "execution_count": 27,
   "metadata": {},
   "outputs": [
    {
     "data": {
      "text/plain": [
       "RandomForestClassifier(n_estimators=10)"
      ]
     },
     "execution_count": 27,
     "metadata": {},
     "output_type": "execute_result"
    }
   ],
   "source": [
    "from sklearn.ensemble import RandomForestClassifier\n",
    "rf = RandomForestClassifier(n_estimators=10)\n",
    "rf.fit(X_train,Y_train)"
   ]
  },
  {
   "cell_type": "code",
   "execution_count": 28,
   "metadata": {},
   "outputs": [],
   "source": [
    "# from sklearn.model_selection import GridSearchCV\n",
    "# parameters = {\n",
    "#      'n_estimators':(10, 50,100,150,200), #the number of trees\n",
    "#      'max_depth':(5,10,20,30,50,80),\n",
    "#      'min_samples_split': (2, 4, 8),\n",
    "#      'min_samples_leaf': (4,8,12,16)\n",
    "# }\n",
    "\n",
    "# model = GridSearchCV(RandomForestClassifier(),parameters,cv=3,iid=False)\n",
    "# model.fit(X_train, Y_train)\n",
    "# model.best_score_, model.best_params_"
   ]
  },
  {
   "cell_type": "code",
   "execution_count": 22,
   "metadata": {},
   "outputs": [],
   "source": [
    "b_model = RandomForestClassifier(max_depth=20,min_samples_leaf=4,min_samples_split=8,n_estimators=200)"
   ]
  },
  {
   "cell_type": "code",
   "execution_count": 23,
   "metadata": {},
   "outputs": [
    {
     "name": "stdout",
     "output_type": "stream",
     "text": [
      "              precision    recall  f1-score   support\n",
      "\n",
      "          BA       0.72      0.88      0.79       287\n",
      "          DA       0.71      0.62      0.66       316\n",
      "          DE       0.84      0.83      0.83       345\n",
      "          DS       0.85      0.80      0.82       294\n",
      "\n",
      "    accuracy                           0.78      1242\n",
      "   macro avg       0.78      0.78      0.78      1242\n",
      "weighted avg       0.78      0.78      0.78      1242\n",
      "\n"
     ]
    },
    {
     "data": {
      "image/png": "[encoded data removed]",
      "text/plain": [
       "<Figure size 432x288 with 1 Axes>"
      ]
     },
     "metadata": {
      "needs_background": "light"
     },
     "output_type": "display_data"
    }
   ],
   "source": [
    "evaluate_model(b_model,rf=True)"
   ]
  },
  {
   "cell_type": "code",
   "execution_count": null,
   "metadata": {},
   "outputs": [],
   "source": []
  },
  {
   "cell_type": "markdown",
   "metadata": {},
   "source": [
    "## Bagging"
   ]
  },
  {
   "cell_type": "code",
   "execution_count": 29,
   "metadata": {},
   "outputs": [],
   "source": [
    "# from sklearn.ensemble import BaggingClassifier\n",
    "# parameters = {\n",
    "#      'n_estimators':(30, 50,80), #the number of trees\n",
    "#      'max_samples':(20,40,60,80,100,120,150,200),\n",
    "#      'max_features':(20,40,60,80,100,120,150,200),\n",
    "     \n",
    "# }\n",
    "\n",
    "# model = GridSearchCV(BaggingClassifier(),parameters,cv=3,iid=False)\n",
    "# model.fit(X_train, Y_train)\n",
    "# model.best_score_, model.best_params_"
   ]
  },
  {
   "cell_type": "code",
   "execution_count": 30,
   "metadata": {},
   "outputs": [
    {
     "name": "stdout",
     "output_type": "stream",
     "text": [
      "              precision    recall  f1-score   support\n",
      "\n",
      "          BA       0.71      0.84      0.77       287\n",
      "          DA       0.67      0.58      0.62       316\n",
      "          DE       0.81      0.79      0.80       345\n",
      "          DS       0.78      0.77      0.78       294\n",
      "\n",
      "    accuracy                           0.75      1242\n",
      "   macro avg       0.74      0.75      0.74      1242\n",
      "weighted avg       0.75      0.75      0.74      1242\n",
      "\n"
     ]
    }
   ],
   "source": [
    "bg_model=BaggingClassifier(max_features=120,max_samples=200,n_estimators=80)\n",
    "evaluate_model(bg_model)"
   ]
  },
  {
   "cell_type": "code",
   "execution_count": null,
   "metadata": {},
   "outputs": [],
   "source": []
  },
  {
   "cell_type": "code",
   "execution_count": null,
   "metadata": {},
   "outputs": [],
   "source": []
  },
  {
   "cell_type": "code",
   "execution_count": null,
   "metadata": {},
   "outputs": [],
   "source": []
  },
  {
   "cell_type": "code",
   "execution_count": null,
   "metadata": {},
   "outputs": [],
   "source": [
    "#conda install -c conda-forge skater"
   ]
  },
  {
   "cell_type": "code",
   "execution_count": null,
   "metadata": {},
   "outputs": [],
   "source": [
    "from sklearn.pipeline import Pipeline\n",
    "pipelines = Pipeline([\n",
    "    ('bow', CountVectorizer()),  # strings to token integer counts\n",
    "    ('tfidf', TfidfTransformer()),  # integer counts to weighted TF-IDF scores\n",
    "    ('classifier', DecisionTreeClassifier()),  # train on TF-IDF vectors w/ Naive Bayes classifier\n",
    "])"
   ]
  },
  {
   "cell_type": "code",
   "execution_count": null,
   "metadata": {},
   "outputs": [],
   "source": [
    "%matplotlib inline\n",
    "import warnings\n",
    "warnings.filterwarnings('ignore')\n",
    "import matplotlib.pyplot as plt\n",
    "from skater.model import InMemoryModel\n",
    "from skater.core.explanations import Interpretation\n",
    "transfromed_x_test = vectorizer.transform(clean_train).toarray()\n",
    "interpreter = Interpretation(transfromed_x_test, feature_names=vectorizer.get_feature_names())\n",
    "for pipeline in pipelines:\n",
    "    print('-' * 50)\n",
    "    #print('Estimator: %s' % (pipeline['name']))\n",
    "    \n",
    "    if pipeline['name'] in ['Logistic Regression', 'Random Forest']:\n",
    "        estimator = pipeline['pipeline'].steps[1][1]\n",
    "    else:\n",
    "        continue\n",
    "        \n",
    "    print(estimator)\n",
    "        \n",
    "    pyint_model = InMemoryModel(estimator.predict_proba, examples=transfromed_x_test)\n",
    "    \n",
    "    f, axes = plt.subplots(1, 1, figsize = (26, 18))\n",
    "    ax = axes\n",
    "    interpreter.feature_importance.plot_feature_importance(pyint_model, ascending=False, ax=ax)\n",
    "    plt.show()"
   ]
  },
  {
   "cell_type": "code",
   "execution_count": null,
   "metadata": {},
   "outputs": [],
   "source": []
  },
  {
   "cell_type": "code",
   "execution_count": null,
   "metadata": {},
   "outputs": [],
   "source": []
  }
 ],
 "metadata": {
  "kernelspec": {
   "display_name": "Python 3",
   "language": "python",
   "name": "python3"
  },
  "language_info": {
   "codemirror_mode": {
    "name": "ipython",
    "version": 3
   },
   "file_extension": ".py",
   "mimetype": "text/x-python",
   "name": "python",
   "nbconvert_exporter": "python",
   "pygments_lexer": "ipython3",
   "version": "3.8.5"
  }
 },
 "nbformat": 4,
 "nbformat_minor": 4
}
