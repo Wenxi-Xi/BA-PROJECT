{
 "cells": [
  {
   "cell_type": "code",
   "execution_count": 18,
   "metadata": {},
   "outputs": [],
   "source": [
    "import pandas as pd\n",
    "import numpy as np\n",
    "from sklearn.model_selection import train_test_split\n",
    "from nltk.corpus import stopwords\n",
    "from nltk.tokenize import word_tokenize"
   ]
  },
  {
   "cell_type": "markdown",
   "metadata": {},
   "source": [
    "# Read In Data"
   ]
  },
  {
   "cell_type": "code",
   "execution_count": 19,
   "metadata": {},
   "outputs": [],
   "source": [
    "df_BA=pd.read_csv('BA')\n",
    "df_DS=pd.read_csv('DS')\n",
    "df_DA=pd.read_csv('DA')\n",
    "df_DE=pd.read_csv('DE')"
   ]
  },
  {
   "cell_type": "code",
   "execution_count": 20,
   "metadata": {},
   "outputs": [
    {
     "data": {
      "text/html": [
       "<div>\n",
       "<style scoped>\n",
       "    .dataframe tbody tr th:only-of-type {\n",
       "        vertical-align: middle;\n",
       "    }\n",
       "\n",
       "    .dataframe tbody tr th {\n",
       "        vertical-align: top;\n",
       "    }\n",
       "\n",
       "    .dataframe thead th {\n",
       "        text-align: right;\n",
       "    }\n",
       "</style>\n",
       "<table border=\"1\" class=\"dataframe\">\n",
       "  <thead>\n",
       "    <tr style=\"text-align: right;\">\n",
       "      <th></th>\n",
       "      <th>JT</th>\n",
       "      <th>JD</th>\n",
       "      <th>tool_list</th>\n",
       "      <th>skill_list</th>\n",
       "      <th>degree_list</th>\n",
       "      <th>clean</th>\n",
       "      <th>lda_list</th>\n",
       "      <th>newlist</th>\n",
       "    </tr>\n",
       "  </thead>\n",
       "  <tbody>\n",
       "    <tr>\n",
       "      <th>0</th>\n",
       "      <td>BA</td>\n",
       "      <td>You will:\\nSupport agile team in translating e...</td>\n",
       "      <td>['excel']</td>\n",
       "      <td>['research', 'account', 'end user', 'analyz', ...</td>\n",
       "      <td>1.0</td>\n",
       "      <td>['excel', 'research', 'account', 'end user', '...</td>\n",
       "      <td>['medic', 'program', 'assist']</td>\n",
       "      <td>['excel', 'research', 'account', 'end user', '...</td>\n",
       "    </tr>\n",
       "    <tr>\n",
       "      <th>1</th>\n",
       "      <td>BA</td>\n",
       "      <td>If you enjoy working in a highly collaborative...</td>\n",
       "      <td>['salesforc', 'excel']</td>\n",
       "      <td>['account', 'econom', 'visual', 'financ', 'bus...</td>\n",
       "      <td>1.0</td>\n",
       "      <td>['salesforc', 'excel', 'account', 'econom', 'v...</td>\n",
       "      <td>['integr']</td>\n",
       "      <td>['salesforc', 'excel', 'account', 'econom', 'v...</td>\n",
       "    </tr>\n",
       "    <tr>\n",
       "      <th>2</th>\n",
       "      <td>BA</td>\n",
       "      <td>Excellence Delivered As Promised.\\nIt’s more t...</td>\n",
       "      <td>['excel']</td>\n",
       "      <td>['research', 'statist', 'recommend', 'kpi', 'e...</td>\n",
       "      <td>1.0</td>\n",
       "      <td>['excel', 'research', 'statist', 'recommend', ...</td>\n",
       "      <td>['challeng', 'parti', 'concis', 'engin', 'prog...</td>\n",
       "      <td>['excel', 'research', 'statist', 'recommend', ...</td>\n",
       "    </tr>\n",
       "    <tr>\n",
       "      <th>3</th>\n",
       "      <td>BA</td>\n",
       "      <td>This global practice supports clients in many ...</td>\n",
       "      <td>[None]</td>\n",
       "      <td>['research', 'statist', 'recommend', 'econom',...</td>\n",
       "      <td>1.0</td>\n",
       "      <td>['research', 'statist', 'recommend', 'econom',...</td>\n",
       "      <td>['challeng', 'assist', 'quantit', 'physic', 'c...</td>\n",
       "      <td>['research', 'statist', 'recommend', 'econom',...</td>\n",
       "    </tr>\n",
       "    <tr>\n",
       "      <th>4</th>\n",
       "      <td>BA</td>\n",
       "      <td>Business Analysts roles are targeted at gradua...</td>\n",
       "      <td>['excel', 'powerpoint']</td>\n",
       "      <td>['recommend', 'econom', 'commun', 'problem sol...</td>\n",
       "      <td>1.0</td>\n",
       "      <td>['excel', 'powerpoint', 'recommend', 'econom',...</td>\n",
       "      <td>['engin']</td>\n",
       "      <td>['excel', 'powerpoint', 'recommend', 'econom',...</td>\n",
       "    </tr>\n",
       "    <tr>\n",
       "      <th>...</th>\n",
       "      <td>...</td>\n",
       "      <td>...</td>\n",
       "      <td>...</td>\n",
       "      <td>...</td>\n",
       "      <td>...</td>\n",
       "      <td>...</td>\n",
       "      <td>...</td>\n",
       "      <td>...</td>\n",
       "    </tr>\n",
       "    <tr>\n",
       "      <th>1658</th>\n",
       "      <td>BA</td>\n",
       "      <td>Junior Business Analyst\\nAs the Business Analy...</td>\n",
       "      <td>[None]</td>\n",
       "      <td>['busi', 'analyz']</td>\n",
       "      <td>999.0</td>\n",
       "      <td>['busi', 'analyz']</td>\n",
       "      <td>[None]</td>\n",
       "      <td>['busi', 'analyz', None]</td>\n",
       "    </tr>\n",
       "    <tr>\n",
       "      <th>1659</th>\n",
       "      <td>BA</td>\n",
       "      <td>The Business Senior Analyst is an intermediate...</td>\n",
       "      <td>['sa', 'excel']</td>\n",
       "      <td>['account', 'commun', 'problem solving', 'busi...</td>\n",
       "      <td>1.0</td>\n",
       "      <td>['sa', 'excel', 'account', 'commun', 'problem ...</td>\n",
       "      <td>['program', 'challeng', 'techniqu', 'concis']</td>\n",
       "      <td>['sa', 'excel', 'account', 'commun', 'problem ...</td>\n",
       "    </tr>\n",
       "    <tr>\n",
       "      <th>1660</th>\n",
       "      <td>BA</td>\n",
       "      <td>Back to job search\\nBusiness Analyst - Loan IQ...</td>\n",
       "      <td>['excel']</td>\n",
       "      <td>['account', 'commun', 'financ', 'risk', 'busi']</td>\n",
       "      <td>999.0</td>\n",
       "      <td>['excel', 'account', 'commun', 'financ', 'risk...</td>\n",
       "      <td>['challeng', 'corpor', 'asset']</td>\n",
       "      <td>['excel', 'account', 'commun', 'financ', 'risk...</td>\n",
       "    </tr>\n",
       "    <tr>\n",
       "      <th>1661</th>\n",
       "      <td>BA</td>\n",
       "      <td>Junior Business Analyst\\nAs the Business Analy...</td>\n",
       "      <td>[None]</td>\n",
       "      <td>['busi', 'analyz']</td>\n",
       "      <td>999.0</td>\n",
       "      <td>['busi', 'analyz']</td>\n",
       "      <td>[None]</td>\n",
       "      <td>['busi', 'analyz', None]</td>\n",
       "    </tr>\n",
       "    <tr>\n",
       "      <th>1662</th>\n",
       "      <td>BA</td>\n",
       "      <td>Junior Business Analyst\\nAs the Business Analy...</td>\n",
       "      <td>[None]</td>\n",
       "      <td>['busi', 'analyz']</td>\n",
       "      <td>999.0</td>\n",
       "      <td>['busi', 'analyz']</td>\n",
       "      <td>[None]</td>\n",
       "      <td>['busi', 'analyz', None]</td>\n",
       "    </tr>\n",
       "  </tbody>\n",
       "</table>\n",
       "<p>1663 rows × 8 columns</p>\n",
       "</div>"
      ],
      "text/plain": [
       "      JT                                                 JD  \\\n",
       "0     BA  You will:\\nSupport agile team in translating e...   \n",
       "1     BA  If you enjoy working in a highly collaborative...   \n",
       "2     BA  Excellence Delivered As Promised.\\nIt’s more t...   \n",
       "3     BA  This global practice supports clients in many ...   \n",
       "4     BA  Business Analysts roles are targeted at gradua...   \n",
       "...   ..                                                ...   \n",
       "1658  BA  Junior Business Analyst\\nAs the Business Analy...   \n",
       "1659  BA  The Business Senior Analyst is an intermediate...   \n",
       "1660  BA  Back to job search\\nBusiness Analyst - Loan IQ...   \n",
       "1661  BA  Junior Business Analyst\\nAs the Business Analy...   \n",
       "1662  BA  Junior Business Analyst\\nAs the Business Analy...   \n",
       "\n",
       "                    tool_list  \\\n",
       "0                   ['excel']   \n",
       "1      ['salesforc', 'excel']   \n",
       "2                   ['excel']   \n",
       "3                      [None]   \n",
       "4     ['excel', 'powerpoint']   \n",
       "...                       ...   \n",
       "1658                   [None]   \n",
       "1659          ['sa', 'excel']   \n",
       "1660                ['excel']   \n",
       "1661                   [None]   \n",
       "1662                   [None]   \n",
       "\n",
       "                                             skill_list  degree_list  \\\n",
       "0     ['research', 'account', 'end user', 'analyz', ...          1.0   \n",
       "1     ['account', 'econom', 'visual', 'financ', 'bus...          1.0   \n",
       "2     ['research', 'statist', 'recommend', 'kpi', 'e...          1.0   \n",
       "3     ['research', 'statist', 'recommend', 'econom',...          1.0   \n",
       "4     ['recommend', 'econom', 'commun', 'problem sol...          1.0   \n",
       "...                                                 ...          ...   \n",
       "1658                                 ['busi', 'analyz']        999.0   \n",
       "1659  ['account', 'commun', 'problem solving', 'busi...          1.0   \n",
       "1660    ['account', 'commun', 'financ', 'risk', 'busi']        999.0   \n",
       "1661                                 ['busi', 'analyz']        999.0   \n",
       "1662                                 ['busi', 'analyz']        999.0   \n",
       "\n",
       "                                                  clean  \\\n",
       "0     ['excel', 'research', 'account', 'end user', '...   \n",
       "1     ['salesforc', 'excel', 'account', 'econom', 'v...   \n",
       "2     ['excel', 'research', 'statist', 'recommend', ...   \n",
       "3     ['research', 'statist', 'recommend', 'econom',...   \n",
       "4     ['excel', 'powerpoint', 'recommend', 'econom',...   \n",
       "...                                                 ...   \n",
       "1658                                 ['busi', 'analyz']   \n",
       "1659  ['sa', 'excel', 'account', 'commun', 'problem ...   \n",
       "1660  ['excel', 'account', 'commun', 'financ', 'risk...   \n",
       "1661                                 ['busi', 'analyz']   \n",
       "1662                                 ['busi', 'analyz']   \n",
       "\n",
       "                                               lda_list  \\\n",
       "0                        ['medic', 'program', 'assist']   \n",
       "1                                            ['integr']   \n",
       "2     ['challeng', 'parti', 'concis', 'engin', 'prog...   \n",
       "3     ['challeng', 'assist', 'quantit', 'physic', 'c...   \n",
       "4                                             ['engin']   \n",
       "...                                                 ...   \n",
       "1658                                             [None]   \n",
       "1659      ['program', 'challeng', 'techniqu', 'concis']   \n",
       "1660                    ['challeng', 'corpor', 'asset']   \n",
       "1661                                             [None]   \n",
       "1662                                             [None]   \n",
       "\n",
       "                                                newlist  \n",
       "0     ['excel', 'research', 'account', 'end user', '...  \n",
       "1     ['salesforc', 'excel', 'account', 'econom', 'v...  \n",
       "2     ['excel', 'research', 'statist', 'recommend', ...  \n",
       "3     ['research', 'statist', 'recommend', 'econom',...  \n",
       "4     ['excel', 'powerpoint', 'recommend', 'econom',...  \n",
       "...                                                 ...  \n",
       "1658                           ['busi', 'analyz', None]  \n",
       "1659  ['sa', 'excel', 'account', 'commun', 'problem ...  \n",
       "1660  ['excel', 'account', 'commun', 'financ', 'risk...  \n",
       "1661                           ['busi', 'analyz', None]  \n",
       "1662                           ['busi', 'analyz', None]  \n",
       "\n",
       "[1663 rows x 8 columns]"
      ]
     },
     "execution_count": 20,
     "metadata": {},
     "output_type": "execute_result"
    }
   ],
   "source": [
    "df_BA"
   ]
  },
  {
   "cell_type": "markdown",
   "metadata": {},
   "source": [
    "# Sample and Split"
   ]
  },
  {
   "cell_type": "code",
   "execution_count": 21,
   "metadata": {},
   "outputs": [],
   "source": [
    "from sklearn.model_selection import train_test_split"
   ]
  },
  {
   "cell_type": "code",
   "execution_count": 22,
   "metadata": {},
   "outputs": [
    {
     "data": {
      "text/plain": [
       "(973, 3983, 1663, 1167)"
      ]
     },
     "execution_count": 22,
     "metadata": {},
     "output_type": "execute_result"
    }
   ],
   "source": [
    "len(df_DS),len(df_DA),len(df_BA),len(df_DE)"
   ]
  },
  {
   "cell_type": "code",
   "execution_count": 23,
   "metadata": {},
   "outputs": [],
   "source": [
    "df_DA=df_DA.sample(n=1000)\n",
    "df_BA=df_BA.sample(n=1000)"
   ]
  },
  {
   "cell_type": "code",
   "execution_count": 24,
   "metadata": {},
   "outputs": [
    {
     "data": {
      "text/plain": [
       "(973, 1000, 1000, 1167)"
      ]
     },
     "execution_count": 24,
     "metadata": {},
     "output_type": "execute_result"
    }
   ],
   "source": [
    "len(df_DS),len(df_DA),len(df_BA),len(df_DE)"
   ]
  },
  {
   "cell_type": "code",
   "execution_count": 25,
   "metadata": {},
   "outputs": [],
   "source": [
    "whole_list=[df_DA,df_DS,df_DE,df_BA]\n",
    "df_whole=pd.concat(whole_list)"
   ]
  },
  {
   "cell_type": "code",
   "execution_count": 26,
   "metadata": {},
   "outputs": [
    {
     "data": {
      "text/html": [
       "<div>\n",
       "<style scoped>\n",
       "    .dataframe tbody tr th:only-of-type {\n",
       "        vertical-align: middle;\n",
       "    }\n",
       "\n",
       "    .dataframe tbody tr th {\n",
       "        vertical-align: top;\n",
       "    }\n",
       "\n",
       "    .dataframe thead th {\n",
       "        text-align: right;\n",
       "    }\n",
       "</style>\n",
       "<table border=\"1\" class=\"dataframe\">\n",
       "  <thead>\n",
       "    <tr style=\"text-align: right;\">\n",
       "      <th></th>\n",
       "      <th>JT</th>\n",
       "      <th>JD</th>\n",
       "      <th>tool_list</th>\n",
       "      <th>skill_list</th>\n",
       "      <th>degree_list</th>\n",
       "      <th>clean</th>\n",
       "      <th>lda_list</th>\n",
       "      <th>newlist</th>\n",
       "    </tr>\n",
       "  </thead>\n",
       "  <tbody>\n",
       "    <tr>\n",
       "      <th>2196</th>\n",
       "      <td>DA</td>\n",
       "      <td>Overview Job Responsibilities Buildmaintain ne...</td>\n",
       "      <td>['excel', 'vba', 'microsoft', 'ms office', 'po...</td>\n",
       "      <td>['visual', 'graph', 'data']</td>\n",
       "      <td>1.0</td>\n",
       "      <td>['excel', 'vba', 'microsoft', 'powerpoint', 'v...</td>\n",
       "      <td>['clearanc', 'parti', 'secret']</td>\n",
       "      <td>['excel', 'vba', 'microsoft', 'powerpoint', 'v...</td>\n",
       "    </tr>\n",
       "    <tr>\n",
       "      <th>7</th>\n",
       "      <td>DA</td>\n",
       "      <td>The Data Analyst is an integral member of the ...</td>\n",
       "      <td>['sql', 'r', 'scala', 'cloud', 'python', 'goog...</td>\n",
       "      <td>['statist', 'dashboard', 'recommend', 'optim',...</td>\n",
       "      <td>1.0</td>\n",
       "      <td>['sql', 'r', 'scala', 'cloud', 'python', 'goog...</td>\n",
       "      <td>['quantit', 'python', 'integr', 'techniqu', 'b...</td>\n",
       "      <td>['sql', 'r', 'scala', 'cloud', 'python', 'goog...</td>\n",
       "    </tr>\n",
       "    <tr>\n",
       "      <th>2862</th>\n",
       "      <td>DA</td>\n",
       "      <td>About This Role\\nWhat You'll Do\\nDevelop and m...</td>\n",
       "      <td>['excel']</td>\n",
       "      <td>['kpi', 'busi', 'data', 'financ']</td>\n",
       "      <td>1.0</td>\n",
       "      <td>['excel', 'kpi', 'busi', 'data', 'financ']</td>\n",
       "      <td>['engin', 'quantit']</td>\n",
       "      <td>['excel', 'kpi', 'busi', 'data', 'financ', 'en...</td>\n",
       "    </tr>\n",
       "    <tr>\n",
       "      <th>258</th>\n",
       "      <td>DA</td>\n",
       "      <td>Overview\\nThe Data Analyst is a part of the Ri...</td>\n",
       "      <td>['excel', 'sql']</td>\n",
       "      <td>['research', 'information technology', 'etl', ...</td>\n",
       "      <td>1.0</td>\n",
       "      <td>['excel', 'sql', 'research', 'information tech...</td>\n",
       "      <td>['etl', 'mortgag', 'govern', 'integr', 'credit...</td>\n",
       "      <td>['excel', 'sql', 'research', 'information tech...</td>\n",
       "    </tr>\n",
       "    <tr>\n",
       "      <th>3049</th>\n",
       "      <td>DA</td>\n",
       "      <td>Interpret data, analyze results using statisti...</td>\n",
       "      <td>['sa', 'sql', 'spss', 'excel', 'javascript']</td>\n",
       "      <td>['etl', 'data', 'analyz', 'busi', 'statist']</td>\n",
       "      <td>2.0</td>\n",
       "      <td>['sa', 'sql', 'spss', 'excel', 'javascript', '...</td>\n",
       "      <td>['engin', 'techniqu', 'statist', 'etl']</td>\n",
       "      <td>['sa', 'sql', 'spss', 'excel', 'javascript', '...</td>\n",
       "    </tr>\n",
       "    <tr>\n",
       "      <th>...</th>\n",
       "      <td>...</td>\n",
       "      <td>...</td>\n",
       "      <td>...</td>\n",
       "      <td>...</td>\n",
       "      <td>...</td>\n",
       "      <td>...</td>\n",
       "      <td>...</td>\n",
       "      <td>...</td>\n",
       "    </tr>\n",
       "    <tr>\n",
       "      <th>381</th>\n",
       "      <td>BA</td>\n",
       "      <td>PRACTICE OVERVIEW\\nPOSITION SUMMARY\\nIn additi...</td>\n",
       "      <td>['sql', 'excel', 'microsoft', 'powerpoint', 't...</td>\n",
       "      <td>['research', 'account', 'optim', 'analyz', 'co...</td>\n",
       "      <td>1.0</td>\n",
       "      <td>['sql', 'excel', 'microsoft', 'powerpoint', 't...</td>\n",
       "      <td>['challeng']</td>\n",
       "      <td>['sql', 'excel', 'microsoft', 'powerpoint', 't...</td>\n",
       "    </tr>\n",
       "    <tr>\n",
       "      <th>1150</th>\n",
       "      <td>BA</td>\n",
       "      <td>Job Title: Senior Business Analyst\\nJob Type: ...</td>\n",
       "      <td>['jira', 'excel', 'ms office']</td>\n",
       "      <td>['healthcar', 'busi', 'data', 'commun']</td>\n",
       "      <td>1.0</td>\n",
       "      <td>['jira', 'excel', 'microsoft', 'healthcar', 'b...</td>\n",
       "      <td>['integr', 'distribut']</td>\n",
       "      <td>['jira', 'excel', 'microsoft', 'healthcar', 'b...</td>\n",
       "    </tr>\n",
       "    <tr>\n",
       "      <th>372</th>\n",
       "      <td>BA</td>\n",
       "      <td>A Fortune 500 client is looking for a Junior B...</td>\n",
       "      <td>['tableau', 'excel', 'microsoft', 'sql']</td>\n",
       "      <td>['problem solving', 'information technology', ...</td>\n",
       "      <td>2.0</td>\n",
       "      <td>['tableau', 'excel', 'microsoft', 'sql', 'prob...</td>\n",
       "      <td>[None]</td>\n",
       "      <td>['tableau', 'excel', 'microsoft', 'sql', 'prob...</td>\n",
       "    </tr>\n",
       "    <tr>\n",
       "      <th>113</th>\n",
       "      <td>BA</td>\n",
       "      <td>is:\\nBusiness\\nAnalyst with a strong experienc...</td>\n",
       "      <td>[None]</td>\n",
       "      <td>['busi', 'data', 'healthcar']</td>\n",
       "      <td>999.0</td>\n",
       "      <td>['busi', 'data', 'healthcar']</td>\n",
       "      <td>['medic']</td>\n",
       "      <td>['busi', 'data', 'healthcar', 'medic']</td>\n",
       "    </tr>\n",
       "    <tr>\n",
       "      <th>858</th>\n",
       "      <td>BA</td>\n",
       "      <td>Role: Junior Business Analyst\\nJob Summary\\nHe...</td>\n",
       "      <td>[None]</td>\n",
       "      <td>['busi', 'analyz']</td>\n",
       "      <td>2.0</td>\n",
       "      <td>['busi', 'analyz']</td>\n",
       "      <td>['assist']</td>\n",
       "      <td>['busi', 'analyz', 'assist']</td>\n",
       "    </tr>\n",
       "  </tbody>\n",
       "</table>\n",
       "<p>4140 rows × 8 columns</p>\n",
       "</div>"
      ],
      "text/plain": [
       "      JT                                                 JD  \\\n",
       "2196  DA  Overview Job Responsibilities Buildmaintain ne...   \n",
       "7     DA  The Data Analyst is an integral member of the ...   \n",
       "2862  DA  About This Role\\nWhat You'll Do\\nDevelop and m...   \n",
       "258   DA  Overview\\nThe Data Analyst is a part of the Ri...   \n",
       "3049  DA  Interpret data, analyze results using statisti...   \n",
       "...   ..                                                ...   \n",
       "381   BA  PRACTICE OVERVIEW\\nPOSITION SUMMARY\\nIn additi...   \n",
       "1150  BA  Job Title: Senior Business Analyst\\nJob Type: ...   \n",
       "372   BA  A Fortune 500 client is looking for a Junior B...   \n",
       "113   BA  is:\\nBusiness\\nAnalyst with a strong experienc...   \n",
       "858   BA  Role: Junior Business Analyst\\nJob Summary\\nHe...   \n",
       "\n",
       "                                              tool_list  \\\n",
       "2196  ['excel', 'vba', 'microsoft', 'ms office', 'po...   \n",
       "7     ['sql', 'r', 'scala', 'cloud', 'python', 'goog...   \n",
       "2862                                          ['excel']   \n",
       "258                                    ['excel', 'sql']   \n",
       "3049       ['sa', 'sql', 'spss', 'excel', 'javascript']   \n",
       "...                                                 ...   \n",
       "381   ['sql', 'excel', 'microsoft', 'powerpoint', 't...   \n",
       "1150                     ['jira', 'excel', 'ms office']   \n",
       "372            ['tableau', 'excel', 'microsoft', 'sql']   \n",
       "113                                              [None]   \n",
       "858                                              [None]   \n",
       "\n",
       "                                             skill_list  degree_list  \\\n",
       "2196                        ['visual', 'graph', 'data']          1.0   \n",
       "7     ['statist', 'dashboard', 'recommend', 'optim',...          1.0   \n",
       "2862                  ['kpi', 'busi', 'data', 'financ']          1.0   \n",
       "258   ['research', 'information technology', 'etl', ...          1.0   \n",
       "3049       ['etl', 'data', 'analyz', 'busi', 'statist']          2.0   \n",
       "...                                                 ...          ...   \n",
       "381   ['research', 'account', 'optim', 'analyz', 'co...          1.0   \n",
       "1150            ['healthcar', 'busi', 'data', 'commun']          1.0   \n",
       "372   ['problem solving', 'information technology', ...          2.0   \n",
       "113                       ['busi', 'data', 'healthcar']        999.0   \n",
       "858                                  ['busi', 'analyz']          2.0   \n",
       "\n",
       "                                                  clean  \\\n",
       "2196  ['excel', 'vba', 'microsoft', 'powerpoint', 'v...   \n",
       "7     ['sql', 'r', 'scala', 'cloud', 'python', 'goog...   \n",
       "2862         ['excel', 'kpi', 'busi', 'data', 'financ']   \n",
       "258   ['excel', 'sql', 'research', 'information tech...   \n",
       "3049  ['sa', 'sql', 'spss', 'excel', 'javascript', '...   \n",
       "...                                                 ...   \n",
       "381   ['sql', 'excel', 'microsoft', 'powerpoint', 't...   \n",
       "1150  ['jira', 'excel', 'microsoft', 'healthcar', 'b...   \n",
       "372   ['tableau', 'excel', 'microsoft', 'sql', 'prob...   \n",
       "113                       ['busi', 'data', 'healthcar']   \n",
       "858                                  ['busi', 'analyz']   \n",
       "\n",
       "                                               lda_list  \\\n",
       "2196                    ['clearanc', 'parti', 'secret']   \n",
       "7     ['quantit', 'python', 'integr', 'techniqu', 'b...   \n",
       "2862                               ['engin', 'quantit']   \n",
       "258   ['etl', 'mortgag', 'govern', 'integr', 'credit...   \n",
       "3049            ['engin', 'techniqu', 'statist', 'etl']   \n",
       "...                                                 ...   \n",
       "381                                        ['challeng']   \n",
       "1150                            ['integr', 'distribut']   \n",
       "372                                              [None]   \n",
       "113                                           ['medic']   \n",
       "858                                          ['assist']   \n",
       "\n",
       "                                                newlist  \n",
       "2196  ['excel', 'vba', 'microsoft', 'powerpoint', 'v...  \n",
       "7     ['sql', 'r', 'scala', 'cloud', 'python', 'goog...  \n",
       "2862  ['excel', 'kpi', 'busi', 'data', 'financ', 'en...  \n",
       "258   ['excel', 'sql', 'research', 'information tech...  \n",
       "3049  ['sa', 'sql', 'spss', 'excel', 'javascript', '...  \n",
       "...                                                 ...  \n",
       "381   ['sql', 'excel', 'microsoft', 'powerpoint', 't...  \n",
       "1150  ['jira', 'excel', 'microsoft', 'healthcar', 'b...  \n",
       "372   ['tableau', 'excel', 'microsoft', 'sql', 'prob...  \n",
       "113              ['busi', 'data', 'healthcar', 'medic']  \n",
       "858                        ['busi', 'analyz', 'assist']  \n",
       "\n",
       "[4140 rows x 8 columns]"
      ]
     },
     "execution_count": 26,
     "metadata": {},
     "output_type": "execute_result"
    }
   ],
   "source": [
    "df_whole"
   ]
  },
  {
   "cell_type": "markdown",
   "metadata": {},
   "source": [
    "# Models"
   ]
  },
  {
   "cell_type": "code",
   "execution_count": 27,
   "metadata": {},
   "outputs": [],
   "source": [
    "from sklearn.feature_extraction.text import CountVectorizer\n",
    "from sklearn.feature_extraction.text import TfidfTransformer\n",
    "from sklearn.metrics import classification_report,confusion_matrix\n",
    "from sklearn.tree import DecisionTreeClassifier\n",
    "from sklearn.model_selection import train_test_split"
   ]
  },
  {
   "cell_type": "code",
   "execution_count": 28,
   "metadata": {},
   "outputs": [],
   "source": [
    "def evaluate_model(df,best,rf=False):\n",
    "    df_train, df_test = train_test_split(df, test_size = 0.3)\n",
    "    clean_train=df_train[\"newlist\"]\n",
    "    Y_train=df_train[\"JT\"]\n",
    "    clean_test=df_test[\"newlist\"]\n",
    "    Y_test=df_test[\"JT\"]\n",
    "\n",
    "    vectorizer = CountVectorizer().fit(df[\"newlist\"])\n",
    "    clean_bow= vectorizer.transform(df[\"newlist\"])\n",
    "    train_bow = vectorizer.transform(clean_train)\n",
    "    test_bow = vectorizer.transform(clean_test)\n",
    "    parameter=vectorizer.get_feature_names()\n",
    "    \n",
    "    tfidf_transformer = TfidfTransformer().fit(clean_bow)\n",
    "    X_train = tfidf_transformer.transform(train_bow)\n",
    "    X_test = tfidf_transformer.transform(test_bow)\n",
    "    \n",
    "    best.fit(X_train, Y_train)\n",
    "    predictions1 = best.predict(X_test)\n",
    "    print(classification_report(Y_test,predictions1))\n",
    "    if rf:\n",
    "        importances =best.feature_importances_\n",
    "        forest_importances = pd.Series(importances,index=parameter)\n",
    "        forest_importances=forest_importances.sort_values(ascending=False)[0:10]\n",
    "        ax=forest_importances.plot.barh(x='lab', y='val')\n",
    "        ax.invert_yaxis()\n",
    "    "
   ]
  },
  {
   "cell_type": "code",
   "execution_count": 29,
   "metadata": {},
   "outputs": [],
   "source": [
    "def get_df_name(df):\n",
    "    name =[x for x in globals() if globals()[x] is df][0]\n",
    "    return name"
   ]
  },
  {
   "cell_type": "code",
   "execution_count": 30,
   "metadata": {},
   "outputs": [],
   "source": [
    "def encoding(name):\n",
    "    df = pd.DataFrame()\n",
    "    whole_list=[df_DA,df_DS,df_DE,df_BA]\n",
    "    for i in whole_list:\n",
    "        name1=get_df_name(i)\n",
    "        if name1.split(\"_\")[1]!=name:\n",
    "            i_copy=i.sample(n=340)\n",
    "        else:\n",
    "            i_copy=i.copy()\n",
    "        df=pd.concat([df,i_copy],ignore_index=True)\n",
    "    df[\"NEWJT\"]= np.where(df[\"JT\"]==name,\"1\",\"0\")\n",
    "\n",
    "    df[\"JT\"]=df[\"NEWJT\"]\n",
    "    return df"
   ]
  },
  {
   "cell_type": "code",
   "execution_count": 31,
   "metadata": {},
   "outputs": [],
   "source": [
    "BA_model = encoding('BA')"
   ]
  },
  {
   "cell_type": "code",
   "execution_count": 32,
   "metadata": {},
   "outputs": [
    {
     "data": {
      "text/html": [
       "<div>\n",
       "<style scoped>\n",
       "    .dataframe tbody tr th:only-of-type {\n",
       "        vertical-align: middle;\n",
       "    }\n",
       "\n",
       "    .dataframe tbody tr th {\n",
       "        vertical-align: top;\n",
       "    }\n",
       "\n",
       "    .dataframe thead th {\n",
       "        text-align: right;\n",
       "    }\n",
       "</style>\n",
       "<table border=\"1\" class=\"dataframe\">\n",
       "  <thead>\n",
       "    <tr style=\"text-align: right;\">\n",
       "      <th></th>\n",
       "      <th>JT</th>\n",
       "      <th>JD</th>\n",
       "      <th>tool_list</th>\n",
       "      <th>skill_list</th>\n",
       "      <th>degree_list</th>\n",
       "      <th>clean</th>\n",
       "      <th>lda_list</th>\n",
       "      <th>newlist</th>\n",
       "      <th>NEWJT</th>\n",
       "    </tr>\n",
       "  </thead>\n",
       "  <tbody>\n",
       "    <tr>\n",
       "      <th>0</th>\n",
       "      <td>0</td>\n",
       "      <td>Job ID 1188713\\nCategory Data Analytics\\nSched...</td>\n",
       "      <td>['sa', 'sql', 'hadoop', 'r', 'python', 'excel'...</td>\n",
       "      <td>['data mining', 'statist', 'dashboard', 'recom...</td>\n",
       "      <td>1.0</td>\n",
       "      <td>['sa', 'sql', 'hadoop', 'r', 'python', 'excel'...</td>\n",
       "      <td>['feedback', 'clinic', 'govern', 'public', 'in...</td>\n",
       "      <td>['sa', 'sql', 'hadoop', 'r', 'python', 'excel'...</td>\n",
       "      <td>0</td>\n",
       "    </tr>\n",
       "    <tr>\n",
       "      <th>1</th>\n",
       "      <td>0</td>\n",
       "      <td>, , ,\\n</td>\n",
       "      <td>[None]</td>\n",
       "      <td>[None]</td>\n",
       "      <td>999.0</td>\n",
       "      <td>[]</td>\n",
       "      <td>[None]</td>\n",
       "      <td>[None]</td>\n",
       "      <td>0</td>\n",
       "    </tr>\n",
       "    <tr>\n",
       "      <th>2</th>\n",
       "      <td>0</td>\n",
       "      <td>JOB TITLE:Data Analyst/Accounting Specialist\\n...</td>\n",
       "      <td>['excel', 'microsoft']</td>\n",
       "      <td>['account', 'analyz', 'supervis', 'commun', 'f...</td>\n",
       "      <td>1.0</td>\n",
       "      <td>['excel', 'microsoft', 'account', 'analyz', 's...</td>\n",
       "      <td>['assist', 'govern', 'medic', 'credit', 'clear...</td>\n",
       "      <td>['excel', 'microsoft', 'account', 'analyz', 's...</td>\n",
       "      <td>0</td>\n",
       "    </tr>\n",
       "    <tr>\n",
       "      <th>3</th>\n",
       "      <td>0</td>\n",
       "      <td>Position: Master Data Analyst\\nDuration – 8-12...</td>\n",
       "      <td>['ms office', 'r']</td>\n",
       "      <td>['account', 'busi', 'data', 'financ']</td>\n",
       "      <td>2.0</td>\n",
       "      <td>['microsoft', 'r', 'account', 'busi', 'data', ...</td>\n",
       "      <td>[None]</td>\n",
       "      <td>['microsoft', 'r', 'account', 'busi', 'data', ...</td>\n",
       "      <td>0</td>\n",
       "    </tr>\n",
       "    <tr>\n",
       "      <th>4</th>\n",
       "      <td>0</td>\n",
       "      <td>Full Part/Time: Full time\\nJob Req: G2019-6303...</td>\n",
       "      <td>[None]</td>\n",
       "      <td>['data', 'analyz', 'recommend']</td>\n",
       "      <td>1.0</td>\n",
       "      <td>['data', 'analyz', 'recommend']</td>\n",
       "      <td>['govern', 'secret', 'public', 'integr', 'dod'...</td>\n",
       "      <td>['data', 'analyz', 'recommend', 'govern', 'sec...</td>\n",
       "      <td>0</td>\n",
       "    </tr>\n",
       "    <tr>\n",
       "      <th>...</th>\n",
       "      <td>...</td>\n",
       "      <td>...</td>\n",
       "      <td>...</td>\n",
       "      <td>...</td>\n",
       "      <td>...</td>\n",
       "      <td>...</td>\n",
       "      <td>...</td>\n",
       "      <td>...</td>\n",
       "      <td>...</td>\n",
       "    </tr>\n",
       "    <tr>\n",
       "      <th>2015</th>\n",
       "      <td>1</td>\n",
       "      <td>PRACTICE OVERVIEW\\nPOSITION SUMMARY\\nIn additi...</td>\n",
       "      <td>['sql', 'excel', 'microsoft', 'powerpoint', 't...</td>\n",
       "      <td>['research', 'account', 'optim', 'analyz', 'co...</td>\n",
       "      <td>1.0</td>\n",
       "      <td>['sql', 'excel', 'microsoft', 'powerpoint', 't...</td>\n",
       "      <td>['challeng']</td>\n",
       "      <td>['sql', 'excel', 'microsoft', 'powerpoint', 't...</td>\n",
       "      <td>1</td>\n",
       "    </tr>\n",
       "    <tr>\n",
       "      <th>2016</th>\n",
       "      <td>1</td>\n",
       "      <td>Job Title: Senior Business Analyst\\nJob Type: ...</td>\n",
       "      <td>['jira', 'excel', 'ms office']</td>\n",
       "      <td>['healthcar', 'busi', 'data', 'commun']</td>\n",
       "      <td>1.0</td>\n",
       "      <td>['jira', 'excel', 'microsoft', 'healthcar', 'b...</td>\n",
       "      <td>['integr', 'distribut']</td>\n",
       "      <td>['jira', 'excel', 'microsoft', 'healthcar', 'b...</td>\n",
       "      <td>1</td>\n",
       "    </tr>\n",
       "    <tr>\n",
       "      <th>2017</th>\n",
       "      <td>1</td>\n",
       "      <td>A Fortune 500 client is looking for a Junior B...</td>\n",
       "      <td>['tableau', 'excel', 'microsoft', 'sql']</td>\n",
       "      <td>['problem solving', 'information technology', ...</td>\n",
       "      <td>2.0</td>\n",
       "      <td>['tableau', 'excel', 'microsoft', 'sql', 'prob...</td>\n",
       "      <td>[None]</td>\n",
       "      <td>['tableau', 'excel', 'microsoft', 'sql', 'prob...</td>\n",
       "      <td>1</td>\n",
       "    </tr>\n",
       "    <tr>\n",
       "      <th>2018</th>\n",
       "      <td>1</td>\n",
       "      <td>is:\\nBusiness\\nAnalyst with a strong experienc...</td>\n",
       "      <td>[None]</td>\n",
       "      <td>['busi', 'data', 'healthcar']</td>\n",
       "      <td>999.0</td>\n",
       "      <td>['busi', 'data', 'healthcar']</td>\n",
       "      <td>['medic']</td>\n",
       "      <td>['busi', 'data', 'healthcar', 'medic']</td>\n",
       "      <td>1</td>\n",
       "    </tr>\n",
       "    <tr>\n",
       "      <th>2019</th>\n",
       "      <td>1</td>\n",
       "      <td>Role: Junior Business Analyst\\nJob Summary\\nHe...</td>\n",
       "      <td>[None]</td>\n",
       "      <td>['busi', 'analyz']</td>\n",
       "      <td>2.0</td>\n",
       "      <td>['busi', 'analyz']</td>\n",
       "      <td>['assist']</td>\n",
       "      <td>['busi', 'analyz', 'assist']</td>\n",
       "      <td>1</td>\n",
       "    </tr>\n",
       "  </tbody>\n",
       "</table>\n",
       "<p>2020 rows × 9 columns</p>\n",
       "</div>"
      ],
      "text/plain": [
       "     JT                                                 JD  \\\n",
       "0     0  Job ID 1188713\\nCategory Data Analytics\\nSched...   \n",
       "1     0                                            , , ,\\n   \n",
       "2     0  JOB TITLE:Data Analyst/Accounting Specialist\\n...   \n",
       "3     0  Position: Master Data Analyst\\nDuration – 8-12...   \n",
       "4     0  Full Part/Time: Full time\\nJob Req: G2019-6303...   \n",
       "...  ..                                                ...   \n",
       "2015  1  PRACTICE OVERVIEW\\nPOSITION SUMMARY\\nIn additi...   \n",
       "2016  1  Job Title: Senior Business Analyst\\nJob Type: ...   \n",
       "2017  1  A Fortune 500 client is looking for a Junior B...   \n",
       "2018  1  is:\\nBusiness\\nAnalyst with a strong experienc...   \n",
       "2019  1  Role: Junior Business Analyst\\nJob Summary\\nHe...   \n",
       "\n",
       "                                              tool_list  \\\n",
       "0     ['sa', 'sql', 'hadoop', 'r', 'python', 'excel'...   \n",
       "1                                                [None]   \n",
       "2                                ['excel', 'microsoft']   \n",
       "3                                    ['ms office', 'r']   \n",
       "4                                                [None]   \n",
       "...                                                 ...   \n",
       "2015  ['sql', 'excel', 'microsoft', 'powerpoint', 't...   \n",
       "2016                     ['jira', 'excel', 'ms office']   \n",
       "2017           ['tableau', 'excel', 'microsoft', 'sql']   \n",
       "2018                                             [None]   \n",
       "2019                                             [None]   \n",
       "\n",
       "                                             skill_list  degree_list  \\\n",
       "0     ['data mining', 'statist', 'dashboard', 'recom...          1.0   \n",
       "1                                                [None]        999.0   \n",
       "2     ['account', 'analyz', 'supervis', 'commun', 'f...          1.0   \n",
       "3                 ['account', 'busi', 'data', 'financ']          2.0   \n",
       "4                       ['data', 'analyz', 'recommend']          1.0   \n",
       "...                                                 ...          ...   \n",
       "2015  ['research', 'account', 'optim', 'analyz', 'co...          1.0   \n",
       "2016            ['healthcar', 'busi', 'data', 'commun']          1.0   \n",
       "2017  ['problem solving', 'information technology', ...          2.0   \n",
       "2018                      ['busi', 'data', 'healthcar']        999.0   \n",
       "2019                                 ['busi', 'analyz']          2.0   \n",
       "\n",
       "                                                  clean  \\\n",
       "0     ['sa', 'sql', 'hadoop', 'r', 'python', 'excel'...   \n",
       "1                                                    []   \n",
       "2     ['excel', 'microsoft', 'account', 'analyz', 's...   \n",
       "3     ['microsoft', 'r', 'account', 'busi', 'data', ...   \n",
       "4                       ['data', 'analyz', 'recommend']   \n",
       "...                                                 ...   \n",
       "2015  ['sql', 'excel', 'microsoft', 'powerpoint', 't...   \n",
       "2016  ['jira', 'excel', 'microsoft', 'healthcar', 'b...   \n",
       "2017  ['tableau', 'excel', 'microsoft', 'sql', 'prob...   \n",
       "2018                      ['busi', 'data', 'healthcar']   \n",
       "2019                                 ['busi', 'analyz']   \n",
       "\n",
       "                                               lda_list  \\\n",
       "0     ['feedback', 'clinic', 'govern', 'public', 'in...   \n",
       "1                                                [None]   \n",
       "2     ['assist', 'govern', 'medic', 'credit', 'clear...   \n",
       "3                                                [None]   \n",
       "4     ['govern', 'secret', 'public', 'integr', 'dod'...   \n",
       "...                                                 ...   \n",
       "2015                                       ['challeng']   \n",
       "2016                            ['integr', 'distribut']   \n",
       "2017                                             [None]   \n",
       "2018                                          ['medic']   \n",
       "2019                                         ['assist']   \n",
       "\n",
       "                                                newlist NEWJT  \n",
       "0     ['sa', 'sql', 'hadoop', 'r', 'python', 'excel'...     0  \n",
       "1                                                [None]     0  \n",
       "2     ['excel', 'microsoft', 'account', 'analyz', 's...     0  \n",
       "3     ['microsoft', 'r', 'account', 'busi', 'data', ...     0  \n",
       "4     ['data', 'analyz', 'recommend', 'govern', 'sec...     0  \n",
       "...                                                 ...   ...  \n",
       "2015  ['sql', 'excel', 'microsoft', 'powerpoint', 't...     1  \n",
       "2016  ['jira', 'excel', 'microsoft', 'healthcar', 'b...     1  \n",
       "2017  ['tableau', 'excel', 'microsoft', 'sql', 'prob...     1  \n",
       "2018             ['busi', 'data', 'healthcar', 'medic']     1  \n",
       "2019                       ['busi', 'analyz', 'assist']     1  \n",
       "\n",
       "[2020 rows x 9 columns]"
      ]
     },
     "execution_count": 32,
     "metadata": {},
     "output_type": "execute_result"
    }
   ],
   "source": [
    "BA_model"
   ]
  },
  {
   "cell_type": "code",
   "execution_count": 33,
   "metadata": {},
   "outputs": [
    {
     "data": {
      "text/plain": [
       "count     2020\n",
       "unique       2\n",
       "top          0\n",
       "freq      1020\n",
       "Name: JT, dtype: object"
      ]
     },
     "execution_count": 33,
     "metadata": {},
     "output_type": "execute_result"
    }
   ],
   "source": [
    "BA_model['JT'].describe()"
   ]
  },
  {
   "cell_type": "markdown",
   "metadata": {},
   "source": [
    "## Decision Tree"
   ]
  },
  {
   "cell_type": "code",
   "execution_count": 34,
   "metadata": {},
   "outputs": [
    {
     "name": "stdout",
     "output_type": "stream",
     "text": [
      "              precision    recall  f1-score   support\n",
      "\n",
      "          BA       0.73      0.72      0.73       314\n",
      "          DA       0.60      0.57      0.58       306\n",
      "          DE       0.75      0.77      0.76       326\n",
      "          DS       0.79      0.80      0.79       296\n",
      "\n",
      "    accuracy                           0.72      1242\n",
      "   macro avg       0.71      0.72      0.72      1242\n",
      "weighted avg       0.71      0.72      0.72      1242\n",
      "\n"
     ]
    },
    {
     "data": {
      "image/png": "[encoded data removed]",
      "text/plain": [
       "<Figure size 432x288 with 1 Axes>"
      ]
     },
     "metadata": {
      "needs_background": "light"
     },
     "output_type": "display_data"
    }
   ],
   "source": [
    "dtree = DecisionTreeClassifier()\n",
    "evaluate_model(df_whole,dtree,rf=True)"
   ]
  },
  {
   "cell_type": "markdown",
   "metadata": {},
   "source": [
    "## Random Forest"
   ]
  },
  {
   "cell_type": "code",
   "execution_count": 35,
   "metadata": {},
   "outputs": [
    {
     "name": "stdout",
     "output_type": "stream",
     "text": [
      "              precision    recall  f1-score   support\n",
      "\n",
      "          BA       0.77      0.85      0.81       308\n",
      "          DA       0.71      0.66      0.69       310\n",
      "          DE       0.83      0.86      0.85       354\n",
      "          DS       0.85      0.78      0.81       270\n",
      "\n",
      "    accuracy                           0.79      1242\n",
      "   macro avg       0.79      0.79      0.79      1242\n",
      "weighted avg       0.79      0.79      0.79      1242\n",
      "\n"
     ]
    },
    {
     "data": {
      "image/png": "[encoded data removed]",
      "text/plain": [
       "<Figure size 432x288 with 1 Axes>"
      ]
     },
     "metadata": {
      "needs_background": "light"
     },
     "output_type": "display_data"
    }
   ],
   "source": [
    "from sklearn.ensemble import RandomForestClassifier\n",
    "rf = RandomForestClassifier(n_estimators=10)\n",
    "evaluate_model(df_whole,rf,rf=True)"
   ]
  },
  {
   "cell_type": "code",
   "execution_count": 36,
   "metadata": {},
   "outputs": [],
   "source": [
    "# from sklearn.model_selection import GridSearchCV\n",
    "# parameters = {\n",
    "#      'n_estimators':(10, 50,100,150,200), #the number of trees\n",
    "#      'max_depth':(5,10,20,30,50,80),\n",
    "#      'min_samples_split': (2, 4, 8),\n",
    "#      'min_samples_leaf': (4,8,12,16)\n",
    "# }\n",
    "\n",
    "# model = GridSearchCV(RandomForestClassifier(),parameters,cv=3,iid=False)\n",
    "# model.fit(X_train, Y_train)\n",
    "# model.best_score_, model.best_params_"
   ]
  },
  {
   "cell_type": "code",
   "execution_count": 37,
   "metadata": {},
   "outputs": [],
   "source": [
    "b_model = RandomForestClassifier(max_depth=20,min_samples_leaf=4,min_samples_split=8,n_estimators=200)"
   ]
  },
  {
   "cell_type": "code",
   "execution_count": 38,
   "metadata": {},
   "outputs": [
    {
     "name": "stdout",
     "output_type": "stream",
     "text": [
      "              precision    recall  f1-score   support\n",
      "\n",
      "          BA       0.76      0.85      0.80       293\n",
      "          DA       0.70      0.64      0.67       304\n",
      "          DE       0.85      0.84      0.84       354\n",
      "          DS       0.85      0.82      0.84       291\n",
      "\n",
      "    accuracy                           0.79      1242\n",
      "   macro avg       0.79      0.79      0.79      1242\n",
      "weighted avg       0.79      0.79      0.79      1242\n",
      "\n"
     ]
    },
    {
     "data": {
      "image/png": "[encoded data removed]",
      "text/plain": [
       "<Figure size 432x288 with 1 Axes>"
      ]
     },
     "metadata": {
      "needs_background": "light"
     },
     "output_type": "display_data"
    }
   ],
   "source": [
    "evaluate_model(df_whole,b_model,rf=True)"
   ]
  },
  {
   "cell_type": "markdown",
   "metadata": {},
   "source": [
    "### Rf for each JT"
   ]
  },
  {
   "cell_type": "code",
   "execution_count": 39,
   "metadata": {},
   "outputs": [],
   "source": [
    "BA_model = encoding('BA')\n",
    "DE_model = encoding('DE')\n",
    "DS_model = encoding('DS')\n",
    "DA_model = encoding('DA')"
   ]
  },
  {
   "cell_type": "code",
   "execution_count": 40,
   "metadata": {},
   "outputs": [],
   "source": [
    "rf = RandomForestClassifier(n_estimators=10)"
   ]
  },
  {
   "cell_type": "code",
   "execution_count": 41,
   "metadata": {},
   "outputs": [
    {
     "name": "stdout",
     "output_type": "stream",
     "text": [
      "              precision    recall  f1-score   support\n",
      "\n",
      "           0       0.84      0.85      0.85       302\n",
      "           1       0.85      0.84      0.85       304\n",
      "\n",
      "    accuracy                           0.85       606\n",
      "   macro avg       0.85      0.85      0.85       606\n",
      "weighted avg       0.85      0.85      0.85       606\n",
      "\n"
     ]
    },
    {
     "data": {
      "image/png": "[encoded data removed]",
      "text/plain": [
       "<Figure size 432x288 with 1 Axes>"
      ]
     },
     "metadata": {
      "needs_background": "light"
     },
     "output_type": "display_data"
    }
   ],
   "source": [
    "evaluate_model(BA_model,rf,rf=True)"
   ]
  },
  {
   "cell_type": "code",
   "execution_count": 42,
   "metadata": {},
   "outputs": [
    {
     "name": "stdout",
     "output_type": "stream",
     "text": [
      "              precision    recall  f1-score   support\n",
      "\n",
      "           0       0.80      0.83      0.82       315\n",
      "           1       0.81      0.78      0.79       291\n",
      "\n",
      "    accuracy                           0.81       606\n",
      "   macro avg       0.81      0.80      0.80       606\n",
      "weighted avg       0.81      0.81      0.81       606\n",
      "\n"
     ]
    },
    {
     "data": {
      "image/png": "[encoded data removed]",
      "text/plain": [
       "<Figure size 432x288 with 1 Axes>"
      ]
     },
     "metadata": {
      "needs_background": "light"
     },
     "output_type": "display_data"
    }
   ],
   "source": [
    "evaluate_model(DA_model,rf,rf=True)"
   ]
  },
  {
   "cell_type": "code",
   "execution_count": 43,
   "metadata": {},
   "outputs": [
    {
     "name": "stdout",
     "output_type": "stream",
     "text": [
      "              precision    recall  f1-score   support\n",
      "\n",
      "           0       0.89      0.88      0.88       308\n",
      "           1       0.88      0.88      0.88       290\n",
      "\n",
      "    accuracy                           0.88       598\n",
      "   macro avg       0.88      0.88      0.88       598\n",
      "weighted avg       0.88      0.88      0.88       598\n",
      "\n"
     ]
    },
    {
     "data": {
      "image/png": "[encoded data removed]",
      "text/plain": [
       "<Figure size 432x288 with 1 Axes>"
      ]
     },
     "metadata": {
      "needs_background": "light"
     },
     "output_type": "display_data"
    }
   ],
   "source": [
    "evaluate_model(DS_model,rf,rf=True)"
   ]
  },
  {
   "cell_type": "code",
   "execution_count": 44,
   "metadata": {},
   "outputs": [
    {
     "name": "stdout",
     "output_type": "stream",
     "text": [
      "              precision    recall  f1-score   support\n",
      "\n",
      "           0       0.84      0.87      0.85       286\n",
      "           1       0.90      0.87      0.88       371\n",
      "\n",
      "    accuracy                           0.87       657\n",
      "   macro avg       0.87      0.87      0.87       657\n",
      "weighted avg       0.87      0.87      0.87       657\n",
      "\n"
     ]
    },
    {
     "data": {
      "image/png": "[encoded data removed]",
      "text/plain": [
       "<Figure size 432x288 with 1 Axes>"
      ]
     },
     "metadata": {
      "needs_background": "light"
     },
     "output_type": "display_data"
    }
   ],
   "source": [
    "evaluate_model(DE_model,rf,rf=True)"
   ]
  },
  {
   "cell_type": "markdown",
   "metadata": {},
   "source": [
    "## Bagging"
   ]
  },
  {
   "cell_type": "code",
   "execution_count": null,
   "metadata": {},
   "outputs": [],
   "source": [
    "from sklearn.ensemble import BaggingClassifier\n",
    "# parameters = {\n",
    "#      'n_estimators':(30, 50,80), #the number of trees\n",
    "#      'max_samples':(20,40,60,80,100,120,150,200),\n",
    "#      'max_features':(20,40,60,80,100,120,150,200),\n",
    "     \n",
    "# }\n",
    "\n",
    "# model = GridSearchCV(BaggingClassifier(),parameters,cv=3,iid=False)\n",
    "# model.fit(X_train, Y_train)\n",
    "# model.best_score_, model.best_params_"
   ]
  },
  {
   "cell_type": "code",
   "execution_count": null,
   "metadata": {},
   "outputs": [],
   "source": [
    "bg_model=BaggingClassifier(max_features=120,max_samples=200,n_estimators=80)\n",
    "evaluate_model(df_whole,bg_model)"
   ]
  },
  {
   "cell_type": "code",
   "execution_count": null,
   "metadata": {},
   "outputs": [],
   "source": [
    "bg=BaggingClassifier()"
   ]
  },
  {
   "cell_type": "code",
   "execution_count": null,
   "metadata": {},
   "outputs": [],
   "source": [
    "evaluate_model(BA_model,bg)"
   ]
  },
  {
   "cell_type": "code",
   "execution_count": null,
   "metadata": {},
   "outputs": [],
   "source": [
    "evaluate_model(DA_model,bg)"
   ]
  },
  {
   "cell_type": "code",
   "execution_count": null,
   "metadata": {},
   "outputs": [],
   "source": []
  },
  {
   "cell_type": "code",
   "execution_count": null,
   "metadata": {},
   "outputs": [],
   "source": []
  }
 ],
 "metadata": {
  "kernelspec": {
   "display_name": "Python 3",
   "language": "python",
   "name": "python3"
  },
  "language_info": {
   "codemirror_mode": {
    "name": "ipython",
    "version": 3
   },
   "file_extension": ".py",
   "mimetype": "text/x-python",
   "name": "python",
   "nbconvert_exporter": "python",
   "pygments_lexer": "ipython3",
   "version": "3.8.8"
  }
 },
 "nbformat": 4,
 "nbformat_minor": 4
}
