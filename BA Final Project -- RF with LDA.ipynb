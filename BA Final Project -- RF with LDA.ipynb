{
 "cells": [
  {
   "cell_type": "code",
   "execution_count": 51,
   "metadata": {},
   "outputs": [],
   "source": [
    "import pandas as pd\n",
    "import numpy as np\n",
    "from sklearn.model_selection import train_test_split\n",
    "from nltk.corpus import stopwords\n",
    "from nltk.tokenize import word_tokenize\n",
    "import csv"
   ]
  },
  {
   "cell_type": "markdown",
   "metadata": {},
   "source": [
    "# Read In Data"
   ]
  },
  {
   "cell_type": "code",
   "execution_count": 3,
   "metadata": {},
   "outputs": [],
   "source": [
    "df_BA=pd.read_csv('BA')\n",
    "df_DS=pd.read_csv('DS')\n",
    "df_DA=pd.read_csv('DA')\n",
    "df_DE=pd.read_csv('DE')"
   ]
  },
  {
   "cell_type": "markdown",
   "metadata": {},
   "source": [
    "# Sample and Split"
   ]
  },
  {
   "cell_type": "code",
   "execution_count": 4,
   "metadata": {},
   "outputs": [],
   "source": [
    "from sklearn.model_selection import train_test_split"
   ]
  },
  {
   "cell_type": "code",
   "execution_count": 5,
   "metadata": {},
   "outputs": [
    {
     "data": {
      "text/plain": [
       "(973, 3983, 1663, 1167)"
      ]
     },
     "execution_count": 5,
     "metadata": {},
     "output_type": "execute_result"
    }
   ],
   "source": [
    "len(df_DS),len(df_DA),len(df_BA),len(df_DE)"
   ]
  },
  {
   "cell_type": "code",
   "execution_count": 6,
   "metadata": {},
   "outputs": [],
   "source": [
    "df_DA=df_DA.sample(n=1000)\n",
    "df_BA=df_BA.sample(n=1000)"
   ]
  },
  {
   "cell_type": "code",
   "execution_count": 7,
   "metadata": {},
   "outputs": [
    {
     "data": {
      "text/plain": [
       "(973, 1000, 1000, 1167)"
      ]
     },
     "execution_count": 7,
     "metadata": {},
     "output_type": "execute_result"
    }
   ],
   "source": [
    "len(df_DS),len(df_DA),len(df_BA),len(df_DE)"
   ]
  },
  {
   "cell_type": "code",
   "execution_count": 8,
   "metadata": {},
   "outputs": [],
   "source": [
    "whole_list=[df_DA,df_DS,df_DE,df_BA]\n",
    "df_whole=pd.concat(whole_list)"
   ]
  },
  {
   "cell_type": "code",
   "execution_count": 9,
   "metadata": {},
   "outputs": [
    {
     "data": {
      "text/html": [
       "<div>\n",
       "<style scoped>\n",
       "    .dataframe tbody tr th:only-of-type {\n",
       "        vertical-align: middle;\n",
       "    }\n",
       "\n",
       "    .dataframe tbody tr th {\n",
       "        vertical-align: top;\n",
       "    }\n",
       "\n",
       "    .dataframe thead th {\n",
       "        text-align: right;\n",
       "    }\n",
       "</style>\n",
       "<table border=\"1\" class=\"dataframe\">\n",
       "  <thead>\n",
       "    <tr style=\"text-align: right;\">\n",
       "      <th></th>\n",
       "      <th>JT</th>\n",
       "      <th>JD</th>\n",
       "      <th>tool_list</th>\n",
       "      <th>skill_list</th>\n",
       "      <th>degree_list</th>\n",
       "      <th>clean</th>\n",
       "      <th>lda_list</th>\n",
       "      <th>newlist</th>\n",
       "    </tr>\n",
       "  </thead>\n",
       "  <tbody>\n",
       "    <tr>\n",
       "      <th>442</th>\n",
       "      <td>DA</td>\n",
       "      <td>Experience in hospital/healthcare domain, a pl...</td>\n",
       "      <td>['sql']</td>\n",
       "      <td>['etl', 'data warehousing', 'analyz', 'busi', ...</td>\n",
       "      <td>999.0</td>\n",
       "      <td>['sql', 'etl', 'data warehousing', 'analyz', '...</td>\n",
       "      <td>['wareh', 'etl']</td>\n",
       "      <td>['sql', 'etl', 'data warehousing', 'analyz', '...</td>\n",
       "    </tr>\n",
       "    <tr>\n",
       "      <th>3148</th>\n",
       "      <td>DA</td>\n",
       "      <td>Data Analyst - Credentialing Department\\nThe D...</td>\n",
       "      <td>['microsoft', 'excel', 'vba', 'sql']</td>\n",
       "      <td>['recommend', 'supervis', 'commun', 'busi', 'd...</td>\n",
       "      <td>1.0</td>\n",
       "      <td>['microsoft', 'excel', 'vba', 'sql', 'recommen...</td>\n",
       "      <td>['program', 'integr', 'parti', 'medic']</td>\n",
       "      <td>['microsoft', 'excel', 'vba', 'sql', 'recommen...</td>\n",
       "    </tr>\n",
       "    <tr>\n",
       "      <th>900</th>\n",
       "      <td>DA</td>\n",
       "      <td>The individual will develop and implement stat...</td>\n",
       "      <td>['excel']</td>\n",
       "      <td>['research', 'data', 'commun']</td>\n",
       "      <td>3.0</td>\n",
       "      <td>['excel', 'research', 'data', 'commun']</td>\n",
       "      <td>['public', 'integr', 'algorithm']</td>\n",
       "      <td>['excel', 'research', 'data', 'commun', 'publi...</td>\n",
       "    </tr>\n",
       "    <tr>\n",
       "      <th>2152</th>\n",
       "      <td>DA</td>\n",
       "      <td>The Financial Management Data Analyst serves a...</td>\n",
       "      <td>['excel', 'power bi', 'bi', 'vba', 'tableau']</td>\n",
       "      <td>['information technology', 'dashboard', 'accou...</td>\n",
       "      <td>1.0</td>\n",
       "      <td>['excel', 'powerbi', 'vba', 'tableau', 'inform...</td>\n",
       "      <td>['program', 'integr', 'challeng', 'assist']</td>\n",
       "      <td>['excel', 'powerbi', 'vba', 'tableau', 'inform...</td>\n",
       "    </tr>\n",
       "    <tr>\n",
       "      <th>2413</th>\n",
       "      <td>DA</td>\n",
       "      <td>About the Job The Lowell Emergency Services Pr...</td>\n",
       "      <td>['excel', 'sql']</td>\n",
       "      <td>['research', 'statist', 'predict', 'dashboard'...</td>\n",
       "      <td>1.0</td>\n",
       "      <td>['excel', 'sql', 'research', 'statist', 'predi...</td>\n",
       "      <td>['feedback', 'challeng', 'clinic', 'predict', ...</td>\n",
       "      <td>['excel', 'sql', 'research', 'statist', 'predi...</td>\n",
       "    </tr>\n",
       "    <tr>\n",
       "      <th>...</th>\n",
       "      <td>...</td>\n",
       "      <td>...</td>\n",
       "      <td>...</td>\n",
       "      <td>...</td>\n",
       "      <td>...</td>\n",
       "      <td>...</td>\n",
       "      <td>...</td>\n",
       "      <td>...</td>\n",
       "    </tr>\n",
       "    <tr>\n",
       "      <th>828</th>\n",
       "      <td>BA</td>\n",
       "      <td>Position Purpose: Perform various analysis and...</td>\n",
       "      <td>['excel', 'microsoft']</td>\n",
       "      <td>['problem solving', 'busi', 'data', 'healthcar']</td>\n",
       "      <td>1.0</td>\n",
       "      <td>['excel', 'microsoft', 'problem solving', 'bus...</td>\n",
       "      <td>['integr', 'assist']</td>\n",
       "      <td>['excel', 'microsoft', 'problem solving', 'bus...</td>\n",
       "    </tr>\n",
       "    <tr>\n",
       "      <th>580</th>\n",
       "      <td>BA</td>\n",
       "      <td>The Business Analyst accomplishes objectives t...</td>\n",
       "      <td>['sql', 'excel', 'bi', 'microsoft', 'power bi'...</td>\n",
       "      <td>['account', 'busi', 'commun']</td>\n",
       "      <td>1.0</td>\n",
       "      <td>['sql', 'excel', 'powerbi', 'microsoft', 'ssr'...</td>\n",
       "      <td>['engin', 'program', 'integr']</td>\n",
       "      <td>['sql', 'excel', 'powerbi', 'microsoft', 'ssr'...</td>\n",
       "    </tr>\n",
       "    <tr>\n",
       "      <th>27</th>\n",
       "      <td>BA</td>\n",
       "      <td>Project work in more than 25 countries\\nExtens...</td>\n",
       "      <td>['excel', 'powerpoint']</td>\n",
       "      <td>['statist', 'recommend', 'econom', 'commun', '...</td>\n",
       "      <td>1.0</td>\n",
       "      <td>['excel', 'powerpoint', 'statist', 'recommend'...</td>\n",
       "      <td>['quantit', 'statist']</td>\n",
       "      <td>['excel', 'powerpoint', 'statist', 'recommend'...</td>\n",
       "    </tr>\n",
       "    <tr>\n",
       "      <th>122</th>\n",
       "      <td>BA</td>\n",
       "      <td>MS Dynamics CRM Admin/Developer and .Net devel...</td>\n",
       "      <td>[None]</td>\n",
       "      <td>['busi', 'recommend']</td>\n",
       "      <td>999.0</td>\n",
       "      <td>['busi', 'recommend']</td>\n",
       "      <td>[None]</td>\n",
       "      <td>['busi', 'recommend', None]</td>\n",
       "    </tr>\n",
       "    <tr>\n",
       "      <th>1324</th>\n",
       "      <td>BA</td>\n",
       "      <td>Job Code : MIRI0008\\nPosition Summary:\\nJob Po...</td>\n",
       "      <td>[None]</td>\n",
       "      <td>['busi', 'data', 'analyz']</td>\n",
       "      <td>1.0</td>\n",
       "      <td>['busi', 'data', 'analyz']</td>\n",
       "      <td>[None]</td>\n",
       "      <td>['busi', 'data', 'analyz', None]</td>\n",
       "    </tr>\n",
       "  </tbody>\n",
       "</table>\n",
       "<p>4140 rows × 8 columns</p>\n",
       "</div>"
      ],
      "text/plain": [
       "      JT                                                 JD  \\\n",
       "442   DA  Experience in hospital/healthcare domain, a pl...   \n",
       "3148  DA  Data Analyst - Credentialing Department\\nThe D...   \n",
       "900   DA  The individual will develop and implement stat...   \n",
       "2152  DA  The Financial Management Data Analyst serves a...   \n",
       "2413  DA  About the Job The Lowell Emergency Services Pr...   \n",
       "...   ..                                                ...   \n",
       "828   BA  Position Purpose: Perform various analysis and...   \n",
       "580   BA  The Business Analyst accomplishes objectives t...   \n",
       "27    BA  Project work in more than 25 countries\\nExtens...   \n",
       "122   BA  MS Dynamics CRM Admin/Developer and .Net devel...   \n",
       "1324  BA  Job Code : MIRI0008\\nPosition Summary:\\nJob Po...   \n",
       "\n",
       "                                              tool_list  \\\n",
       "442                                             ['sql']   \n",
       "3148               ['microsoft', 'excel', 'vba', 'sql']   \n",
       "900                                           ['excel']   \n",
       "2152      ['excel', 'power bi', 'bi', 'vba', 'tableau']   \n",
       "2413                                   ['excel', 'sql']   \n",
       "...                                                 ...   \n",
       "828                              ['excel', 'microsoft']   \n",
       "580   ['sql', 'excel', 'bi', 'microsoft', 'power bi'...   \n",
       "27                              ['excel', 'powerpoint']   \n",
       "122                                              [None]   \n",
       "1324                                             [None]   \n",
       "\n",
       "                                             skill_list  degree_list  \\\n",
       "442   ['etl', 'data warehousing', 'analyz', 'busi', ...        999.0   \n",
       "3148  ['recommend', 'supervis', 'commun', 'busi', 'd...          1.0   \n",
       "900                      ['research', 'data', 'commun']          3.0   \n",
       "2152  ['information technology', 'dashboard', 'accou...          1.0   \n",
       "2413  ['research', 'statist', 'predict', 'dashboard'...          1.0   \n",
       "...                                                 ...          ...   \n",
       "828    ['problem solving', 'busi', 'data', 'healthcar']          1.0   \n",
       "580                       ['account', 'busi', 'commun']          1.0   \n",
       "27    ['statist', 'recommend', 'econom', 'commun', '...          1.0   \n",
       "122                               ['busi', 'recommend']        999.0   \n",
       "1324                         ['busi', 'data', 'analyz']          1.0   \n",
       "\n",
       "                                                  clean  \\\n",
       "442   ['sql', 'etl', 'data warehousing', 'analyz', '...   \n",
       "3148  ['microsoft', 'excel', 'vba', 'sql', 'recommen...   \n",
       "900             ['excel', 'research', 'data', 'commun']   \n",
       "2152  ['excel', 'powerbi', 'vba', 'tableau', 'inform...   \n",
       "2413  ['excel', 'sql', 'research', 'statist', 'predi...   \n",
       "...                                                 ...   \n",
       "828   ['excel', 'microsoft', 'problem solving', 'bus...   \n",
       "580   ['sql', 'excel', 'powerbi', 'microsoft', 'ssr'...   \n",
       "27    ['excel', 'powerpoint', 'statist', 'recommend'...   \n",
       "122                               ['busi', 'recommend']   \n",
       "1324                         ['busi', 'data', 'analyz']   \n",
       "\n",
       "                                               lda_list  \\\n",
       "442                                    ['wareh', 'etl']   \n",
       "3148            ['program', 'integr', 'parti', 'medic']   \n",
       "900                   ['public', 'integr', 'algorithm']   \n",
       "2152        ['program', 'integr', 'challeng', 'assist']   \n",
       "2413  ['feedback', 'challeng', 'clinic', 'predict', ...   \n",
       "...                                                 ...   \n",
       "828                                ['integr', 'assist']   \n",
       "580                      ['engin', 'program', 'integr']   \n",
       "27                               ['quantit', 'statist']   \n",
       "122                                              [None]   \n",
       "1324                                             [None]   \n",
       "\n",
       "                                                newlist  \n",
       "442   ['sql', 'etl', 'data warehousing', 'analyz', '...  \n",
       "3148  ['microsoft', 'excel', 'vba', 'sql', 'recommen...  \n",
       "900   ['excel', 'research', 'data', 'commun', 'publi...  \n",
       "2152  ['excel', 'powerbi', 'vba', 'tableau', 'inform...  \n",
       "2413  ['excel', 'sql', 'research', 'statist', 'predi...  \n",
       "...                                                 ...  \n",
       "828   ['excel', 'microsoft', 'problem solving', 'bus...  \n",
       "580   ['sql', 'excel', 'powerbi', 'microsoft', 'ssr'...  \n",
       "27    ['excel', 'powerpoint', 'statist', 'recommend'...  \n",
       "122                         ['busi', 'recommend', None]  \n",
       "1324                   ['busi', 'data', 'analyz', None]  \n",
       "\n",
       "[4140 rows x 8 columns]"
      ]
     },
     "execution_count": 9,
     "metadata": {},
     "output_type": "execute_result"
    }
   ],
   "source": [
    "df_whole"
   ]
  },
  {
   "cell_type": "markdown",
   "metadata": {},
   "source": [
    "# Models"
   ]
  },
  {
   "cell_type": "code",
   "execution_count": 10,
   "metadata": {},
   "outputs": [],
   "source": [
    "from sklearn.feature_extraction.text import CountVectorizer\n",
    "from sklearn.feature_extraction.text import TfidfTransformer\n",
    "from sklearn.metrics import classification_report,confusion_matrix\n",
    "from sklearn.tree import DecisionTreeClassifier\n",
    "from sklearn.model_selection import train_test_split"
   ]
  },
  {
   "cell_type": "code",
   "execution_count": 16,
   "metadata": {},
   "outputs": [],
   "source": [
    "def evaluate_model(df,best,rf=False):\n",
    "    df_train, df_test = train_test_split(df, test_size = 0.3)\n",
    "    clean_train=df_train[\"newlist\"]\n",
    "    Y_train=df_train[\"JT\"]\n",
    "    clean_test=df_test[\"newlist\"]\n",
    "    Y_test=df_test[\"JT\"]\n",
    "\n",
    "    vectorizer = CountVectorizer().fit(df[\"newlist\"])\n",
    "    clean_bow= vectorizer.transform(df[\"newlist\"])\n",
    "    train_bow = vectorizer.transform(clean_train)\n",
    "    test_bow = vectorizer.transform(clean_test)\n",
    "    parameter=vectorizer.get_feature_names()\n",
    "    \n",
    "    tfidf_transformer = TfidfTransformer().fit(clean_bow)\n",
    "    X_train = tfidf_transformer.transform(train_bow)\n",
    "    X_test = tfidf_transformer.transform(test_bow)\n",
    "    \n",
    "    best.fit(X_train, Y_train)\n",
    "    predictions1 = best.predict(X_test)\n",
    "    print(classification_report(Y_test,predictions1))\n",
    "    if rf:\n",
    "        importances =best.feature_importances_\n",
    "        forest_importances = pd.Series(importances,index=parameter)\n",
    "        forest_importances=forest_importances.sort_values(ascending=False)[0:10]\n",
    "        ax=forest_importances.plot.barh(x='lab', y='val')\n",
    "        ax.invert_yaxis()\n",
    "    return forest_importances"
   ]
  },
  {
   "cell_type": "code",
   "execution_count": 12,
   "metadata": {},
   "outputs": [],
   "source": [
    "def get_df_name(df):\n",
    "    name =[x for x in globals() if globals()[x] is df][0]\n",
    "    return name"
   ]
  },
  {
   "cell_type": "code",
   "execution_count": 13,
   "metadata": {},
   "outputs": [],
   "source": [
    "def encoding(name):\n",
    "    df = pd.DataFrame()\n",
    "    whole_list=[df_DA,df_DS,df_DE,df_BA]\n",
    "    for i in whole_list:\n",
    "        name1=get_df_name(i)\n",
    "        if name1.split(\"_\")[1]!=name:\n",
    "            i_copy=i.sample(n=340)\n",
    "        else:\n",
    "            i_copy=i.copy()\n",
    "        df=pd.concat([df,i_copy],ignore_index=True)\n",
    "    df[\"NEWJT\"]= np.where(df[\"JT\"]==name,\"1\",\"0\")\n",
    "\n",
    "    df[\"JT\"]=df[\"NEWJT\"]\n",
    "    return df"
   ]
  },
  {
   "cell_type": "code",
   "execution_count": 19,
   "metadata": {},
   "outputs": [],
   "source": [
    "BA_model = encoding('BA')"
   ]
  },
  {
   "cell_type": "code",
   "execution_count": 20,
   "metadata": {},
   "outputs": [
    {
     "data": {
      "text/html": [
       "<div>\n",
       "<style scoped>\n",
       "    .dataframe tbody tr th:only-of-type {\n",
       "        vertical-align: middle;\n",
       "    }\n",
       "\n",
       "    .dataframe tbody tr th {\n",
       "        vertical-align: top;\n",
       "    }\n",
       "\n",
       "    .dataframe thead th {\n",
       "        text-align: right;\n",
       "    }\n",
       "</style>\n",
       "<table border=\"1\" class=\"dataframe\">\n",
       "  <thead>\n",
       "    <tr style=\"text-align: right;\">\n",
       "      <th></th>\n",
       "      <th>JT</th>\n",
       "      <th>JD</th>\n",
       "      <th>tool_list</th>\n",
       "      <th>skill_list</th>\n",
       "      <th>degree_list</th>\n",
       "      <th>clean</th>\n",
       "      <th>lda_list</th>\n",
       "      <th>newlist</th>\n",
       "      <th>NEWJT</th>\n",
       "    </tr>\n",
       "  </thead>\n",
       "  <tbody>\n",
       "    <tr>\n",
       "      <th>0</th>\n",
       "      <td>0</td>\n",
       "      <td>Interpret data, analyze results using statisti...</td>\n",
       "      <td>['sa', 'sql', 'spss', 'excel', 'javascript']</td>\n",
       "      <td>['etl', 'data', 'analyz', 'busi', 'statist']</td>\n",
       "      <td>2.0</td>\n",
       "      <td>['sa', 'sql', 'spss', 'excel', 'javascript', '...</td>\n",
       "      <td>['engin', 'techniqu', 'statist', 'etl']</td>\n",
       "      <td>['sa', 'sql', 'spss', 'excel', 'javascript', '...</td>\n",
       "      <td>0</td>\n",
       "    </tr>\n",
       "    <tr>\n",
       "      <th>1</th>\n",
       "      <td>0</td>\n",
       "      <td>This employee owned and the nation's largest m...</td>\n",
       "      <td>[None]</td>\n",
       "      <td>['data']</td>\n",
       "      <td>999.0</td>\n",
       "      <td>['data']</td>\n",
       "      <td>['mortgag']</td>\n",
       "      <td>['data', 'mortgag']</td>\n",
       "      <td>0</td>\n",
       "    </tr>\n",
       "    <tr>\n",
       "      <th>2</th>\n",
       "      <td>0</td>\n",
       "      <td>22-Jun-2020\\n#job-location.job-location-inline...</td>\n",
       "      <td>['qlik', 'erp', 'erp system', 'excel', 'micros...</td>\n",
       "      <td>['segment', 'dashboard', 'kpi', 'visual', 'ana...</td>\n",
       "      <td>1.0</td>\n",
       "      <td>['qlik', 'erp', 'erp system', 'excel', 'micros...</td>\n",
       "      <td>['engin', 'program', 'integr', 'assist']</td>\n",
       "      <td>['qlik', 'erp', 'erp system', 'excel', 'micros...</td>\n",
       "      <td>0</td>\n",
       "    </tr>\n",
       "    <tr>\n",
       "      <th>3</th>\n",
       "      <td>0</td>\n",
       "      <td>Data Analyst III\\nDuration: 6+ months\\nDuties:...</td>\n",
       "      <td>['sql', 'excel', 'bi', 'power bi', 'c', 'table...</td>\n",
       "      <td>['statist', 'recommend', 'econom', 'visual', '...</td>\n",
       "      <td>1.0</td>\n",
       "      <td>['sql', 'excel', 'powerbi', 'c', 'tableau', 's...</td>\n",
       "      <td>['quantit', 'statist', 'program', 'asset']</td>\n",
       "      <td>['sql', 'excel', 'powerbi', 'c', 'tableau', 's...</td>\n",
       "      <td>0</td>\n",
       "    </tr>\n",
       "    <tr>\n",
       "      <th>4</th>\n",
       "      <td>0</td>\n",
       "      <td>RESPONSIBILITIES:\\nKey Tasks:\\nProvides the hi...</td>\n",
       "      <td>['tableau']</td>\n",
       "      <td>['data modeling', 'busi', 'data', 'dashboard']</td>\n",
       "      <td>999.0</td>\n",
       "      <td>['tableau', 'data modeling', 'busi', 'data', '...</td>\n",
       "      <td>['integr', 'challeng']</td>\n",
       "      <td>['tableau', 'data modeling', 'busi', 'data', '...</td>\n",
       "      <td>0</td>\n",
       "    </tr>\n",
       "    <tr>\n",
       "      <th>...</th>\n",
       "      <td>...</td>\n",
       "      <td>...</td>\n",
       "      <td>...</td>\n",
       "      <td>...</td>\n",
       "      <td>...</td>\n",
       "      <td>...</td>\n",
       "      <td>...</td>\n",
       "      <td>...</td>\n",
       "      <td>...</td>\n",
       "    </tr>\n",
       "    <tr>\n",
       "      <th>2015</th>\n",
       "      <td>1</td>\n",
       "      <td>Position Purpose: Perform various analysis and...</td>\n",
       "      <td>['excel', 'microsoft']</td>\n",
       "      <td>['problem solving', 'busi', 'data', 'healthcar']</td>\n",
       "      <td>1.0</td>\n",
       "      <td>['excel', 'microsoft', 'problem solving', 'bus...</td>\n",
       "      <td>['integr', 'assist']</td>\n",
       "      <td>['excel', 'microsoft', 'problem solving', 'bus...</td>\n",
       "      <td>1</td>\n",
       "    </tr>\n",
       "    <tr>\n",
       "      <th>2016</th>\n",
       "      <td>1</td>\n",
       "      <td>The Business Analyst accomplishes objectives t...</td>\n",
       "      <td>['sql', 'excel', 'bi', 'microsoft', 'power bi'...</td>\n",
       "      <td>['account', 'busi', 'commun']</td>\n",
       "      <td>1.0</td>\n",
       "      <td>['sql', 'excel', 'powerbi', 'microsoft', 'ssr'...</td>\n",
       "      <td>['engin', 'program', 'integr']</td>\n",
       "      <td>['sql', 'excel', 'powerbi', 'microsoft', 'ssr'...</td>\n",
       "      <td>1</td>\n",
       "    </tr>\n",
       "    <tr>\n",
       "      <th>2017</th>\n",
       "      <td>1</td>\n",
       "      <td>Project work in more than 25 countries\\nExtens...</td>\n",
       "      <td>['excel', 'powerpoint']</td>\n",
       "      <td>['statist', 'recommend', 'econom', 'commun', '...</td>\n",
       "      <td>1.0</td>\n",
       "      <td>['excel', 'powerpoint', 'statist', 'recommend'...</td>\n",
       "      <td>['quantit', 'statist']</td>\n",
       "      <td>['excel', 'powerpoint', 'statist', 'recommend'...</td>\n",
       "      <td>1</td>\n",
       "    </tr>\n",
       "    <tr>\n",
       "      <th>2018</th>\n",
       "      <td>1</td>\n",
       "      <td>MS Dynamics CRM Admin/Developer and .Net devel...</td>\n",
       "      <td>[None]</td>\n",
       "      <td>['busi', 'recommend']</td>\n",
       "      <td>999.0</td>\n",
       "      <td>['busi', 'recommend']</td>\n",
       "      <td>[None]</td>\n",
       "      <td>['busi', 'recommend', None]</td>\n",
       "      <td>1</td>\n",
       "    </tr>\n",
       "    <tr>\n",
       "      <th>2019</th>\n",
       "      <td>1</td>\n",
       "      <td>Job Code : MIRI0008\\nPosition Summary:\\nJob Po...</td>\n",
       "      <td>[None]</td>\n",
       "      <td>['busi', 'data', 'analyz']</td>\n",
       "      <td>1.0</td>\n",
       "      <td>['busi', 'data', 'analyz']</td>\n",
       "      <td>[None]</td>\n",
       "      <td>['busi', 'data', 'analyz', None]</td>\n",
       "      <td>1</td>\n",
       "    </tr>\n",
       "  </tbody>\n",
       "</table>\n",
       "<p>2020 rows × 9 columns</p>\n",
       "</div>"
      ],
      "text/plain": [
       "     JT                                                 JD  \\\n",
       "0     0  Interpret data, analyze results using statisti...   \n",
       "1     0  This employee owned and the nation's largest m...   \n",
       "2     0  22-Jun-2020\\n#job-location.job-location-inline...   \n",
       "3     0  Data Analyst III\\nDuration: 6+ months\\nDuties:...   \n",
       "4     0  RESPONSIBILITIES:\\nKey Tasks:\\nProvides the hi...   \n",
       "...  ..                                                ...   \n",
       "2015  1  Position Purpose: Perform various analysis and...   \n",
       "2016  1  The Business Analyst accomplishes objectives t...   \n",
       "2017  1  Project work in more than 25 countries\\nExtens...   \n",
       "2018  1  MS Dynamics CRM Admin/Developer and .Net devel...   \n",
       "2019  1  Job Code : MIRI0008\\nPosition Summary:\\nJob Po...   \n",
       "\n",
       "                                              tool_list  \\\n",
       "0          ['sa', 'sql', 'spss', 'excel', 'javascript']   \n",
       "1                                                [None]   \n",
       "2     ['qlik', 'erp', 'erp system', 'excel', 'micros...   \n",
       "3     ['sql', 'excel', 'bi', 'power bi', 'c', 'table...   \n",
       "4                                           ['tableau']   \n",
       "...                                                 ...   \n",
       "2015                             ['excel', 'microsoft']   \n",
       "2016  ['sql', 'excel', 'bi', 'microsoft', 'power bi'...   \n",
       "2017                            ['excel', 'powerpoint']   \n",
       "2018                                             [None]   \n",
       "2019                                             [None]   \n",
       "\n",
       "                                             skill_list  degree_list  \\\n",
       "0          ['etl', 'data', 'analyz', 'busi', 'statist']          2.0   \n",
       "1                                              ['data']        999.0   \n",
       "2     ['segment', 'dashboard', 'kpi', 'visual', 'ana...          1.0   \n",
       "3     ['statist', 'recommend', 'econom', 'visual', '...          1.0   \n",
       "4        ['data modeling', 'busi', 'data', 'dashboard']        999.0   \n",
       "...                                                 ...          ...   \n",
       "2015   ['problem solving', 'busi', 'data', 'healthcar']          1.0   \n",
       "2016                      ['account', 'busi', 'commun']          1.0   \n",
       "2017  ['statist', 'recommend', 'econom', 'commun', '...          1.0   \n",
       "2018                              ['busi', 'recommend']        999.0   \n",
       "2019                         ['busi', 'data', 'analyz']          1.0   \n",
       "\n",
       "                                                  clean  \\\n",
       "0     ['sa', 'sql', 'spss', 'excel', 'javascript', '...   \n",
       "1                                              ['data']   \n",
       "2     ['qlik', 'erp', 'erp system', 'excel', 'micros...   \n",
       "3     ['sql', 'excel', 'powerbi', 'c', 'tableau', 's...   \n",
       "4     ['tableau', 'data modeling', 'busi', 'data', '...   \n",
       "...                                                 ...   \n",
       "2015  ['excel', 'microsoft', 'problem solving', 'bus...   \n",
       "2016  ['sql', 'excel', 'powerbi', 'microsoft', 'ssr'...   \n",
       "2017  ['excel', 'powerpoint', 'statist', 'recommend'...   \n",
       "2018                              ['busi', 'recommend']   \n",
       "2019                         ['busi', 'data', 'analyz']   \n",
       "\n",
       "                                        lda_list  \\\n",
       "0        ['engin', 'techniqu', 'statist', 'etl']   \n",
       "1                                    ['mortgag']   \n",
       "2       ['engin', 'program', 'integr', 'assist']   \n",
       "3     ['quantit', 'statist', 'program', 'asset']   \n",
       "4                         ['integr', 'challeng']   \n",
       "...                                          ...   \n",
       "2015                        ['integr', 'assist']   \n",
       "2016              ['engin', 'program', 'integr']   \n",
       "2017                      ['quantit', 'statist']   \n",
       "2018                                      [None]   \n",
       "2019                                      [None]   \n",
       "\n",
       "                                                newlist NEWJT  \n",
       "0     ['sa', 'sql', 'spss', 'excel', 'javascript', '...     0  \n",
       "1                                   ['data', 'mortgag']     0  \n",
       "2     ['qlik', 'erp', 'erp system', 'excel', 'micros...     0  \n",
       "3     ['sql', 'excel', 'powerbi', 'c', 'tableau', 's...     0  \n",
       "4     ['tableau', 'data modeling', 'busi', 'data', '...     0  \n",
       "...                                                 ...   ...  \n",
       "2015  ['excel', 'microsoft', 'problem solving', 'bus...     1  \n",
       "2016  ['sql', 'excel', 'powerbi', 'microsoft', 'ssr'...     1  \n",
       "2017  ['excel', 'powerpoint', 'statist', 'recommend'...     1  \n",
       "2018                        ['busi', 'recommend', None]     1  \n",
       "2019                   ['busi', 'data', 'analyz', None]     1  \n",
       "\n",
       "[2020 rows x 9 columns]"
      ]
     },
     "execution_count": 20,
     "metadata": {},
     "output_type": "execute_result"
    }
   ],
   "source": [
    "BA_model"
   ]
  },
  {
   "cell_type": "code",
   "execution_count": 21,
   "metadata": {},
   "outputs": [
    {
     "data": {
      "text/plain": [
       "count     2020\n",
       "unique       2\n",
       "top          0\n",
       "freq      1020\n",
       "Name: JT, dtype: object"
      ]
     },
     "execution_count": 21,
     "metadata": {},
     "output_type": "execute_result"
    }
   ],
   "source": [
    "BA_model['JT'].describe()"
   ]
  },
  {
   "cell_type": "markdown",
   "metadata": {},
   "source": [
    "## Decision Tree"
   ]
  },
  {
   "cell_type": "code",
   "execution_count": 32,
   "metadata": {},
   "outputs": [
    {
     "name": "stdout",
     "output_type": "stream",
     "text": [
      "              precision    recall  f1-score   support\n",
      "\n",
      "          BA       0.67      0.80      0.73       294\n",
      "          DA       0.64      0.52      0.57       334\n",
      "          DE       0.79      0.79      0.79       345\n",
      "          DS       0.76      0.77      0.76       269\n",
      "\n",
      "    accuracy                           0.72      1242\n",
      "   macro avg       0.71      0.72      0.71      1242\n",
      "weighted avg       0.71      0.72      0.71      1242\n",
      "\n"
     ]
    },
    {
     "data": {
      "text/plain": [
       "python       0.134877\n",
       "statist      0.119282\n",
       "busi         0.097214\n",
       "data         0.047283\n",
       "scientist    0.046596\n",
       "spark        0.029200\n",
       "sql          0.028537\n",
       "pipelin      0.024566\n",
       "engin        0.023162\n",
       "cloud        0.017158\n",
       "dtype: float64"
      ]
     },
     "execution_count": 32,
     "metadata": {},
     "output_type": "execute_result"
    },
    {
     "data": {
      "image/png": "[encoded data removed]",
      "text/plain": [
       "<Figure size 432x288 with 1 Axes>"
      ]
     },
     "metadata": {
      "needs_background": "light"
     },
     "output_type": "display_data"
    }
   ],
   "source": [
    "dtree = DecisionTreeClassifier()\n",
    "evaluate_model(df_whole,dtree,rf=True)\n"
   ]
  },
  {
   "cell_type": "code",
   "execution_count": 29,
   "metadata": {},
   "outputs": [],
   "source": []
  },
  {
   "cell_type": "code",
   "execution_count": 31,
   "metadata": {},
   "outputs": [
    {
     "data": {
      "text/plain": [
       "'busi'"
      ]
     },
     "execution_count": 31,
     "metadata": {},
     "output_type": "execute_result"
    }
   ],
   "source": []
  },
  {
   "cell_type": "markdown",
   "metadata": {},
   "source": [
    "## Random Forest"
   ]
  },
  {
   "cell_type": "code",
   "execution_count": 33,
   "metadata": {},
   "outputs": [
    {
     "name": "stdout",
     "output_type": "stream",
     "text": [
      "              precision    recall  f1-score   support\n",
      "\n",
      "          BA       0.77      0.81      0.79       285\n",
      "          DA       0.67      0.68      0.68       295\n",
      "          DE       0.85      0.87      0.86       371\n",
      "          DS       0.87      0.80      0.84       291\n",
      "\n",
      "    accuracy                           0.79      1242\n",
      "   macro avg       0.79      0.79      0.79      1242\n",
      "weighted avg       0.80      0.79      0.79      1242\n",
      "\n"
     ]
    },
    {
     "data": {
      "text/plain": [
       "data         0.056932\n",
       "busi         0.055556\n",
       "statist      0.050735\n",
       "sql          0.037375\n",
       "commun       0.035656\n",
       "python       0.032823\n",
       "learning     0.029980\n",
       "excel        0.028579\n",
       "algorithm    0.027712\n",
       "engin        0.027272\n",
       "dtype: float64"
      ]
     },
     "execution_count": 33,
     "metadata": {},
     "output_type": "execute_result"
    },
    {
     "data": {
      "image/png": "[encoded data removed]",
      "text/plain": [
       "<Figure size 432x288 with 1 Axes>"
      ]
     },
     "metadata": {
      "needs_background": "light"
     },
     "output_type": "display_data"
    }
   ],
   "source": [
    "from sklearn.ensemble import RandomForestClassifier\n",
    "rf = RandomForestClassifier(n_estimators=10)\n",
    "evaluate_model(df_whole,rf,rf=True)"
   ]
  },
  {
   "cell_type": "code",
   "execution_count": 36,
   "metadata": {},
   "outputs": [],
   "source": [
    "# from sklearn.model_selection import GridSearchCV\n",
    "# parameters = {\n",
    "#      'n_estimators':(10, 50,100,150,200), #the number of trees\n",
    "#      'max_depth':(5,10,20,30,50,80),\n",
    "#      'min_samples_split': (2, 4, 8),\n",
    "#      'min_samples_leaf': (4,8,12,16)\n",
    "# }\n",
    "\n",
    "# model = GridSearchCV(RandomForestClassifier(),parameters,cv=3,iid=False)\n",
    "# model.fit(X_train, Y_train)\n",
    "# model.best_score_, model.best_params_"
   ]
  },
  {
   "cell_type": "code",
   "execution_count": 34,
   "metadata": {},
   "outputs": [],
   "source": [
    "b_model = RandomForestClassifier(max_depth=20,min_samples_leaf=4,min_samples_split=8,n_estimators=200)"
   ]
  },
  {
   "cell_type": "code",
   "execution_count": 35,
   "metadata": {},
   "outputs": [
    {
     "name": "stdout",
     "output_type": "stream",
     "text": [
      "              precision    recall  f1-score   support\n",
      "\n",
      "          BA       0.75      0.83      0.79       282\n",
      "          DA       0.76      0.65      0.70       321\n",
      "          DE       0.85      0.85      0.85       353\n",
      "          DS       0.84      0.89      0.86       286\n",
      "\n",
      "    accuracy                           0.80      1242\n",
      "   macro avg       0.80      0.80      0.80      1242\n",
      "weighted avg       0.80      0.80      0.80      1242\n",
      "\n"
     ]
    },
    {
     "data": {
      "text/plain": [
       "busi         0.088470\n",
       "python       0.058832\n",
       "data         0.058573\n",
       "statist      0.057852\n",
       "scientist    0.043587\n",
       "engin        0.036125\n",
       "learning     0.033818\n",
       "spark        0.031942\n",
       "machin       0.031729\n",
       "machine      0.031095\n",
       "dtype: float64"
      ]
     },
     "execution_count": 35,
     "metadata": {},
     "output_type": "execute_result"
    },
    {
     "data": {
      "image/png": "[encoded data removed]",
      "text/plain": [
       "<Figure size 432x288 with 1 Axes>"
      ]
     },
     "metadata": {
      "needs_background": "light"
     },
     "output_type": "display_data"
    }
   ],
   "source": [
    "evaluate_model(df_whole,b_model,rf=True)"
   ]
  },
  {
   "cell_type": "markdown",
   "metadata": {},
   "source": [
    "### Rf for each JT"
   ]
  },
  {
   "cell_type": "code",
   "execution_count": 40,
   "metadata": {},
   "outputs": [],
   "source": [
    "def feature_extra(series):\n",
    "    result=[]\n",
    "    feature=series.index\n",
    "    for word in feature:\n",
    "        result.append(word)\n",
    "    return result"
   ]
  },
  {
   "cell_type": "code",
   "execution_count": 36,
   "metadata": {},
   "outputs": [],
   "source": [
    "BA_model = encoding('BA')\n",
    "DE_model = encoding('DE')\n",
    "DS_model = encoding('DS')\n",
    "DA_model = encoding('DA')"
   ]
  },
  {
   "cell_type": "code",
   "execution_count": 37,
   "metadata": {},
   "outputs": [],
   "source": [
    "rf = RandomForestClassifier(n_estimators=10)"
   ]
  },
  {
   "cell_type": "code",
   "execution_count": 39,
   "metadata": {},
   "outputs": [
    {
     "name": "stdout",
     "output_type": "stream",
     "text": [
      "              precision    recall  f1-score   support\n",
      "\n",
      "           0       0.89      0.84      0.86       321\n",
      "           1       0.83      0.88      0.85       285\n",
      "\n",
      "    accuracy                           0.86       606\n",
      "   macro avg       0.86      0.86      0.86       606\n",
      "weighted avg       0.86      0.86      0.86       606\n",
      "\n"
     ]
    },
    {
     "data": {
      "image/png": "[encoded data removed]",
      "text/plain": [
       "<Figure size 432x288 with 1 Axes>"
      ]
     },
     "metadata": {
      "needs_background": "light"
     },
     "output_type": "display_data"
    }
   ],
   "source": [
    "BA_Feature=evaluate_model(BA_model,rf,rf=True)"
   ]
  },
  {
   "cell_type": "code",
   "execution_count": 41,
   "metadata": {},
   "outputs": [
    {
     "data": {
      "text/plain": [
       "['busi',\n",
       " 'data',\n",
       " 'python',\n",
       " 'excel',\n",
       " 'engin',\n",
       " 'commun',\n",
       " 'scientist',\n",
       " 'statist',\n",
       " 'visual',\n",
       " 'spark']"
      ]
     },
     "execution_count": 41,
     "metadata": {},
     "output_type": "execute_result"
    }
   ],
   "source": [
    "BA_feature=feature_extra(BA_Feature)\n",
    "BA_feature"
   ]
  },
  {
   "cell_type": "code",
   "execution_count": 42,
   "metadata": {},
   "outputs": [
    {
     "name": "stdout",
     "output_type": "stream",
     "text": [
      "              precision    recall  f1-score   support\n",
      "\n",
      "           0       0.81      0.76      0.78       315\n",
      "           1       0.76      0.80      0.78       291\n",
      "\n",
      "    accuracy                           0.78       606\n",
      "   macro avg       0.78      0.78      0.78       606\n",
      "weighted avg       0.78      0.78      0.78       606\n",
      "\n"
     ]
    },
    {
     "data": {
      "image/png": "[encoded data removed]",
      "text/plain": [
       "<Figure size 432x288 with 1 Axes>"
      ]
     },
     "metadata": {
      "needs_background": "light"
     },
     "output_type": "display_data"
    }
   ],
   "source": [
    "DA_Feature=evaluate_model(DA_model,rf,rf=True)\n",
    "DA_feature=feature_extra(DA_Feature)"
   ]
  },
  {
   "cell_type": "code",
   "execution_count": 43,
   "metadata": {},
   "outputs": [
    {
     "data": {
      "text/plain": [
       "['data',\n",
       " 'learning',\n",
       " 'busi',\n",
       " 'sql',\n",
       " 'cloud',\n",
       " 'python',\n",
       " 'excel',\n",
       " 'scala',\n",
       " 'scientist',\n",
       " 'commun']"
      ]
     },
     "execution_count": 43,
     "metadata": {},
     "output_type": "execute_result"
    }
   ],
   "source": [
    "DA_feature"
   ]
  },
  {
   "cell_type": "code",
   "execution_count": 45,
   "metadata": {},
   "outputs": [
    {
     "name": "stdout",
     "output_type": "stream",
     "text": [
      "              precision    recall  f1-score   support\n",
      "\n",
      "           0       0.88      0.92      0.90       332\n",
      "           1       0.89      0.84      0.86       266\n",
      "\n",
      "    accuracy                           0.88       598\n",
      "   macro avg       0.88      0.88      0.88       598\n",
      "weighted avg       0.88      0.88      0.88       598\n",
      "\n"
     ]
    },
    {
     "data": {
      "image/png": "[encoded data removed]",
      "text/plain": [
       "<Figure size 432x288 with 1 Axes>"
      ]
     },
     "metadata": {
      "needs_background": "light"
     },
     "output_type": "display_data"
    }
   ],
   "source": [
    "DS_Feature=evaluate_model(DS_model,rf,rf=True)\n",
    "DS_feature=feature_extra(DS_Feature)"
   ]
  },
  {
   "cell_type": "code",
   "execution_count": 46,
   "metadata": {},
   "outputs": [
    {
     "data": {
      "text/plain": [
       "['scientist',\n",
       " 'machin',\n",
       " 'machine',\n",
       " 'statist',\n",
       " 'python',\n",
       " 'learning',\n",
       " 'algorithm',\n",
       " 'busi',\n",
       " 'techniqu',\n",
       " 'data']"
      ]
     },
     "execution_count": 46,
     "metadata": {},
     "output_type": "execute_result"
    }
   ],
   "source": [
    "DS_feature"
   ]
  },
  {
   "cell_type": "code",
   "execution_count": 48,
   "metadata": {},
   "outputs": [
    {
     "name": "stdout",
     "output_type": "stream",
     "text": [
      "              precision    recall  f1-score   support\n",
      "\n",
      "           0       0.87      0.92      0.89       304\n",
      "           1       0.93      0.88      0.90       353\n",
      "\n",
      "    accuracy                           0.90       657\n",
      "   macro avg       0.90      0.90      0.90       657\n",
      "weighted avg       0.90      0.90      0.90       657\n",
      "\n"
     ]
    },
    {
     "data": {
      "image/png": "[encoded data removed]",
      "text/plain": [
       "<Figure size 432x288 with 1 Axes>"
      ]
     },
     "metadata": {
      "needs_background": "light"
     },
     "output_type": "display_data"
    }
   ],
   "source": [
    "DE_Feature=evaluate_model(DE_model,rf,rf=True)\n",
    "DE_feature=feature_extra(DE_Feature)"
   ]
  },
  {
   "cell_type": "code",
   "execution_count": 49,
   "metadata": {},
   "outputs": [
    {
     "data": {
      "text/plain": [
       "['engin',\n",
       " 'pipelin',\n",
       " 'statist',\n",
       " 'aw',\n",
       " 'spark',\n",
       " 'python',\n",
       " 'hadoop',\n",
       " 'kafka',\n",
       " 'data',\n",
       " 'etl']"
      ]
     },
     "execution_count": 49,
     "metadata": {},
     "output_type": "execute_result"
    }
   ],
   "source": [
    "DE_feature"
   ]
  },
  {
   "cell_type": "code",
   "execution_count": 52,
   "metadata": {},
   "outputs": [],
   "source": [
    "with open('Feature_List', 'w') as f:\n",
    "      \n",
    "    # using csv.writer method from CSV package\n",
    "    write = csv.writer(f)\n",
    "      \n",
    "    write.writerow(BA_feature)\n",
    "    write.writerow(DA_feature)\n",
    "    write.writerow(DS_feature)\n",
    "    write.writerow(DE_feature)"
   ]
  },
  {
   "cell_type": "markdown",
   "metadata": {},
   "source": [
    "## Bagging"
   ]
  },
  {
   "cell_type": "code",
   "execution_count": null,
   "metadata": {},
   "outputs": [],
   "source": [
    "from sklearn.ensemble import BaggingClassifier\n",
    "# parameters = {\n",
    "#      'n_estimators':(30, 50,80), #the number of trees\n",
    "#      'max_samples':(20,40,60,80,100,120,150,200),\n",
    "#      'max_features':(20,40,60,80,100,120,150,200),\n",
    "     \n",
    "# }\n",
    "\n",
    "# model = GridSearchCV(BaggingClassifier(),parameters,cv=3,iid=False)\n",
    "# model.fit(X_train, Y_train)\n",
    "# model.best_score_, model.best_params_"
   ]
  },
  {
   "cell_type": "code",
   "execution_count": null,
   "metadata": {},
   "outputs": [],
   "source": [
    "bg_model=BaggingClassifier(max_features=120,max_samples=200,n_estimators=80)\n",
    "evaluate_model(df_whole,bg_model)"
   ]
  },
  {
   "cell_type": "code",
   "execution_count": null,
   "metadata": {},
   "outputs": [],
   "source": [
    "bg=BaggingClassifier()"
   ]
  },
  {
   "cell_type": "code",
   "execution_count": null,
   "metadata": {},
   "outputs": [],
   "source": [
    "evaluate_model(BA_model,bg)"
   ]
  },
  {
   "cell_type": "code",
   "execution_count": null,
   "metadata": {},
   "outputs": [],
   "source": [
    "evaluate_model(DA_model,bg)"
   ]
  },
  {
   "cell_type": "code",
   "execution_count": null,
   "metadata": {},
   "outputs": [],
   "source": []
  },
  {
   "cell_type": "code",
   "execution_count": null,
   "metadata": {},
   "outputs": [],
   "source": []
  }
 ],
 "metadata": {
  "kernelspec": {
   "display_name": "Python 3",
   "language": "python",
   "name": "python3"
  },
  "language_info": {
   "codemirror_mode": {
    "name": "ipython",
    "version": 3
   },
   "file_extension": ".py",
   "mimetype": "text/x-python",
   "name": "python",
   "nbconvert_exporter": "python",
   "pygments_lexer": "ipython3",
   "version": "3.8.8"
  }
 },
 "nbformat": 4,
 "nbformat_minor": 4
}
