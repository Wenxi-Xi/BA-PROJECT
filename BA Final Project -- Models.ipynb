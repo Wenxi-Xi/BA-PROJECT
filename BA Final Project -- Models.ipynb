{
 "cells": [
  {
   "cell_type": "code",
   "execution_count": 1,
   "metadata": {},
   "outputs": [],
   "source": [
    "import pandas as pd\n",
    "import numpy as np\n",
    "from sklearn.model_selection import train_test_split"
   ]
  },
  {
   "cell_type": "markdown",
   "metadata": {},
   "source": [
    "# Read In Data"
   ]
  },
  {
   "cell_type": "code",
   "execution_count": 2,
   "metadata": {},
   "outputs": [],
   "source": [
    "df_BA=pd.read_csv('BA')\n",
    "df_DS=pd.read_csv('DS')\n",
    "df_DA=pd.read_csv('DA')\n",
    "df_DE=pd.read_csv('DE')"
   ]
  },
  {
   "cell_type": "code",
   "execution_count": null,
   "metadata": {},
   "outputs": [],
   "source": []
  },
  {
   "cell_type": "markdown",
   "metadata": {},
   "source": [
    "# Sample and Split"
   ]
  },
  {
   "cell_type": "code",
   "execution_count": 3,
   "metadata": {},
   "outputs": [],
   "source": [
    "from sklearn.model_selection import train_test_split"
   ]
  },
  {
   "cell_type": "code",
   "execution_count": 4,
   "metadata": {},
   "outputs": [
    {
     "data": {
      "text/plain": [
       "(973, 3983, 1663, 1167)"
      ]
     },
     "execution_count": 4,
     "metadata": {},
     "output_type": "execute_result"
    }
   ],
   "source": [
    "len(df_DS),len(df_DA),len(df_BA),len(df_DE)"
   ]
  },
  {
   "cell_type": "code",
   "execution_count": 5,
   "metadata": {},
   "outputs": [],
   "source": [
    "df_DA=df_DA.sample(n=1000,replace=True)\n",
    "df_BA=df_BA.sample(n=1000,replace=True)"
   ]
  },
  {
   "cell_type": "code",
   "execution_count": 6,
   "metadata": {},
   "outputs": [
    {
     "data": {
      "text/plain": [
       "(973, 1000, 1000, 1167)"
      ]
     },
     "execution_count": 6,
     "metadata": {},
     "output_type": "execute_result"
    }
   ],
   "source": [
    "len(df_DS),len(df_DA),len(df_BA),len(df_DE)"
   ]
  },
  {
   "cell_type": "code",
   "execution_count": 7,
   "metadata": {},
   "outputs": [],
   "source": [
    "whole_list=[df_DA,df_DS,df_DE,df_BA]\n",
    "df_whole=pd.concat(whole_list)"
   ]
  },
  {
   "cell_type": "code",
   "execution_count": null,
   "metadata": {},
   "outputs": [],
   "source": []
  },
  {
   "cell_type": "markdown",
   "metadata": {},
   "source": [
    "# Models"
   ]
  },
  {
   "cell_type": "code",
   "execution_count": 8,
   "metadata": {},
   "outputs": [],
   "source": [
    "from sklearn.feature_extraction.text import CountVectorizer\n",
    "from sklearn.feature_extraction.text import TfidfTransformer\n",
    "from sklearn.metrics import classification_report,confusion_matrix\n",
    "from sklearn.tree import DecisionTreeClassifier\n",
    "from sklearn.model_selection import train_test_split"
   ]
  },
  {
   "cell_type": "code",
   "execution_count": 9,
   "metadata": {},
   "outputs": [],
   "source": [
    "def evaluate_model(df,best,rf=False):\n",
    "    df_train, df_test = train_test_split(df, test_size = 0.3)\n",
    "    clean_train=df_train[\"clean\"]\n",
    "    Y_train=df_train[\"JT\"]\n",
    "    clean_test=df_test[\"clean\"]\n",
    "    Y_test=df_test[\"JT\"]\n",
    "\n",
    "    vectorizer = CountVectorizer().fit(df[\"clean\"])\n",
    "    clean_bow= vectorizer.transform(df[\"clean\"])\n",
    "    train_bow = vectorizer.transform(clean_train)\n",
    "    test_bow = vectorizer.transform(clean_test)\n",
    "    parameter=vectorizer.get_feature_names()\n",
    "    \n",
    "    tfidf_transformer = TfidfTransformer().fit(clean_bow)\n",
    "    X_train = tfidf_transformer.transform(train_bow)\n",
    "    X_test = tfidf_transformer.transform(test_bow)\n",
    "    \n",
    "    best.fit(X_train, Y_train)\n",
    "    predictions1 = best.predict(X_test)\n",
    "    print(classification_report(Y_test,predictions1))\n",
    "    if rf:\n",
    "        importances =best.feature_importances_\n",
    "        forest_importances = pd.Series(importances,index=parameter)\n",
    "        forest_importances=forest_importances.sort_values(ascending=False)[0:10]\n",
    "        ax=forest_importances.plot.barh(x='lab', y='val')\n",
    "        ax.invert_yaxis()\n",
    "    "
   ]
  },
  {
   "cell_type": "code",
   "execution_count": 10,
   "metadata": {},
   "outputs": [],
   "source": [
    "def get_df_name(df):\n",
    "    name =[x for x in globals() if globals()[x] is df][0]\n",
    "    return name"
   ]
  },
  {
   "cell_type": "code",
   "execution_count": 11,
   "metadata": {},
   "outputs": [],
   "source": [
    "def encoding(name):\n",
    "    df = pd.DataFrame()\n",
    "    whole_list=[df_DA,df_DS,df_DE,df_BA]\n",
    "    for i in whole_list:\n",
    "        name1=get_df_name(i)\n",
    "        if name1.split(\"_\")[1]!=name:\n",
    "            i_copy=i.sample(n=340,replace=True)\n",
    "        else:\n",
    "            i_copy=i.copy()\n",
    "        df=pd.concat([df,i_copy],ignore_index=True)\n",
    "    df[\"NEWJT\"]= np.where(df[\"JT\"]==name,\"1\",\"0\")\n",
    "\n",
    "    df[\"JT\"]=df[\"NEWJT\"]\n",
    "    return df"
   ]
  },
  {
   "cell_type": "code",
   "execution_count": 12,
   "metadata": {},
   "outputs": [],
   "source": [
    "BA_model = encoding('BA')"
   ]
  },
  {
   "cell_type": "code",
   "execution_count": 13,
   "metadata": {},
   "outputs": [
    {
     "data": {
      "text/html": [
       "<div>\n",
       "<style scoped>\n",
       "    .dataframe tbody tr th:only-of-type {\n",
       "        vertical-align: middle;\n",
       "    }\n",
       "\n",
       "    .dataframe tbody tr th {\n",
       "        vertical-align: top;\n",
       "    }\n",
       "\n",
       "    .dataframe thead th {\n",
       "        text-align: right;\n",
       "    }\n",
       "</style>\n",
       "<table border=\"1\" class=\"dataframe\">\n",
       "  <thead>\n",
       "    <tr style=\"text-align: right;\">\n",
       "      <th></th>\n",
       "      <th>JT</th>\n",
       "      <th>JD</th>\n",
       "      <th>tool_list</th>\n",
       "      <th>skill_list</th>\n",
       "      <th>degree_list</th>\n",
       "      <th>clean</th>\n",
       "      <th>NEWJT</th>\n",
       "    </tr>\n",
       "  </thead>\n",
       "  <tbody>\n",
       "    <tr>\n",
       "      <th>0</th>\n",
       "      <td>0</td>\n",
       "      <td>These are long-term engagements.\\nPlease find ...</td>\n",
       "      <td>[None]</td>\n",
       "      <td>[None]</td>\n",
       "      <td>999.0</td>\n",
       "      <td>[]</td>\n",
       "      <td>0</td>\n",
       "    </tr>\n",
       "    <tr>\n",
       "      <th>1</th>\n",
       "      <td>0</td>\n",
       "      <td>Strength Through Diversity\\nGround breaking sc...</td>\n",
       "      <td>[None]</td>\n",
       "      <td>['data', 'analyz', 'biostatist', 'research', '...</td>\n",
       "      <td>1.0</td>\n",
       "      <td>['data', 'analyz', 'biostatist', 'research', '...</td>\n",
       "      <td>0</td>\n",
       "    </tr>\n",
       "    <tr>\n",
       "      <th>2</th>\n",
       "      <td>0</td>\n",
       "      <td>- Able to work independently\\n-PL/SQL\\n-Knowle...</td>\n",
       "      <td>['tableau', 'sql']</td>\n",
       "      <td>[None]</td>\n",
       "      <td>999.0</td>\n",
       "      <td>['tableau', 'sql']</td>\n",
       "      <td>0</td>\n",
       "    </tr>\n",
       "    <tr>\n",
       "      <th>3</th>\n",
       "      <td>0</td>\n",
       "      <td>Data Analyst\\nIf you are a Data Analyst with e...</td>\n",
       "      <td>['excel', 'sql', 'salesforc', 'bi', 'tableau',...</td>\n",
       "      <td>['busi', 'dashboard', 'data', 'healthcar']</td>\n",
       "      <td>1.0</td>\n",
       "      <td>['excel', 'sql', 'salesforc', 'powerbi', 'tabl...</td>\n",
       "      <td>0</td>\n",
       "    </tr>\n",
       "    <tr>\n",
       "      <th>4</th>\n",
       "      <td>0</td>\n",
       "      <td>The successful candidate will turn data into i...</td>\n",
       "      <td>['power bi', 'excel', 'sql', 'bi', 'spss', 'ja...</td>\n",
       "      <td>['etl', 'data mining', 'data', 'analyz', 'dash...</td>\n",
       "      <td>999.0</td>\n",
       "      <td>['powerbi', 'excel', 'sql', 'spss', 'javascrip...</td>\n",
       "      <td>0</td>\n",
       "    </tr>\n",
       "    <tr>\n",
       "      <th>...</th>\n",
       "      <td>...</td>\n",
       "      <td>...</td>\n",
       "      <td>...</td>\n",
       "      <td>...</td>\n",
       "      <td>...</td>\n",
       "      <td>...</td>\n",
       "      <td>...</td>\n",
       "    </tr>\n",
       "    <tr>\n",
       "      <th>2015</th>\n",
       "      <td>1</td>\n",
       "      <td>As a Business Systems Analyst you will support...</td>\n",
       "      <td>['excel']</td>\n",
       "      <td>['commun', 'busi', 'end user']</td>\n",
       "      <td>1.0</td>\n",
       "      <td>['excel', 'commun', 'busi', 'end user']</td>\n",
       "      <td>1</td>\n",
       "    </tr>\n",
       "    <tr>\n",
       "      <th>2016</th>\n",
       "      <td>1</td>\n",
       "      <td>You will be involved in the design or modifica...</td>\n",
       "      <td>[None]</td>\n",
       "      <td>['busi']</td>\n",
       "      <td>2.0</td>\n",
       "      <td>['busi']</td>\n",
       "      <td>1</td>\n",
       "    </tr>\n",
       "    <tr>\n",
       "      <th>2017</th>\n",
       "      <td>1</td>\n",
       "      <td>Business Analyst (Retail)\\nJob Title\\nBusiness...</td>\n",
       "      <td>['excel', 'sql']</td>\n",
       "      <td>['risk', 'problem solving', 'busi', 'commun', ...</td>\n",
       "      <td>1.0</td>\n",
       "      <td>['excel', 'sql', 'risk', 'problem solving', 'b...</td>\n",
       "      <td>1</td>\n",
       "    </tr>\n",
       "    <tr>\n",
       "      <th>2018</th>\n",
       "      <td>1</td>\n",
       "      <td>Only considering LOCAL CANDIDATESA commercial ...</td>\n",
       "      <td>['powerpoint', 'excel', 'microsoft', 'salesforc']</td>\n",
       "      <td>['commun', 'busi']</td>\n",
       "      <td>1.0</td>\n",
       "      <td>['powerpoint', 'excel', 'microsoft', 'salesfor...</td>\n",
       "      <td>1</td>\n",
       "    </tr>\n",
       "    <tr>\n",
       "      <th>2019</th>\n",
       "      <td>1</td>\n",
       "      <td>For more information, please visit www.firstam...</td>\n",
       "      <td>[None]</td>\n",
       "      <td>['data', 'analyz', 'research', 'busi', 'commun']</td>\n",
       "      <td>1.0</td>\n",
       "      <td>['data', 'analyz', 'research', 'busi', 'commun']</td>\n",
       "      <td>1</td>\n",
       "    </tr>\n",
       "  </tbody>\n",
       "</table>\n",
       "<p>2020 rows × 7 columns</p>\n",
       "</div>"
      ],
      "text/plain": [
       "     JT                                                 JD  \\\n",
       "0     0  These are long-term engagements.\\nPlease find ...   \n",
       "1     0  Strength Through Diversity\\nGround breaking sc...   \n",
       "2     0  - Able to work independently\\n-PL/SQL\\n-Knowle...   \n",
       "3     0  Data Analyst\\nIf you are a Data Analyst with e...   \n",
       "4     0  The successful candidate will turn data into i...   \n",
       "...  ..                                                ...   \n",
       "2015  1  As a Business Systems Analyst you will support...   \n",
       "2016  1  You will be involved in the design or modifica...   \n",
       "2017  1  Business Analyst (Retail)\\nJob Title\\nBusiness...   \n",
       "2018  1  Only considering LOCAL CANDIDATESA commercial ...   \n",
       "2019  1  For more information, please visit www.firstam...   \n",
       "\n",
       "                                              tool_list  \\\n",
       "0                                                [None]   \n",
       "1                                                [None]   \n",
       "2                                    ['tableau', 'sql']   \n",
       "3     ['excel', 'sql', 'salesforc', 'bi', 'tableau',...   \n",
       "4     ['power bi', 'excel', 'sql', 'bi', 'spss', 'ja...   \n",
       "...                                                 ...   \n",
       "2015                                          ['excel']   \n",
       "2016                                             [None]   \n",
       "2017                                   ['excel', 'sql']   \n",
       "2018  ['powerpoint', 'excel', 'microsoft', 'salesforc']   \n",
       "2019                                             [None]   \n",
       "\n",
       "                                             skill_list  degree_list  \\\n",
       "0                                                [None]        999.0   \n",
       "1     ['data', 'analyz', 'biostatist', 'research', '...          1.0   \n",
       "2                                                [None]        999.0   \n",
       "3            ['busi', 'dashboard', 'data', 'healthcar']          1.0   \n",
       "4     ['etl', 'data mining', 'data', 'analyz', 'dash...        999.0   \n",
       "...                                                 ...          ...   \n",
       "2015                     ['commun', 'busi', 'end user']          1.0   \n",
       "2016                                           ['busi']          2.0   \n",
       "2017  ['risk', 'problem solving', 'busi', 'commun', ...          1.0   \n",
       "2018                                 ['commun', 'busi']          1.0   \n",
       "2019   ['data', 'analyz', 'research', 'busi', 'commun']          1.0   \n",
       "\n",
       "                                                  clean NEWJT  \n",
       "0                                                    []     0  \n",
       "1     ['data', 'analyz', 'biostatist', 'research', '...     0  \n",
       "2                                    ['tableau', 'sql']     0  \n",
       "3     ['excel', 'sql', 'salesforc', 'powerbi', 'tabl...     0  \n",
       "4     ['powerbi', 'excel', 'sql', 'spss', 'javascrip...     0  \n",
       "...                                                 ...   ...  \n",
       "2015            ['excel', 'commun', 'busi', 'end user']     1  \n",
       "2016                                           ['busi']     1  \n",
       "2017  ['excel', 'sql', 'risk', 'problem solving', 'b...     1  \n",
       "2018  ['powerpoint', 'excel', 'microsoft', 'salesfor...     1  \n",
       "2019   ['data', 'analyz', 'research', 'busi', 'commun']     1  \n",
       "\n",
       "[2020 rows x 7 columns]"
      ]
     },
     "execution_count": 13,
     "metadata": {},
     "output_type": "execute_result"
    }
   ],
   "source": [
    "BA_model"
   ]
  },
  {
   "cell_type": "code",
   "execution_count": 14,
   "metadata": {},
   "outputs": [
    {
     "data": {
      "text/plain": [
       "count     2020\n",
       "unique       2\n",
       "top          0\n",
       "freq      1020\n",
       "Name: JT, dtype: object"
      ]
     },
     "execution_count": 14,
     "metadata": {},
     "output_type": "execute_result"
    }
   ],
   "source": [
    "BA_model['JT'].describe()"
   ]
  },
  {
   "cell_type": "markdown",
   "metadata": {},
   "source": [
    "## Decision Tree"
   ]
  },
  {
   "cell_type": "code",
   "execution_count": 15,
   "metadata": {},
   "outputs": [
    {
     "name": "stdout",
     "output_type": "stream",
     "text": [
      "              precision    recall  f1-score   support\n",
      "\n",
      "          BA       0.76      0.86      0.81       296\n",
      "          DA       0.67      0.67      0.67       286\n",
      "          DE       0.77      0.77      0.77       337\n",
      "          DS       0.83      0.74      0.78       323\n",
      "\n",
      "    accuracy                           0.76      1242\n",
      "   macro avg       0.76      0.76      0.76      1242\n",
      "weighted avg       0.76      0.76      0.76      1242\n",
      "\n"
     ]
    },
    {
     "data": {
      "image/png": "[encoded data removed]",
      "text/plain": [
       "<Figure size 432x288 with 1 Axes>"
      ]
     },
     "metadata": {
      "needs_background": "light"
     },
     "output_type": "display_data"
    }
   ],
   "source": [
    "dtree = DecisionTreeClassifier()\n",
    "evaluate_model(df_whole,dtree,rf=True)"
   ]
  },
  {
   "cell_type": "markdown",
   "metadata": {},
   "source": [
    "## Random Forest"
   ]
  },
  {
   "cell_type": "code",
   "execution_count": 16,
   "metadata": {},
   "outputs": [
    {
     "name": "stdout",
     "output_type": "stream",
     "text": [
      "              precision    recall  f1-score   support\n",
      "\n",
      "          BA       0.79      0.85      0.82       297\n",
      "          DA       0.63      0.67      0.65       283\n",
      "          DE       0.85      0.81      0.83       362\n",
      "          DS       0.87      0.80      0.83       300\n",
      "\n",
      "    accuracy                           0.79      1242\n",
      "   macro avg       0.78      0.78      0.78      1242\n",
      "weighted avg       0.79      0.79      0.79      1242\n",
      "\n"
     ]
    },
    {
     "data": {
      "image/png": "[encoded data removed]",
      "text/plain": [
       "<Figure size 432x288 with 1 Axes>"
      ]
     },
     "metadata": {
      "needs_background": "light"
     },
     "output_type": "display_data"
    }
   ],
   "source": [
    "from sklearn.ensemble import RandomForestClassifier\n",
    "rf = RandomForestClassifier(n_estimators=10)\n",
    "evaluate_model(df_whole,rf,rf=True)"
   ]
  },
  {
   "cell_type": "code",
   "execution_count": 17,
   "metadata": {},
   "outputs": [],
   "source": [
    "# from sklearn.model_selection import GridSearchCV\n",
    "# parameters = {\n",
    "#      'n_estimators':(10, 50,100,150,200), #the number of trees\n",
    "#      'max_depth':(5,10,20,30,50,80),\n",
    "#      'min_samples_split': (2, 4, 8),\n",
    "#      'min_samples_leaf': (4,8,12,16)\n",
    "# }\n",
    "\n",
    "# model = GridSearchCV(RandomForestClassifier(),parameters,cv=3,iid=False)\n",
    "# model.fit(X_train, Y_train)\n",
    "# model.best_score_, model.best_params_"
   ]
  },
  {
   "cell_type": "code",
   "execution_count": 18,
   "metadata": {},
   "outputs": [],
   "source": [
    "b_model = RandomForestClassifier(max_depth=20,min_samples_leaf=4,min_samples_split=8,n_estimators=200)"
   ]
  },
  {
   "cell_type": "code",
   "execution_count": 19,
   "metadata": {},
   "outputs": [
    {
     "name": "stdout",
     "output_type": "stream",
     "text": [
      "              precision    recall  f1-score   support\n",
      "\n",
      "          BA       0.78      0.86      0.82       289\n",
      "          DA       0.68      0.69      0.69       287\n",
      "          DE       0.87      0.84      0.85       365\n",
      "          DS       0.85      0.79      0.82       301\n",
      "\n",
      "    accuracy                           0.80      1242\n",
      "   macro avg       0.79      0.79      0.79      1242\n",
      "weighted avg       0.80      0.80      0.80      1242\n",
      "\n"
     ]
    },
    {
     "data": {
      "image/png": "[encoded data removed]",
      "text/plain": [
       "<Figure size 432x288 with 1 Axes>"
      ]
     },
     "metadata": {
      "needs_background": "light"
     },
     "output_type": "display_data"
    }
   ],
   "source": [
    "evaluate_model(df_whole,b_model,rf=True)"
   ]
  },
  {
   "cell_type": "code",
   "execution_count": 20,
   "metadata": {},
   "outputs": [],
   "source": [
    "BA_model = encoding('BA')\n",
    "DE_model = encoding('DE')\n",
    "DS_model = encoding('DS')\n",
    "DA_model = encoding('DA')"
   ]
  },
  {
   "cell_type": "code",
   "execution_count": 21,
   "metadata": {},
   "outputs": [],
   "source": [
    "rf = RandomForestClassifier(n_estimators=10)"
   ]
  },
  {
   "cell_type": "code",
   "execution_count": 22,
   "metadata": {},
   "outputs": [
    {
     "name": "stdout",
     "output_type": "stream",
     "text": [
      "              precision    recall  f1-score   support\n",
      "\n",
      "           0       0.92      0.88      0.90       300\n",
      "           1       0.89      0.92      0.90       306\n",
      "\n",
      "    accuracy                           0.90       606\n",
      "   macro avg       0.90      0.90      0.90       606\n",
      "weighted avg       0.90      0.90      0.90       606\n",
      "\n"
     ]
    },
    {
     "data": {
      "image/png": "[encoded data removed]",
      "text/plain": [
       "<Figure size 432x288 with 1 Axes>"
      ]
     },
     "metadata": {
      "needs_background": "light"
     },
     "output_type": "display_data"
    }
   ],
   "source": [
    "evaluate_model(BA_model,rf,rf=True)"
   ]
  },
  {
   "cell_type": "code",
   "execution_count": 23,
   "metadata": {},
   "outputs": [
    {
     "name": "stdout",
     "output_type": "stream",
     "text": [
      "              precision    recall  f1-score   support\n",
      "\n",
      "           0       0.84      0.84      0.84       307\n",
      "           1       0.84      0.84      0.84       299\n",
      "\n",
      "    accuracy                           0.84       606\n",
      "   macro avg       0.84      0.84      0.84       606\n",
      "weighted avg       0.84      0.84      0.84       606\n",
      "\n"
     ]
    },
    {
     "data": {
      "image/png": "[encoded data removed]",
      "text/plain": [
       "<Figure size 432x288 with 1 Axes>"
      ]
     },
     "metadata": {
      "needs_background": "light"
     },
     "output_type": "display_data"
    }
   ],
   "source": [
    "evaluate_model(DA_model,rf,rf=True)"
   ]
  },
  {
   "cell_type": "code",
   "execution_count": 24,
   "metadata": {},
   "outputs": [
    {
     "name": "stdout",
     "output_type": "stream",
     "text": [
      "              precision    recall  f1-score   support\n",
      "\n",
      "           0       0.86      0.91      0.88       299\n",
      "           1       0.91      0.85      0.88       299\n",
      "\n",
      "    accuracy                           0.88       598\n",
      "   macro avg       0.88      0.88      0.88       598\n",
      "weighted avg       0.88      0.88      0.88       598\n",
      "\n"
     ]
    },
    {
     "data": {
      "image/png": "[encoded data removed]",
      "text/plain": [
       "<Figure size 432x288 with 1 Axes>"
      ]
     },
     "metadata": {
      "needs_background": "light"
     },
     "output_type": "display_data"
    }
   ],
   "source": [
    "evaluate_model(DS_model,rf,rf=True)"
   ]
  },
  {
   "cell_type": "code",
   "execution_count": 25,
   "metadata": {},
   "outputs": [
    {
     "name": "stdout",
     "output_type": "stream",
     "text": [
      "              precision    recall  f1-score   support\n",
      "\n",
      "           0       0.88      0.90      0.89       303\n",
      "           1       0.91      0.89      0.90       354\n",
      "\n",
      "    accuracy                           0.89       657\n",
      "   macro avg       0.89      0.90      0.89       657\n",
      "weighted avg       0.90      0.89      0.90       657\n",
      "\n"
     ]
    },
    {
     "data": {
      "image/png": "[encoded data removed]",
      "text/plain": [
       "<Figure size 432x288 with 1 Axes>"
      ]
     },
     "metadata": {
      "needs_background": "light"
     },
     "output_type": "display_data"
    }
   ],
   "source": [
    "evaluate_model(DE_model,rf,rf=True)"
   ]
  },
  {
   "cell_type": "markdown",
   "metadata": {},
   "source": [
    "## Bagging"
   ]
  },
  {
   "cell_type": "code",
   "execution_count": 26,
   "metadata": {},
   "outputs": [],
   "source": [
    "from sklearn.ensemble import BaggingClassifier\n",
    "# parameters = {\n",
    "#      'n_estimators':(30, 50,80), #the number of trees\n",
    "#      'max_samples':(20,40,60,80,100,120,150,200),\n",
    "#      'max_features':(20,40,60,80,100,120,150,200),\n",
    "     \n",
    "# }\n",
    "\n",
    "# model = GridSearchCV(BaggingClassifier(),parameters,cv=3,iid=False)\n",
    "# model.fit(X_train, Y_train)\n",
    "# model.best_score_, model.best_params_"
   ]
  },
  {
   "cell_type": "code",
   "execution_count": 27,
   "metadata": {},
   "outputs": [
    {
     "name": "stdout",
     "output_type": "stream",
     "text": [
      "              precision    recall  f1-score   support\n",
      "\n",
      "          BA       0.77      0.81      0.79       307\n",
      "          DA       0.64      0.70      0.67       293\n",
      "          DE       0.82      0.80      0.81       335\n",
      "          DS       0.86      0.76      0.81       307\n",
      "\n",
      "    accuracy                           0.77      1242\n",
      "   macro avg       0.77      0.77      0.77      1242\n",
      "weighted avg       0.78      0.77      0.77      1242\n",
      "\n"
     ]
    }
   ],
   "source": [
    "bg_model=BaggingClassifier(max_features=120,max_samples=200,n_estimators=80)\n",
    "evaluate_model(df_whole,bg_model)"
   ]
  },
  {
   "cell_type": "code",
   "execution_count": 28,
   "metadata": {},
   "outputs": [],
   "source": [
    "bg=BaggingClassifier()"
   ]
  },
  {
   "cell_type": "code",
   "execution_count": 29,
   "metadata": {},
   "outputs": [
    {
     "name": "stdout",
     "output_type": "stream",
     "text": [
      "              precision    recall  f1-score   support\n",
      "\n",
      "           0       0.92      0.88      0.90       304\n",
      "           1       0.89      0.93      0.91       302\n",
      "\n",
      "    accuracy                           0.91       606\n",
      "   macro avg       0.91      0.91      0.91       606\n",
      "weighted avg       0.91      0.91      0.91       606\n",
      "\n"
     ]
    }
   ],
   "source": [
    "evaluate_model(BA_model,bg)"
   ]
  },
  {
   "cell_type": "code",
   "execution_count": 30,
   "metadata": {},
   "outputs": [
    {
     "name": "stdout",
     "output_type": "stream",
     "text": [
      "              precision    recall  f1-score   support\n",
      "\n",
      "           0       0.79      0.89      0.83       317\n",
      "           1       0.86      0.73      0.79       289\n",
      "\n",
      "    accuracy                           0.82       606\n",
      "   macro avg       0.82      0.81      0.81       606\n",
      "weighted avg       0.82      0.82      0.81       606\n",
      "\n"
     ]
    }
   ],
   "source": [
    "evaluate_model(DA_model,bg)"
   ]
  },
  {
   "cell_type": "code",
   "execution_count": null,
   "metadata": {},
   "outputs": [],
   "source": []
  },
  {
   "cell_type": "code",
   "execution_count": null,
   "metadata": {},
   "outputs": [],
   "source": []
  }
 ],
 "metadata": {
  "kernelspec": {
   "display_name": "Python 3",
   "language": "python",
   "name": "python3"
  },
  "language_info": {
   "codemirror_mode": {
    "name": "ipython",
    "version": 3
   },
   "file_extension": ".py",
   "mimetype": "text/x-python",
   "name": "python",
   "nbconvert_exporter": "python",
   "pygments_lexer": "ipython3",
   "version": "3.8.5"
  }
 },
 "nbformat": 4,
 "nbformat_minor": 4
}
