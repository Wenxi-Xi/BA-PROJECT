{
 "cells": [
  {
   "cell_type": "code",
   "execution_count": 1,
   "metadata": {},
   "outputs": [],
   "source": [
    "import pandas as pd\n",
    "import numpy as np\n",
    "from sklearn.model_selection import train_test_split"
   ]
  },
  {
   "cell_type": "markdown",
   "metadata": {},
   "source": [
    "# Read In Data"
   ]
  },
  {
   "cell_type": "code",
   "execution_count": 2,
   "metadata": {},
   "outputs": [],
   "source": [
    "df_BA=pd.read_csv('BA')\n",
    "df_DS=pd.read_csv('DS')\n",
    "df_DA=pd.read_csv('DA')\n",
    "df_DE=pd.read_csv('DE')"
   ]
  },
  {
   "cell_type": "code",
   "execution_count": null,
   "metadata": {},
   "outputs": [],
   "source": []
  },
  {
   "cell_type": "markdown",
   "metadata": {},
   "source": [
    "# Sample and Split"
   ]
  },
  {
   "cell_type": "code",
   "execution_count": 3,
   "metadata": {},
   "outputs": [],
   "source": [
    "from sklearn.model_selection import train_test_split"
   ]
  },
  {
   "cell_type": "code",
   "execution_count": 4,
   "metadata": {},
   "outputs": [
    {
     "data": {
      "text/plain": [
       "(973, 3983, 1663, 1167)"
      ]
     },
     "execution_count": 4,
     "metadata": {},
     "output_type": "execute_result"
    }
   ],
   "source": [
    "len(df_DS),len(df_DA),len(df_BA),len(df_DE)"
   ]
  },
  {
   "cell_type": "code",
   "execution_count": 5,
   "metadata": {},
   "outputs": [],
   "source": [
    "df_DA=df_DA.sample(n=1000,replace=True)\n",
    "df_BA=df_BA.sample(n=1000,replace=True)"
   ]
  },
  {
   "cell_type": "code",
   "execution_count": 6,
   "metadata": {},
   "outputs": [
    {
     "data": {
      "text/plain": [
       "(973, 1000, 1000, 1167)"
      ]
     },
     "execution_count": 6,
     "metadata": {},
     "output_type": "execute_result"
    }
   ],
   "source": [
    "len(df_DS),len(df_DA),len(df_BA),len(df_DE)"
   ]
  },
  {
   "cell_type": "code",
   "execution_count": 7,
   "metadata": {},
   "outputs": [],
   "source": [
    "whole_list=[df_DA,df_DS,df_DE,df_BA]\n",
    "df_whole=pd.concat(whole_list)"
   ]
  },
  {
   "cell_type": "code",
   "execution_count": null,
   "metadata": {},
   "outputs": [],
   "source": []
  },
  {
   "cell_type": "markdown",
   "metadata": {},
   "source": [
    "# Models"
   ]
  },
  {
   "cell_type": "code",
   "execution_count": 8,
   "metadata": {},
   "outputs": [],
   "source": [
    "from sklearn.feature_extraction.text import CountVectorizer\n",
    "from sklearn.feature_extraction.text import TfidfTransformer\n",
    "from sklearn.metrics import classification_report,confusion_matrix\n",
    "from sklearn.tree import DecisionTreeClassifier\n",
    "from sklearn.model_selection import train_test_split"
   ]
  },
  {
   "cell_type": "code",
   "execution_count": 9,
   "metadata": {},
   "outputs": [],
   "source": [
    "def evaluate_model(df,best,rf=False):\n",
    "    df_train, df_test = train_test_split(df, test_size = 0.3)\n",
    "    clean_train=df_train[\"clean\"]\n",
    "    Y_train=df_train[\"JT\"]\n",
    "    clean_test=df_test[\"clean\"]\n",
    "    Y_test=df_test[\"JT\"]\n",
    "\n",
    "    vectorizer = CountVectorizer().fit(df[\"clean\"])\n",
    "    clean_bow= vectorizer.transform(df[\"clean\"])\n",
    "    train_bow = vectorizer.transform(clean_train)\n",
    "    test_bow = vectorizer.transform(clean_test)\n",
    "    parameter=vectorizer.get_feature_names()\n",
    "    \n",
    "    tfidf_transformer = TfidfTransformer().fit(clean_bow)\n",
    "    X_train = tfidf_transformer.transform(train_bow)\n",
    "    X_test = tfidf_transformer.transform(test_bow)\n",
    "    \n",
    "    best.fit(X_train, Y_train)\n",
    "    predictions1 = best.predict(X_test)\n",
    "    print(classification_report(Y_test,predictions1))\n",
    "    if rf:\n",
    "        importances =best.feature_importances_\n",
    "        forest_importances = pd.Series(importances,index=parameter)\n",
    "        forest_importances=forest_importances.sort_values(ascending=False)[0:10]\n",
    "        ax=forest_importances.plot.barh(x='lab', y='val')\n",
    "        ax.invert_yaxis()\n",
    "    "
   ]
  },
  {
   "cell_type": "code",
   "execution_count": 10,
   "metadata": {},
   "outputs": [],
   "source": [
    "def get_df_name(df):\n",
    "    name =[x for x in globals() if globals()[x] is df][0]\n",
    "    return name"
   ]
  },
  {
   "cell_type": "code",
   "execution_count": 11,
   "metadata": {},
   "outputs": [],
   "source": [
    "def encoding(name):\n",
    "    df = pd.DataFrame()\n",
    "    whole_list=[df_DA,df_DS,df_DE,df_BA]\n",
    "    for i in whole_list:\n",
    "        name1=get_df_name(i)\n",
    "        if name1.split(\"_\")[1]!=name:\n",
    "            i_copy=i.sample(n=340)\n",
    "        else:\n",
    "            i_copy=i.copy()\n",
    "        df=pd.concat([df,i_copy],ignore_index=True)\n",
    "    df[\"NEWJT\"]= np.where(df[\"JT\"]==name,\"1\",\"0\")\n",
    "\n",
    "    df[\"JT\"]=df[\"NEWJT\"]\n",
    "    return df"
   ]
  },
  {
   "cell_type": "code",
   "execution_count": 12,
   "metadata": {},
   "outputs": [],
   "source": [
    "BA_model = encoding('BA')"
   ]
  },
  {
   "cell_type": "code",
   "execution_count": 13,
   "metadata": {},
   "outputs": [
    {
     "data": {
      "text/html": [
       "<div>\n",
       "<style scoped>\n",
       "    .dataframe tbody tr th:only-of-type {\n",
       "        vertical-align: middle;\n",
       "    }\n",
       "\n",
       "    .dataframe tbody tr th {\n",
       "        vertical-align: top;\n",
       "    }\n",
       "\n",
       "    .dataframe thead th {\n",
       "        text-align: right;\n",
       "    }\n",
       "</style>\n",
       "<table border=\"1\" class=\"dataframe\">\n",
       "  <thead>\n",
       "    <tr style=\"text-align: right;\">\n",
       "      <th></th>\n",
       "      <th>JT</th>\n",
       "      <th>JD</th>\n",
       "      <th>tool_list</th>\n",
       "      <th>skill_list</th>\n",
       "      <th>degree_list</th>\n",
       "      <th>clean</th>\n",
       "      <th>NEWJT</th>\n",
       "    </tr>\n",
       "  </thead>\n",
       "  <tbody>\n",
       "    <tr>\n",
       "      <th>0</th>\n",
       "      <td>0</td>\n",
<<<<<<< HEAD
       "      <td>These are long-term engagements.\\nPlease find ...</td>\n",
       "      <td>[None]</td>\n",
       "      <td>[None]</td>\n",
       "      <td>999.0</td>\n",
       "      <td>[]</td>\n",
=======
       "      <td>Use advanced data analysis techniques that lev...</td>\n",
       "      <td>[None]</td>\n",
       "      <td>['data', 'busi']</td>\n",
       "      <td>999.0</td>\n",
       "      <td>['data', 'busi']</td>\n",
>>>>>>> 202b8eb86a0866135e016a692eae503f560a6a37
       "      <td>0</td>\n",
       "    </tr>\n",
       "    <tr>\n",
       "      <th>1</th>\n",
       "      <td>0</td>\n",
<<<<<<< HEAD
       "      <td>Strength Through Diversity\\nGround breaking sc...</td>\n",
       "      <td>[None]</td>\n",
       "      <td>['data', 'analyz', 'biostatist', 'research', '...</td>\n",
       "      <td>1.0</td>\n",
       "      <td>['data', 'analyz', 'biostatist', 'research', '...</td>\n",
=======
       "      <td>For more information, please visit www.firstam...</td>\n",
       "      <td>['excel', 'sql', 'power bi', 'bi']</td>\n",
       "      <td>['commun', 'data', 'busi']</td>\n",
       "      <td>1.0</td>\n",
       "      <td>['excel', 'sql', 'powerbi', 'commun', 'data', ...</td>\n",
>>>>>>> 202b8eb86a0866135e016a692eae503f560a6a37
       "      <td>0</td>\n",
       "    </tr>\n",
       "    <tr>\n",
       "      <th>2</th>\n",
       "      <td>0</td>\n",
<<<<<<< HEAD
       "      <td>- Able to work independently\\n-PL/SQL\\n-Knowle...</td>\n",
       "      <td>['tableau', 'sql']</td>\n",
       "      <td>[None]</td>\n",
       "      <td>999.0</td>\n",
       "      <td>['tableau', 'sql']</td>\n",
=======
       "      <td>CyberSpace Data Analyst\\nOutstanding past perf...</td>\n",
       "      <td>[None]</td>\n",
       "      <td>['risk', 'dashboard', 'data', 'predict', 'rese...</td>\n",
       "      <td>1.0</td>\n",
       "      <td>['risk', 'dashboard', 'data', 'predict', 'rese...</td>\n",
>>>>>>> 202b8eb86a0866135e016a692eae503f560a6a37
       "      <td>0</td>\n",
       "    </tr>\n",
       "    <tr>\n",
       "      <th>3</th>\n",
       "      <td>0</td>\n",
<<<<<<< HEAD
       "      <td>Data Analyst\\nIf you are a Data Analyst with e...</td>\n",
       "      <td>['excel', 'sql', 'salesforc', 'bi', 'tableau',...</td>\n",
       "      <td>['busi', 'dashboard', 'data', 'healthcar']</td>\n",
       "      <td>1.0</td>\n",
       "      <td>['excel', 'sql', 'salesforc', 'powerbi', 'tabl...</td>\n",
=======
       "      <td>The Data Analyst supports the Managed Care Dep...</td>\n",
       "      <td>['powerpoint', 'spss', 'excel', 'sa']</td>\n",
       "      <td>['data', 'supervis', 'research', 'statist', 'c...</td>\n",
       "      <td>1.0</td>\n",
       "      <td>['powerpoint', 'spss', 'excel', 'sa', 'data', ...</td>\n",
>>>>>>> 202b8eb86a0866135e016a692eae503f560a6a37
       "      <td>0</td>\n",
       "    </tr>\n",
       "    <tr>\n",
       "      <th>4</th>\n",
       "      <td>0</td>\n",
<<<<<<< HEAD
       "      <td>The successful candidate will turn data into i...</td>\n",
       "      <td>['power bi', 'excel', 'sql', 'bi', 'spss', 'ja...</td>\n",
       "      <td>['etl', 'data mining', 'data', 'analyz', 'dash...</td>\n",
       "      <td>999.0</td>\n",
       "      <td>['powerbi', 'excel', 'sql', 'spss', 'javascrip...</td>\n",
=======
       "      <td>About the Role\\nWhat You'll Be Doing\\nResearch...</td>\n",
       "      <td>['r', 'sql', 'python']</td>\n",
       "      <td>['data', 'account', 'research', 'busi', 'commun']</td>\n",
       "      <td>999.0</td>\n",
       "      <td>['r', 'sql', 'python', 'data', 'account', 'res...</td>\n",
>>>>>>> 202b8eb86a0866135e016a692eae503f560a6a37
       "      <td>0</td>\n",
       "    </tr>\n",
       "    <tr>\n",
       "      <th>...</th>\n",
       "      <td>...</td>\n",
       "      <td>...</td>\n",
       "      <td>...</td>\n",
       "      <td>...</td>\n",
       "      <td>...</td>\n",
       "      <td>...</td>\n",
       "      <td>...</td>\n",
       "    </tr>\n",
       "    <tr>\n",
       "      <th>2015</th>\n",
       "      <td>1</td>\n",
<<<<<<< HEAD
       "      <td>As a Business Systems Analyst you will support...</td>\n",
       "      <td>['excel']</td>\n",
       "      <td>['commun', 'busi', 'end user']</td>\n",
       "      <td>1.0</td>\n",
       "      <td>['excel', 'commun', 'busi', 'end user']</td>\n",
=======
       "      <td>Organization: Accenture Federal Services\\nAcce...</td>\n",
       "      <td>['salesforc']</td>\n",
       "      <td>['commun', 'busi']</td>\n",
       "      <td>1.0</td>\n",
       "      <td>['salesforc', 'commun', 'busi']</td>\n",
>>>>>>> 202b8eb86a0866135e016a692eae503f560a6a37
       "      <td>1</td>\n",
       "    </tr>\n",
       "    <tr>\n",
       "      <th>2016</th>\n",
       "      <td>1</td>\n",
<<<<<<< HEAD
       "      <td>You will be involved in the design or modifica...</td>\n",
       "      <td>[None]</td>\n",
       "      <td>['busi']</td>\n",
       "      <td>2.0</td>\n",
       "      <td>['busi']</td>\n",
=======
       "      <td>State:\\nTexas\\nCity:\\nIrving\\nInterest:\\nPost ...</td>\n",
       "      <td>['excel', 'microsoft']</td>\n",
       "      <td>['risk', 'data', 'econom', 'busi', 'commun', '...</td>\n",
       "      <td>1.0</td>\n",
       "      <td>['excel', 'microsoft', 'risk', 'data', 'econom...</td>\n",
>>>>>>> 202b8eb86a0866135e016a692eae503f560a6a37
       "      <td>1</td>\n",
       "    </tr>\n",
       "    <tr>\n",
       "      <th>2017</th>\n",
       "      <td>1</td>\n",
<<<<<<< HEAD
       "      <td>Business Analyst (Retail)\\nJob Title\\nBusiness...</td>\n",
       "      <td>['excel', 'sql']</td>\n",
       "      <td>['risk', 'problem solving', 'busi', 'commun', ...</td>\n",
       "      <td>1.0</td>\n",
       "      <td>['excel', 'sql', 'risk', 'problem solving', 'b...</td>\n",
=======
       "      <td>C2C candidates will not be accepted.\\nbull Ass...</td>\n",
       "      <td>[None]</td>\n",
       "      <td>['data', 'analyz']</td>\n",
       "      <td>999.0</td>\n",
       "      <td>['data', 'analyz']</td>\n",
>>>>>>> 202b8eb86a0866135e016a692eae503f560a6a37
       "      <td>1</td>\n",
       "    </tr>\n",
       "    <tr>\n",
       "      <th>2018</th>\n",
       "      <td>1</td>\n",
<<<<<<< HEAD
       "      <td>Only considering LOCAL CANDIDATESA commercial ...</td>\n",
       "      <td>['powerpoint', 'excel', 'microsoft', 'salesforc']</td>\n",
       "      <td>['commun', 'busi']</td>\n",
       "      <td>1.0</td>\n",
       "      <td>['powerpoint', 'excel', 'microsoft', 'salesfor...</td>\n",
=======
       "      <td>Job DescriptionSUMMARYThe Business Analyst is ...</td>\n",
       "      <td>[None]</td>\n",
       "      <td>['commun', 'data', 'busi']</td>\n",
       "      <td>999.0</td>\n",
       "      <td>['commun', 'data', 'busi']</td>\n",
>>>>>>> 202b8eb86a0866135e016a692eae503f560a6a37
       "      <td>1</td>\n",
       "    </tr>\n",
       "    <tr>\n",
       "      <th>2019</th>\n",
       "      <td>1</td>\n",
<<<<<<< HEAD
       "      <td>For more information, please visit www.firstam...</td>\n",
       "      <td>[None]</td>\n",
       "      <td>['data', 'analyz', 'research', 'busi', 'commun']</td>\n",
       "      <td>1.0</td>\n",
       "      <td>['data', 'analyz', 'research', 'busi', 'commun']</td>\n",
=======
       "      <td>This will include recommendations around assor...</td>\n",
       "      <td>['power bi', 'excel', 'microsoft', 'rstudio', ...</td>\n",
       "      <td>['data', 'analyz', 'kpi', 'dashboard', 'resear...</td>\n",
       "      <td>999.0</td>\n",
       "      <td>['powerbi', 'excel', 'microsoft', 'r', 'sql', ...</td>\n",
>>>>>>> 202b8eb86a0866135e016a692eae503f560a6a37
       "      <td>1</td>\n",
       "    </tr>\n",
       "  </tbody>\n",
       "</table>\n",
       "<p>2020 rows × 7 columns</p>\n",
       "</div>"
      ],
      "text/plain": [
       "     JT                                                 JD  \\\n",
<<<<<<< HEAD
       "0     0  These are long-term engagements.\\nPlease find ...   \n",
       "1     0  Strength Through Diversity\\nGround breaking sc...   \n",
       "2     0  - Able to work independently\\n-PL/SQL\\n-Knowle...   \n",
       "3     0  Data Analyst\\nIf you are a Data Analyst with e...   \n",
       "4     0  The successful candidate will turn data into i...   \n",
       "...  ..                                                ...   \n",
       "2015  1  As a Business Systems Analyst you will support...   \n",
       "2016  1  You will be involved in the design or modifica...   \n",
       "2017  1  Business Analyst (Retail)\\nJob Title\\nBusiness...   \n",
       "2018  1  Only considering LOCAL CANDIDATESA commercial ...   \n",
       "2019  1  For more information, please visit www.firstam...   \n",
       "\n",
       "                                              tool_list  \\\n",
       "0                                                [None]   \n",
       "1                                                [None]   \n",
       "2                                    ['tableau', 'sql']   \n",
       "3     ['excel', 'sql', 'salesforc', 'bi', 'tableau',...   \n",
       "4     ['power bi', 'excel', 'sql', 'bi', 'spss', 'ja...   \n",
       "...                                                 ...   \n",
       "2015                                          ['excel']   \n",
       "2016                                             [None]   \n",
       "2017                                   ['excel', 'sql']   \n",
       "2018  ['powerpoint', 'excel', 'microsoft', 'salesforc']   \n",
       "2019                                             [None]   \n",
       "\n",
       "                                             skill_list  degree_list  \\\n",
       "0                                                [None]        999.0   \n",
       "1     ['data', 'analyz', 'biostatist', 'research', '...          1.0   \n",
       "2                                                [None]        999.0   \n",
       "3            ['busi', 'dashboard', 'data', 'healthcar']          1.0   \n",
       "4     ['etl', 'data mining', 'data', 'analyz', 'dash...        999.0   \n",
       "...                                                 ...          ...   \n",
       "2015                     ['commun', 'busi', 'end user']          1.0   \n",
       "2016                                           ['busi']          2.0   \n",
       "2017  ['risk', 'problem solving', 'busi', 'commun', ...          1.0   \n",
       "2018                                 ['commun', 'busi']          1.0   \n",
       "2019   ['data', 'analyz', 'research', 'busi', 'commun']          1.0   \n",
       "\n",
       "                                                  clean NEWJT  \n",
       "0                                                    []     0  \n",
       "1     ['data', 'analyz', 'biostatist', 'research', '...     0  \n",
       "2                                    ['tableau', 'sql']     0  \n",
       "3     ['excel', 'sql', 'salesforc', 'powerbi', 'tabl...     0  \n",
       "4     ['powerbi', 'excel', 'sql', 'spss', 'javascrip...     0  \n",
       "...                                                 ...   ...  \n",
       "2015            ['excel', 'commun', 'busi', 'end user']     1  \n",
       "2016                                           ['busi']     1  \n",
       "2017  ['excel', 'sql', 'risk', 'problem solving', 'b...     1  \n",
       "2018  ['powerpoint', 'excel', 'microsoft', 'salesfor...     1  \n",
       "2019   ['data', 'analyz', 'research', 'busi', 'commun']     1  \n",
=======
       "0     0  Use advanced data analysis techniques that lev...   \n",
       "1     0  For more information, please visit www.firstam...   \n",
       "2     0  CyberSpace Data Analyst\\nOutstanding past perf...   \n",
       "3     0  The Data Analyst supports the Managed Care Dep...   \n",
       "4     0  About the Role\\nWhat You'll Be Doing\\nResearch...   \n",
       "...  ..                                                ...   \n",
       "2015  1  Organization: Accenture Federal Services\\nAcce...   \n",
       "2016  1  State:\\nTexas\\nCity:\\nIrving\\nInterest:\\nPost ...   \n",
       "2017  1  C2C candidates will not be accepted.\\nbull Ass...   \n",
       "2018  1  Job DescriptionSUMMARYThe Business Analyst is ...   \n",
       "2019  1  This will include recommendations around assor...   \n",
       "\n",
       "                                              tool_list  \\\n",
       "0                                                [None]   \n",
       "1                    ['excel', 'sql', 'power bi', 'bi']   \n",
       "2                                                [None]   \n",
       "3                 ['powerpoint', 'spss', 'excel', 'sa']   \n",
       "4                                ['r', 'sql', 'python']   \n",
       "...                                                 ...   \n",
       "2015                                      ['salesforc']   \n",
       "2016                             ['excel', 'microsoft']   \n",
       "2017                                             [None]   \n",
       "2018                                             [None]   \n",
       "2019  ['power bi', 'excel', 'microsoft', 'rstudio', ...   \n",
       "\n",
       "                                             skill_list  degree_list  \\\n",
       "0                                      ['data', 'busi']        999.0   \n",
       "1                            ['commun', 'data', 'busi']          1.0   \n",
       "2     ['risk', 'dashboard', 'data', 'predict', 'rese...          1.0   \n",
       "3     ['data', 'supervis', 'research', 'statist', 'c...          1.0   \n",
       "4     ['data', 'account', 'research', 'busi', 'commun']        999.0   \n",
       "...                                                 ...          ...   \n",
       "2015                                 ['commun', 'busi']          1.0   \n",
       "2016  ['risk', 'data', 'econom', 'busi', 'commun', '...          1.0   \n",
       "2017                                 ['data', 'analyz']        999.0   \n",
       "2018                         ['commun', 'data', 'busi']        999.0   \n",
       "2019  ['data', 'analyz', 'kpi', 'dashboard', 'resear...        999.0   \n",
       "\n",
       "                                                  clean NEWJT  \n",
       "0                                      ['data', 'busi']     0  \n",
       "1     ['excel', 'sql', 'powerbi', 'commun', 'data', ...     0  \n",
       "2     ['risk', 'dashboard', 'data', 'predict', 'rese...     0  \n",
       "3     ['powerpoint', 'spss', 'excel', 'sa', 'data', ...     0  \n",
       "4     ['r', 'sql', 'python', 'data', 'account', 'res...     0  \n",
       "...                                                 ...   ...  \n",
       "2015                    ['salesforc', 'commun', 'busi']     1  \n",
       "2016  ['excel', 'microsoft', 'risk', 'data', 'econom...     1  \n",
       "2017                                 ['data', 'analyz']     1  \n",
       "2018                         ['commun', 'data', 'busi']     1  \n",
       "2019  ['powerbi', 'excel', 'microsoft', 'r', 'sql', ...     1  \n",
>>>>>>> 202b8eb86a0866135e016a692eae503f560a6a37
       "\n",
       "[2020 rows x 7 columns]"
      ]
     },
     "execution_count": 13,
     "metadata": {},
     "output_type": "execute_result"
    }
   ],
   "source": [
    "BA_model"
   ]
  },
  {
   "cell_type": "code",
   "execution_count": 14,
   "metadata": {},
   "outputs": [
    {
     "data": {
      "text/plain": [
       "count     2020\n",
       "unique       2\n",
       "top          0\n",
       "freq      1020\n",
       "Name: JT, dtype: object"
      ]
     },
     "execution_count": 14,
     "metadata": {},
     "output_type": "execute_result"
    }
   ],
   "source": [
    "BA_model['JT'].describe()"
   ]
  },
  {
   "cell_type": "markdown",
   "metadata": {},
   "source": [
    "## Decision Tree"
   ]
  },
  {
   "cell_type": "code",
   "execution_count": 15,
   "metadata": {},
   "outputs": [
    {
     "name": "stdout",
     "output_type": "stream",
     "text": [
      "              precision    recall  f1-score   support\n",
      "\n",
<<<<<<< HEAD
      "          BA       0.76      0.86      0.81       296\n",
      "          DA       0.67      0.67      0.67       286\n",
      "          DE       0.77      0.77      0.77       337\n",
      "          DS       0.83      0.74      0.78       323\n",
      "\n",
      "    accuracy                           0.76      1242\n",
      "   macro avg       0.76      0.76      0.76      1242\n",
      "weighted avg       0.76      0.76      0.76      1242\n",
=======
      "          BA       0.72      0.82      0.77       313\n",
      "          DA       0.62      0.63      0.62       311\n",
      "          DE       0.80      0.74      0.77       340\n",
      "          DS       0.77      0.70      0.74       278\n",
      "\n",
      "    accuracy                           0.73      1242\n",
      "   macro avg       0.73      0.72      0.72      1242\n",
      "weighted avg       0.73      0.73      0.73      1242\n",
>>>>>>> 202b8eb86a0866135e016a692eae503f560a6a37
      "\n"
     ]
    },
    {
     "data": {
<<<<<<< HEAD
      "image/png": "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\n",
=======
      "image/png": "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\n",
>>>>>>> 202b8eb86a0866135e016a692eae503f560a6a37
      "text/plain": [
       "<Figure size 432x288 with 1 Axes>"
      ]
     },
     "metadata": {
      "needs_background": "light"
     },
     "output_type": "display_data"
    }
   ],
   "source": [
    "dtree = DecisionTreeClassifier()\n",
    "evaluate_model(df_whole,dtree,rf=True)"
   ]
  },
  {
   "cell_type": "markdown",
   "metadata": {},
   "source": [
    "## Random Forest"
   ]
  },
  {
   "cell_type": "code",
   "execution_count": 16,
   "metadata": {},
   "outputs": [
    {
     "name": "stdout",
     "output_type": "stream",
     "text": [
      "              precision    recall  f1-score   support\n",
      "\n",
<<<<<<< HEAD
      "          BA       0.79      0.85      0.82       297\n",
      "          DA       0.63      0.67      0.65       283\n",
      "          DE       0.85      0.81      0.83       362\n",
      "          DS       0.87      0.80      0.83       300\n",
=======
      "          BA       0.82      0.85      0.83       319\n",
      "          DA       0.69      0.71      0.70       301\n",
      "          DE       0.83      0.85      0.84       349\n",
      "          DS       0.83      0.74      0.78       273\n",
>>>>>>> 202b8eb86a0866135e016a692eae503f560a6a37
      "\n",
      "    accuracy                           0.79      1242\n",
      "   macro avg       0.79      0.79      0.79      1242\n",
      "weighted avg       0.79      0.79      0.79      1242\n",
      "\n"
     ]
    },
    {
     "data": {
<<<<<<< HEAD
      "image/png": "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\n",
=======
      "image/png": "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\n",
>>>>>>> 202b8eb86a0866135e016a692eae503f560a6a37
      "text/plain": [
       "<Figure size 432x288 with 1 Axes>"
      ]
     },
     "metadata": {
      "needs_background": "light"
     },
     "output_type": "display_data"
    }
   ],
   "source": [
    "from sklearn.ensemble import RandomForestClassifier\n",
    "rf = RandomForestClassifier(n_estimators=10)\n",
    "evaluate_model(df_whole,rf,rf=True)"
   ]
  },
  {
   "cell_type": "code",
   "execution_count": 17,
   "metadata": {},
   "outputs": [],
   "source": [
    "# from sklearn.model_selection import GridSearchCV\n",
    "# parameters = {\n",
    "#      'n_estimators':(10, 50,100,150,200), #the number of trees\n",
    "#      'max_depth':(5,10,20,30,50,80),\n",
    "#      'min_samples_split': (2, 4, 8),\n",
    "#      'min_samples_leaf': (4,8,12,16)\n",
    "# }\n",
    "\n",
    "# model = GridSearchCV(RandomForestClassifier(),parameters,cv=3,iid=False)\n",
    "# model.fit(X_train, Y_train)\n",
    "# model.best_score_, model.best_params_"
   ]
  },
  {
   "cell_type": "code",
   "execution_count": 18,
   "metadata": {},
   "outputs": [],
   "source": [
    "b_model = RandomForestClassifier(max_depth=20,min_samples_leaf=4,min_samples_split=8,n_estimators=200)"
   ]
  },
  {
   "cell_type": "code",
   "execution_count": 19,
   "metadata": {},
   "outputs": [
    {
     "name": "stdout",
     "output_type": "stream",
     "text": [
      "              precision    recall  f1-score   support\n",
      "\n",
<<<<<<< HEAD
      "          BA       0.78      0.86      0.82       289\n",
      "          DA       0.68      0.69      0.69       287\n",
      "          DE       0.87      0.84      0.85       365\n",
      "          DS       0.85      0.79      0.82       301\n",
      "\n",
      "    accuracy                           0.80      1242\n",
      "   macro avg       0.79      0.79      0.79      1242\n",
      "weighted avg       0.80      0.80      0.80      1242\n",
=======
      "          BA       0.75      0.82      0.78       298\n",
      "          DA       0.69      0.65      0.67       312\n",
      "          DE       0.85      0.83      0.84       354\n",
      "          DS       0.81      0.80      0.81       278\n",
      "\n",
      "    accuracy                           0.78      1242\n",
      "   macro avg       0.78      0.78      0.78      1242\n",
      "weighted avg       0.78      0.78      0.78      1242\n",
>>>>>>> 202b8eb86a0866135e016a692eae503f560a6a37
      "\n"
     ]
    },
    {
     "data": {
<<<<<<< HEAD
      "image/png": "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\n",
=======
      "image/png": "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\n",
>>>>>>> 202b8eb86a0866135e016a692eae503f560a6a37
      "text/plain": [
       "<Figure size 432x288 with 1 Axes>"
      ]
     },
     "metadata": {
      "needs_background": "light"
     },
     "output_type": "display_data"
    }
   ],
   "source": [
    "evaluate_model(df_whole,b_model,rf=True)"
   ]
  },
  {
   "cell_type": "markdown",
   "metadata": {},
   "source": [
    "### Rf for each JT"
   ]
  },
  {
   "cell_type": "code",
   "execution_count": 20,
   "metadata": {},
   "outputs": [],
   "source": [
    "BA_model = encoding('BA')\n",
    "DE_model = encoding('DE')\n",
    "DS_model = encoding('DS')\n",
    "DA_model = encoding('DA')"
   ]
  },
  {
   "cell_type": "code",
   "execution_count": 21,
   "metadata": {},
   "outputs": [],
   "source": [
    "rf = RandomForestClassifier(n_estimators=10)"
   ]
  },
  {
   "cell_type": "code",
   "execution_count": 22,
   "metadata": {},
   "outputs": [
    {
     "name": "stdout",
     "output_type": "stream",
     "text": [
      "              precision    recall  f1-score   support\n",
      "\n",
<<<<<<< HEAD
      "           0       0.92      0.88      0.90       300\n",
      "           1       0.89      0.92      0.90       306\n",
      "\n",
      "    accuracy                           0.90       606\n",
      "   macro avg       0.90      0.90      0.90       606\n",
      "weighted avg       0.90      0.90      0.90       606\n",
=======
      "           0       0.88      0.88      0.88       303\n",
      "           1       0.88      0.88      0.88       303\n",
      "\n",
      "    accuracy                           0.88       606\n",
      "   macro avg       0.88      0.88      0.88       606\n",
      "weighted avg       0.88      0.88      0.88       606\n",
>>>>>>> 202b8eb86a0866135e016a692eae503f560a6a37
      "\n"
     ]
    },
    {
     "data": {
<<<<<<< HEAD
      "image/png": "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\n",
=======
      "image/png": "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\n",
>>>>>>> 202b8eb86a0866135e016a692eae503f560a6a37
      "text/plain": [
       "<Figure size 432x288 with 1 Axes>"
      ]
     },
     "metadata": {
      "needs_background": "light"
     },
     "output_type": "display_data"
    }
   ],
   "source": [
    "evaluate_model(BA_model,rf,rf=True)"
   ]
  },
  {
   "cell_type": "code",
   "execution_count": 23,
   "metadata": {},
   "outputs": [
    {
     "name": "stdout",
     "output_type": "stream",
     "text": [
      "              precision    recall  f1-score   support\n",
      "\n",
<<<<<<< HEAD
      "           0       0.84      0.84      0.84       307\n",
      "           1       0.84      0.84      0.84       299\n",
      "\n",
      "    accuracy                           0.84       606\n",
      "   macro avg       0.84      0.84      0.84       606\n",
      "weighted avg       0.84      0.84      0.84       606\n",
=======
      "           0       0.84      0.79      0.81       318\n",
      "           1       0.78      0.84      0.81       288\n",
      "\n",
      "    accuracy                           0.81       606\n",
      "   macro avg       0.81      0.81      0.81       606\n",
      "weighted avg       0.81      0.81      0.81       606\n",
>>>>>>> 202b8eb86a0866135e016a692eae503f560a6a37
      "\n"
     ]
    },
    {
     "data": {
<<<<<<< HEAD
      "image/png": "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\n",
=======
      "image/png": "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\n",
>>>>>>> 202b8eb86a0866135e016a692eae503f560a6a37
      "text/plain": [
       "<Figure size 432x288 with 1 Axes>"
      ]
     },
     "metadata": {
      "needs_background": "light"
     },
     "output_type": "display_data"
    }
   ],
   "source": [
    "evaluate_model(DA_model,rf,rf=True)"
   ]
  },
  {
   "cell_type": "code",
   "execution_count": 24,
   "metadata": {},
   "outputs": [
    {
     "name": "stdout",
     "output_type": "stream",
     "text": [
      "              precision    recall  f1-score   support\n",
      "\n",
<<<<<<< HEAD
      "           0       0.86      0.91      0.88       299\n",
      "           1       0.91      0.85      0.88       299\n",
      "\n",
      "    accuracy                           0.88       598\n",
      "   macro avg       0.88      0.88      0.88       598\n",
      "weighted avg       0.88      0.88      0.88       598\n",
=======
      "           0       0.83      0.88      0.86       301\n",
      "           1       0.87      0.82      0.85       297\n",
      "\n",
      "    accuracy                           0.85       598\n",
      "   macro avg       0.85      0.85      0.85       598\n",
      "weighted avg       0.85      0.85      0.85       598\n",
>>>>>>> 202b8eb86a0866135e016a692eae503f560a6a37
      "\n"
     ]
    },
    {
     "data": {
<<<<<<< HEAD
      "image/png": "iVBORw0KGgoAAAANSUhEUgAAAY8AAAD4CAYAAAAUymoqAAAAOXRFWHRTb2Z0d2FyZQBNYXRwbG90bGliIHZlcnNpb24zLjMuMiwgaHR0cHM6Ly9tYXRwbG90bGliLm9yZy8vihELAAAACXBIWXMAAAsTAAALEwEAmpwYAAAYkUlEQVR4nO3de5RlZX3m8e8zDQINbbcGdBo0KcUW5CaXkogiQcOwVBw0kXiJZkCNvdBEwxic6aVRQc3QjKwsZDTE1oxgQFG5uBh6DKgjCsitmr4SQKM0SkO8RG3QFsXmN3+c3Xosq6prd52qc4r6ftY6q/bZ77vf/TtVteqpvd9z9k5VIUlSG/+h3wVIkmYfw0OS1JrhIUlqzfCQJLVmeEiSWtup3wXMhD333LOGhob6XYYkzSqrVq36QVXtNVbbnAiPoaEhRkZG+l2GJM0qSe4Zr83TVpKk1gwPSVJrhockqTXDQ5LU2pyYMF+/aTNDy1b2uwxJmlEbl58wbWN75CFJaq0v4ZFkY5I9x1h/YpJl/ahJkjR5A3XaqqquBK7sdx2SpIlt98gjyVCSO5N8LMmGJBcnOS7JDUm+keTI5vG1JKubr/s1285Lck6S9UnWJXlL19BvSXJb07Z/0/+UJB9qli9Icl4z3reSnNRV09uT3NqMeWaPvyeSpO2Y7GmrpwEfBA4B9gf+FDgaOB14B3AncExVHQa8G/gfzXZLgacAh1XVIcDFXWP+oKoOB85vxhnL4mY/LwGWAyQ5HlgCHAkcChyR5JjRGyZZmmQkycjWLZsn+TIlSZMx2dNWd1fVeoAktwNfqqpKsh4YAhYCFyZZAhSwc7PdccA/VNUvAarqh11jXt58XQX88Tj7/VxVPQL8S5InNuuObx6rm+d70AmTr3ZvWFUrgBUAuyxe4u0SJamHJhseP+9afqTr+SPNGO8DvlxVf5RkCLi2aQ+dMJlozK0T1NG933R9PauqPjLJ2iVJPdard1stBDY1y6d0rb8GODXJTgBJHt+DfV0NvD7JHs2Y+yR5Qg/GlSRNUq/C438CZyW5AZjXtf5jwLeBdUnW0pkrmZKqugb4JHBjc9rsUmDBVMeVJE1eqh790wG7LF5Si08+t99lSNKMmuonzJOsqqrhsdoG6nMe0+XgfRYyMo0f05ekucbLk0iSWjM8JEmtGR6SpNYMD0lSa4aHJKk1w0OS1JrhIUlqzfCQJLVmeEiSWjM8JEmtzYnLk6zftJmhZSv7XYYkTZupXseqLY88JEmt9SU8kryja3koyYZ+1CFJ2jH9OvJ4x/a7SJIGVU/Cozl6uDPJhUnWJbk0yQlJrujq85+SXJ5kObBbkjVJLm6a5yX5aJLbk1yTZLdmm0OT3NSMeUWSxzXrr01ydpJbknw9yfN68TokSZPTyyOP/YAVVXUI8ABwAPCMJHs17a8DPl5Vy4CfVdWhVfWapm0J8OGqOhD4MfDyZv0ngP/ejLkeeE/X/naqqiOB00atByDJ0iQjSUa2btncw5cpSepleHynqm5oli8Cngv8E/DaJIuAo4DPj7Pt3VW1plleBQwlWQgsqqqvNOsvBI7p2uby7v6jB6yqFVU1XFXD8+Yv3LFXJEkaUy/fqjv6frYFfBz4P8BDwGer6pfjbPvzruWtwG6T2N+2bbYyR95yLEmDopdHHr+b5Khm+dXA9VV1H3Af8DfABV19H06y80SDVdVm4Edd8xl/Bnxlgk0kSTOkl+FxB3ByknXA44Hzm/UX0zml9S9dfVcA67omzMdzMvCBZsxDgff2sF5J0g5K1eizTTswSDIEXFVVB43R9iFgdVX945R3tIOGh4drZGSkX7uXpFkpyaqqGh6rbVrnCpKsAn4K/PV07keSNLN6Eh5VtRH4raOOqjqiF+NLkgaL17aSJLVmeEiSWjM8JEmtGR6SpNYMD0lSa4aHJKk1w0OS1JrhIUlqbU5cjXb9ps0MLVvZ7zIkaVpsXH7CjO/TIw9JUmuGhySptUmHR5KfTGchzT5OTfJfpns/kqSpmfE5jyTzqmrrWG1V9Q8zXY8kqb0dOm2V5O1Jbk2yLsmZXes/l2RVktuTLO1a/5Mk701yM3BU8/xvk6xNclOSJzb9zkhyerN8bZKzk9yS5Ovb7iiYZH6SzzT7/nSSm5OMeb15SdL0aB0eSY4HlgBH0rm73xFJjmmaX99chn0YeGuS32nW7w5sqKrfr6rrm+c3VdUzga8CbxxndztV1ZHAacB7mnVvBn5UVYcA7wPGvOx7kqVJRpKMbN2yue3LlCRNYEeOPI5vHquB24D96YQJdAJjLXAT8OSu9VuBy7rG+AVwVbO8ChgaZ1+Xj9HnaOASgKraAKwba8OqWlFVw1U1PG/+wkm+NEnSZOzInEeAs6rqI7+xMjkWOA44qqq2JLkW2LVpfmjUPMfD9ev7326doI6fj9EnO1CzJKmHduTI42rg9Un2AEiyT5InAAvpnE7akmR/4Nk9rLPb9cArmn0fABw8TfuRJI2j9ZFHVV2T5BnAjUkAfgK8Fvhn4NQk64C76Jy6mg5/D1zY7Gc1ndNWTmpI0gzKr88ezQ5J5gE7V9VDSfYFvgQ8vap+Md42w8PDNTIyMmM1StKjQZJVVTXmu1ln47Wt5gNfTrIznfmPN00UHJKk3pt14VFVD9J5K7AkqU+8tpUkqTXDQ5LUmuEhSWrN8JAktWZ4SJJaMzwkSa0ZHpKk1gwPSVJrs+5Dgjti/abNDC1b2e8yJPXAxuUn9LsE4ZGHJGkHzEh4JDktyfy2/ZL83ySLpjquJKm3ZurI4zQ6FzRs1a+qXlxVP+7BuJKkHur5nEeS3YHPAE8C5gGfBfamcyXcH1TV85OcDzwL2A24tKrek+StY/TbSOciiD8bNeb7gCeO7t/r1yJJGtt0TJi/ELivqk4ASLIQeB3w/Kr6QdPnnVX1w+beHF9KckhVnZfkbaP6jTtmVW2eoD9JlgJLAeY9dq9peJmSNHdNx2mr9cBxSc5O8ryqGusuf69IchudOwEeCBzQgzF/Q1WtqKrhqhqeN39h6xchSRpfz8Ojqr4OHEHnD/5ZSd7d3Z7kKcDpwB9W1SHASmDXqYwpSZpZPQ+PJHsDW6rqIuAc4HDgQWBB0+WxwE+BzUmeCLyoa/Puftsbc9z+kqTpNR1zHgcDH0jyCPAw8CbgKODzSe5vJsJXA7cD3wJu6Np2RXe/7Yw5UX9J0jRKVfW7hmm3y+Iltfjkc/tdhqQe8BPmMyfJqqoa87bfc+LyJAfvs5ARf+EkqWe8PIkkqTXDQ5LUmuEhSWrN8JAktWZ4SJJaMzwkSa0ZHpKk1gwPSVJrhockqTXDQ5LU2py4PMn6TZsZWray32VIrXgNJw0yjzwkSa31NTySDCXZMMUx9k5yaa9qkiRt36w/bVVV9wEn9bsOSZpLBuG01U5JLkyyLsmlSeYn2ZhkT4Akw0mubZb/IMma5rE6yYJeHL1IktoZhPDYD1jR3M/8AeDNE/Q9HfiLqjoUeB7ws/E6JlmaZCTJyNYtm3tZryTNeYMQHt+pqm23or0IOHqCvjcAf5fkrcCiqvrleB2rakVVDVfV8Lz5C3tYriRpEMJj9H1wC/glv65t1181VC0H/hzYDbgpyf4zUqEk6TcMQnj8bpKjmuVXA9cDG4EjmnUv39Yxyb5Vtb6qzgZGAMNDkvpgEMLjDuDkJOuAxwPnA2cCH0xyHbC1q+9pSTYkWUtnvuPzM16tJKm/b9Wtqo3AAWM0XQc8fYz+bxmj70bgoJ4WJkma0Kz/nMdkHLzPQka81IMk9cwgnLaSJM0yhockqTXDQ5LUmuEhSWrN8JAktWZ4SJJaMzwkSa0ZHpKk1gwPSVJrhockqbU5cXmS9Zs2M7RsZb/LkH5lo5fL0SznkYckqbVZFx5Jjk1yVb/rkKS5rFV4pGNGAifJnDilJkmz0XaDIMlQkjuS/D1wG/CuJLcmWZfkzKbP7klWJlnb3Kzplc36I5J8JcmqJFcnWdysf2MzxtoklyWZ36y/IMnfJfkycHaSpyX5YtPvtiT7NmXtkeTSJHcmuThJpuObI0ka22T/u98PeB3wOeAk4EggwJVJjgH2Au6rqhMAkixMsjPwv4CXVtX3m0D5W+D1wOVV9dGm7/uBNzR9oXMTqOOqamuSm4HlVXVFkl3phN2TgcOAA4H7gBuA59K5fe2vJFkKLAWY99i9Wn1TJEkTm2x43FNVNyU5BzgeWN2s3wNYQufOf+ckORu4qqquS3IQnTv8faE5MJgH3N9sd1ATGouaMa7u2tdnm+BYAOxTVVcAVNVDAM1Yt1TVvc3zNcAQo8KjqlYAKwB2WbykJvk6JUmTMNnw+GnzNcBZVfWR0R2SHAG8GDgryTXAFcDtVXXUGONdALysqtYmOQU4dpx9jefnXctbmSNvOZakQdF28vtq4PVJ9gBIsk+SJyTZG9hSVRcB5wCHA3cBeyU5qum7c5IDm3EWAPc3p7ZeM9aOquoB4N4kL2u232Xb3Igkqb9a/cdeVdckeQZwY3P66CfAa4GnAR9I8gjwMPCmqvpFkpOA85IsbPZ1LnA78C7gZuAeYD2dMBnLnwEfSfLeZtw/affyJEnTIVWP/umA4eHhGhkZ6XcZkjSrJFlVVcNjtc26DwlKkvrP8JAktWZ4SJJaMzwkSa0ZHpKk1gwPSVJrhockqTXDQ5LUmuEhSWrN8JAktTYnrka7ftNmhpat7HcZ6rONy0/odwnSo4ZHHpKk1gwPSVJrfQ+PJGckOX2C9pclOWAma5IkTazv4TEJLwMMD0kaIH0JjyTvTHJXki8C+zXr3pjk1iRrk1yWZH6S5wAn0rnR1Jok+47Vrx+vQZLmshkPj+Ze568CDgP+GHhW03R5VT2rqp4J3AG8oaq+BlwJvL2qDq2qb47Vb5z9LE0ykmRk65bN0/2yJGlO6cdbdZ8HXFFVWwCSXNmsPyjJ+4FFwB507pc+lkn1q6oVwAqAXRYvefTfLlGSZlC/5jzG+mN+AfCXVXUwcCaw6zjbTrafJGma9CM8vgr8UZLdkiwA/nOzfgFwf5Kdgdd09X+waWM7/SRJM2TGw6OqbgM+DawBLgOua5reBdwMfAG4s2uTS4C3J1mdZN8J+kmSZkiqHv3TAcPDwzUyMtLvMiRpVkmyqqqGx2qbDZ/zkCQNGMNDktSa4SFJas3wkCS1ZnhIklozPCRJrRkekqTWDA9JUmuGhySpNcNDktRaPy7JPuPWb9rM0LKV/S5DPbBx+Qn9LkESHnlIknbAQIVHkmOTXNUsn5hk2QR9FyV588xVJ0naZkbCI8m8tttU1ZVVtXyCLosAw0OS+mDK4ZFkKMmdSS5Msi7JpUnmJ9mY5N1Jrgf+JMnxSW5McluSzybZo9n+hc3219O5p/m2cU9J8qFm+YlJrkiytnk8B1gO7JtkTZIPTPV1SJImr1dHHvsBK6rqEOABfn1E8FBVHQ18Efgb4LiqOhwYAd6WZFfgo3TuJvg84D+OM/55wFeq6pnA4cDtwDLgm1V1aFW9ffQGSZYmGUkysnXL5h69TEkS9C48vlNVNzTLFwFHN8ufbr4+GzgAuCHJGuBk4PeA/YG7q+ob1bkr1UXjjP8C4HyAqtpaVdtNg6paUVXDVTU8b/7CHXlNkqRx9OqtuqNvR7jt+U+brwG+UFWv7u6U5NAxtpUkDbheHXn8bpKjmuVXA9ePar8JeG6SpwE0cyJPp3MP8qc09ybftu1YvgS8qdl2XpLHAg8CC3pUvySphV6Fxx3AyUnWAY+nOcW0TVV9HzgF+FTT5yZg/6p6CFgKrGwmzO8ZZ/y/Ap6fZD2wCjiwqv6dzmmwDU6YS9LM6tVpq0eq6tRR64a6n1TV/wOeNXrDqvpnOnMfo9dfAFzQLH8XeOkYff50RwuWJO24OXF5koP3WciIl7WQpJ6ZcnhU1UbgoKmXIkmaLQbq8iSSpNnB8JAktWZ4SJJaMzwkSa0ZHpKk1gwPSVJrhockqTXDQ5LUmuEhSWptTlyeZP2mzQwtW9nvMjSBjV4+RppVPPKQJLU2Y+GRZO8kl/Z4zDOSnN7LMSVJ2zdjp62q6j7gpJnanyRp+kzLkUeSs5O8uev5GUn+OsmG5vmBSW5JsibJuiRLkgxta2/6nJ7kjGb5jUluTbI2yWVJ5k9H3ZKkyZmu01aXAK/sev4K4Nau56cCH6yqQ4Fh4N7tjHd5VT2rqp5J566Fb9heAUmWJhlJMrJ1y+ZWxUuSJjYtp62qanWSJyTZG9gL+BHw7a4uNwLvTPIkOsHwjSQTDXlQkvcDi4A9gKsnUcMKYAXALouX1A69EEnSmKZzwvxSOnMcr6RzJPIrVfVJ4ETgZ8DVSV4A/HJUPbt2LV8A/GVVHQycOapNkjTDpjM8LgFeRSdAfuNdVkmeCnyrqs4DrgQOAb4LPCHJ7yTZBXhJ1yYLgPuT7Ay8ZhprliRNwrS926qqbk+yANhUVfcnGepqfiXw2iQPA/8GvLeqHk7yXuBm4G7gzq7+72rW3wOspxMmkqQ+SdWjfzpgl8VLavHJ5/a7DE3AT5hLgyfJqqoaHqttTlye5OB9FjLiHydJ6hkvTyJJas3wkCS1ZnhIklozPCRJrRkekqTWDA9JUmuGhySpNcNDktSa4SFJam1OfMJ8/abNDC1b2e8yZjUvHyKpm0cekqTWDA9JUmuzJjySXJDkpH7XIUmaReEhSRocAxceSYaS3JHko0luT3JNkt1G9dmY5OwktzSPp/WrXkmaiwYuPBpLgA9X1YHAj4GXj9Hngao6EvgQcO7oxiRLk4wkGdm6ZfN01ipJc86ghsfdVbWmWV4FDI3R51NdX48a3VhVK6pquKqG581fOC1FStJcNajh8fOu5a2M/XmUGmdZkjTNBjU8JuOVXV9v7GchkjTXzOZPmO+S5GY6AfjqfhcjSXNJqmbfGZ8kG4HhqvrBZPoPDw/XyMjI9BYlSY8ySVZV1fBYbbP5tJUkqU9m5Wmrqhrqdw2SNJd55CFJas3wkCS1ZnhIklqble+2aivJg8Bd/a5jDHsCk3rH2Ayzrnasqx3raqefdf1eVe01VsOsnDDfAXeN93azfkoyYl2TZ13tWFc71tWOp60kSa0ZHpKk1uZKeKzodwHjsK52rKsd62rHulqYExPmkqTemitHHpKkHjI8JEmtzfrwSPLCJHcl+dcky8ZoT5LzmvZ1SQ6f7LZ9rOt/J/lekg29rGkqdSV5cpIvN/eXvz3JXw1IXbs297Ff29R15iDU1dU+L8nqJFcNSl1JNiZZn2RNkp5ebnqKdS1KcmmSO5vfs9+6Q+hM15Vkv+b7tO3xQJLT+l1X0/Zfm9/5DUk+lWTXXtU1KVU1ax/APOCbwFOBxwBrgQNG9Xkx8HkgwLOBmye7bT/qatqOAQ4HNgzQ92sxcHizvAD4+iB8v5rnezTLOwM3A8/ud11d7W8DPglcNQg/x6ZtI7BnL3+3elTXhcCfN8uPARYNQl2jxvk3Oh+c6/fv/T7A3cBuzfPPAKf0+mc60WO2H3kcCfxrVX2rqn4BXAK8dFSflwKfqI6bgEVJFk9y237URVV9Ffhhj2rpSV1VdX9V3dbU9yBwB51f4H7XVVX1k6bPzs2jV+8CmdLPMcmTgBOAj/Wonp7UNY12uK4kj6XzT9M/AlTVL6rqx/2ua1SfPwS+WVX3DEhdOwG7JdkJmA/c16O6JmW2h8c+wHe6nt/Lb/9BG6/PZLbtR13TqSd1JRkCDqPzX37f62pODa0Bvgd8oaoGoi7gXOC/AY/0qJ5e1VXANUlWJVk6IHU9Ffg+8PHmNN/Hkuw+AHV1exXwqR7VNKW6qmoTcA7wbeB+YHNVXdPD2rZrtodHxlg3+r/O8fpMZtsdNZW6ptOU60qyB3AZcFpVPTAIdVXV1qo6FHgScGSSg/pdV5KXAN+rqlU9qmW7+2zR57lVdTjwIuAvkhwzAHXtROdU7flVdRjwU6BX85C9+L1/DHAi8Nke1TSlupI8js5RyVOAvYHdk7y2h7Vt12wPj3uBJ3c9fxK/feg2Xp/JbNuPuqbTlOpKsjOd4Li4qi4flLq2aU5zXAu8cADqei5wYjq3TL4EeEGSiwagLqpq29fvAVfQOX3S77ruBe7tOmq8lE6Y9LuubV4E3FZV3+1RTVOt6zjg7qr6flU9DFwOPKeHtW3fTE6w9PpB57+Vb9FJ320TTgeO6nMCvznhdMtkt+1HXV3tQ/R+wnwq368AnwDOHbCf4140E6vAbsB1wEv6XdeoPsfS2wnzqXy/dgcWdC1/DXhhv+tq2q4D9muWzwA+MAh1Ne2XAK8boN/73wdupzPXETpvNnhLL+vbbv0zubNpeQGddyN8nc67Ft7ZrDsVOLVZDvDhpn09MDzRtgNS16fonMd8mM5/Hm/od13A0XQOqdcBa5rHiwegrkOA1U1dG4B3D8rPsWuMY+lheEzx+/VUOn+k1jZ/fAbp9/5QYKT5WX4OeNyA1DUf+HdgYS+/Vz2o60zgzub3/p+AXXpd30QPL08iSWptts95SJL6wPCQJLVmeEiSWjM8JEmtGR6SpNYMD0lSa4aHJKm1/w9HUXo4oqAs6gAAAABJRU5ErkJggg==\n",
=======
      "image/png": "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\n",
>>>>>>> 202b8eb86a0866135e016a692eae503f560a6a37
      "text/plain": [
       "<Figure size 432x288 with 1 Axes>"
      ]
     },
     "metadata": {
      "needs_background": "light"
     },
     "output_type": "display_data"
    }
   ],
   "source": [
    "evaluate_model(DS_model,rf,rf=True)"
   ]
  },
  {
   "cell_type": "code",
   "execution_count": 25,
   "metadata": {},
   "outputs": [
    {
     "name": "stdout",
     "output_type": "stream",
     "text": [
      "              precision    recall  f1-score   support\n",
      "\n",
<<<<<<< HEAD
      "           0       0.88      0.90      0.89       303\n",
      "           1       0.91      0.89      0.90       354\n",
      "\n",
      "    accuracy                           0.89       657\n",
      "   macro avg       0.89      0.90      0.89       657\n",
      "weighted avg       0.90      0.89      0.90       657\n",
=======
      "           0       0.85      0.88      0.87       308\n",
      "           1       0.89      0.87      0.88       349\n",
      "\n",
      "    accuracy                           0.87       657\n",
      "   macro avg       0.87      0.87      0.87       657\n",
      "weighted avg       0.87      0.87      0.87       657\n",
>>>>>>> 202b8eb86a0866135e016a692eae503f560a6a37
      "\n"
     ]
    },
    {
     "data": {
<<<<<<< HEAD
      "image/png": "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\n",
=======
      "image/png": "iVBORw0KGgoAAAANSUhEUgAAAYYAAAD4CAYAAADo30HgAAAAOXRFWHRTb2Z0d2FyZQBNYXRwbG90bGliIHZlcnNpb24zLjMuNCwgaHR0cHM6Ly9tYXRwbG90bGliLm9yZy8QVMy6AAAACXBIWXMAAAsTAAALEwEAmpwYAAAWG0lEQVR4nO3df5hmZX3f8fcnCwIruEih6YqaUUux8lMYLagQNKZRUfFXTYi1hGi3alolKca9YqNoYsRLY0lqSjuaKogRBcFatxqjFQUUcJZddiGoV8TxwsXWIjooaxWXb/94zprnDLM7z+zza368X9c11545933u833menY+c5/znHNSVUiStNsvjLsASdLSYjBIkloMBklSi8EgSWoxGCRJLfuNu4BBOPzww2tiYmLcZUjSsrJ58+a7q+qIuetXRDBMTEwwPT097jIkaVlJ8q351nsoSZLUYjBIkloMBklSi8EgSWpZESeft++YZWLjpnGXIUkjNXPhmUMZ1xmDJKllpMGQZCLJrfOsf1+SJ4yyFknS/JbEoaSqeuW4a5AkdYzjUNJ+SS5Jsi3JlUnWJrkmySRAklck+Xqz7r1J3jOGGiVp1RpHMBwNTFXV8cC9wGt2NyR5BPCHwCnArwKP39MgSTYkmU4yvWvn7JBLlqTVYxzBcGdVXd8sXwY8ravtycAXquqeqrofuGJPg1TVVFVNVtXkmrXrhliuJK0u4wiGuc8S7f4+oyxEkvRg4wiGRyc5tVk+G7iuq+0m4JeTPDzJfsCLR16dJK1y4wiG24FzkmwDDgMu3t1QVTuAPwFuBD4L/C3gCQRJGqGRfly1qmaA+a5XOKNr+a+qaqqZMVwNfGYEpUmSGkviOoY5LkjyTOBAOqHw8YU2OO7IdUwP6dJwSVptllwwVNX5465BklYz75UkSWoxGCRJLQaDJKnFYJAktRgMkqQWg0GS1GIwSJJaDAZJUovBIElqWXJXPu+L7Ttmmdi4adxlSFpBZlbxbXacMUiSWvoKhiTvSzLf3VJ72faCJOc3y29tbpwnSRqzvg4lVdUrB1FEVb1pEONIkvrX04whyUSSrya5JMm2JFcmWZvkmiSTTZ8fJfnTJDcn+VySI5r1j0vy6SSbk1yb5PHzjP+BJC9plmeSvKUZZ/t8/SVJw7OYQ0lHA1NVdTxwL/CaOe0PBW6uqpOALwBvbtZPAf+uqk4Gzgf+cw/7ursZ5+JmmwdJsiHJdJLpXTt9yJskDcpiDiXdWVXXN8uXAa+d0/4A8JGu9quSHAw8Bbgiye5+B/Swr6uafzcDL5qvQ1VN0QkdDlh/VPXyAiRJC1tMMMz95bvQL+OiMyP5QVWduJiigJ80/+5ihXykVpKWi8UcSnp0klOb5bOB6+YZ6yXN8m8C11XVvcA3k/wLgHSc0E/BkqThWkww3A6ck2QbcBid4//d7gOOSbIZeAbw1mb9y4BXJLkFuA04q7+SJUnDlKqFD88nmQA+WVXH7qXPj6rq4AHW1rPJycmanp4ex64ladlKsrmqJueu98pnSVJLTyd2q2oG2ONsoekzltmCJGmwnDFIkloMBklSi8EgSWoxGCRJLQaDJKnFYJAktRgMkqQWg0GS1LIi7ly6fccsExs3jbsMSUvQzIVnjruEZccZgySpxWCQJLUMPBiSXJBk3sdx7sNYP3+mtCRpNJwxSJJa+g6GJP8qybYktyT54Jy2E5Pc0LRfneThzfqfzwSSHJ5kplk+KMnlTf+PAAf1W58kaXH6CoYkxwBvBJ5RVScAr5vT5VLgDVV1PLAdePMCQ74a2Nn0fxtw8l72vSHJdJLpXTtn9/k1SJLa+p0xPAO4sqruBqiqe3Y3JFkHHFpVX2hWXQKcvsB4pwOXNWNtA7btqWNVTVXVZFVNrlm7ro+XIEnq1m8wBFj42aAP9rOufR84p21fxpMkDUi/wfA54KVJ/gFAksN2N1TVLPD9JKc1q14O7J49zPD3h4le0jXeF4GXNWMdCxzfZ32SpEXq68rnqrotyduALyTZBWyh80t/t3OA/5JkLXAHcG6z/l3AR5O8HPhfXf0vBt6fZBuwFbipn/okSYuXquV/5GZycrKmp6fHXYYkLStJNlfVg64V8zoGSVKLwSBJajEYJEktBoMkqcVgkCS1GAySpBaDQZLUYjBIkloMBklSi8EgSWrp615JS8X2HbNMbNw07jIkATMXnjnuEtQnZwySpJaBB0OSP+hankhy66D3IUkanmHMGP5g4S6SpKVqwWBo/ur/apJLkmxLcmWSM5Nc3dXnV5NcleRC4KAkW5N8qGlek+S9SW5L8pkkBzXbnJjkhmbMq5M8vFl/TZJ3JLkpyde7HvQjSRqBXmcMRwNTVXU8cC/wBOCfJjmiaT8XeH9VbQR+XFUnVtXLmrajgL+oqmOAHwAvbtZfCryhGXM78Oau/e1XVU8Gzpuz/ueSbEgynWR6187ZHl+GJGkhvQbDnVV1fbN8GfBU4IPAv0xyKHAq8Kk9bPvNqtraLG8GJpKsAw6tqt2P+rwEOL1rm6u6+883aFVNVdVkVU2uWbuux5chSVpIrx9XnfuYtwLeD/wP4P8BV1TVz/aw7U+6lncBB/Wwv93b7FpEjZKkAeh1xvDoJKc2y2cD11XVXcBdwH8APtDV9/4k++9tsKqaBb7fdf7g5cAX9rKJJGlEeg2G24FzkmwDDgMubtZ/iM5hpr/t6jsFbOs6+bwn5wDvbMY8EXhrz1VLkoam18M0D1TVq+ZZ/zTgvd0rquoNwBu6Vh3b1fauruWtwClzB6yqM7qW72YP5xgkScOxz8fvk2wG7gP+/eDK2TfHHbmOaS/Dl6SBWDAYqmqGrr/6u9afPIyCJEnj5b2SJEktBoMkqcVgkCS1GAySpBaDQZLUYjBIkloMBklSi8EgSWoxGCRJLSviltbbd8wysXHTuMuQVrwZbz2zKjhjkCS1DD0YklyQ5Py9tL8gyROGXYckqTdLYcbwAjrPkJYkLQFDCYYkb0zytSSfBY5u1v3rJF9JckuSjyVZm+QpwPPpPLBna5LHzddvGDVKkuY38GBIcjLwG8ATgRcBT2qarqqqJ1XVCXSeCPeKqvoS8Ang9VV1YlV9Y75+e9jPhiTTSaZ37Zwd9MuQpFVrGJ9KOg24uqp2AiT5RLP+2CR/DBwKHAz89R6276lfVU3ReYwoB6w/qgZVvCStdsM6xzDfL+oPAP+2qo4D3gIcuIdte+0nSRqCYQTDF4EXJjkoySHA85r1hwDfSbI/8LKu/j9s2lignyRpBAYeDFV1M/ARYCvwMeDapukPgRuBvwG+2rXJ5cDrk2xJ8ri99JMkjUCqlv/h+QPWH1Xrz7lo3GVIK55XPq8sSTZX1eTc9SvilhjHHbmOad+wkjQQS+ECN0nSEmIwSJJaDAZJUovBIElqMRgkSS0GgySpxWCQJLUYDJKkFoNBktRiMEiSWlbELTG275hlYuOmcZchrRjeE2l1c8YgSWoZWjAkmUhya59jPCLJlYOqSZK0sCV9KKmq7gJeMu46JGk1GfahpP2SXJJkW5Irk6xNMpPkcIAkk0muaZZ/OcnW5mtLkkMGMeuQJC3OsIPhaGCqqo4H7gVes5e+5wO/U1UnAqcBP97bwEk2JJlOMr1r5+yg6pWkVW/YwXBnVV3fLF8GPG0vfa8H3p3ktcChVfWzvQ1cVVNVNVlVk2vWrhtQuZKkYQfD3OeGFvCzrv0e+POGqguBVwIHATckefyQa5MkzWPYwfDoJKc2y2cD1wEzwMnNuhfv7pjkcVW1vareAUwDBoMkjcGwg+F24Jwk24DDgIuBtwB/luRaYFdX3/OS3JrkFjrnFz415NokSfNI1dyjPcvP5ORkTU9Pj7sMSVpWkmyuqsm5673yWZLUYjBIkloMBklSi8EgSWoxGCRJLQaDJKnFYJAktRgMkqQWg0GS1GIwSJJalvQT3Hq1fccsExs3jbsMaa9mLjxz3CVIPXHGIElqMRgkSS19B0OS85KsXWy/JP8zyaH9jitJGqxBzBjOA3r5Bd7qV1XPqaofDGBcSdIALerkc5KHAh8FHgmsAa4AHgF8PsndVfX0JBcDT6LziM4rq+rNzXOc5/abASbpPJSne8w/An5xbv8BvFZJUg8W+6mkZwF3VdWZAEnWAecCT6+qu5s+b6yqe5KsAT6X5Piq+vMkvzen3x7HrKrZvfSn6bcB2ACw5mFHLPJlSJL2ZLGHkrYDz0zyjiSnVdXsPH1emuRmYAtwDPCEAYz5IFU1VVWTVTW5Zu26Rb0ISdKeLSoYqurrwMl0fpm/PcmbutuTPAY4H/iVqjoe2AQc2M+YkqTRWlQwJHkEsLOqLgPeBZwE/BA4pOnyMOA+YDbJLwLP7tq8u99CY+6xvyRpuBZ7juE44J1JHgDuB14NnAp8Ksl3mpPKW4DbgDuA67u2nerut8CYe+svSRqiVNW4a+jb5ORkTU9Pj7sMSVpWkmyuqsm5673yWZLUYjBIkloMBklSi8EgSWoxGCRJLQaDJKnFYJAktRgMkqQWg0GS1GIwSJJaFnuvpCVp+45ZJjZuGncZWkFmLjxz3CVIY+OMQZLUsuSCIclvJXnPuOuQpNVqSQVDkhVxaEuSlrO+giHJQ5NsSnJLkluT/HqSmeYxnTc1X/+46fu8JDcm2ZLks82DfEhyQZKpJJ8BLp0z/plJvpzk8H7qlCT1rt8Zw7OAu6rqhKo6Fvh0s/7eqnoy8B7gombddcApVfVE4HLg97vGORk4q6p+c/eKJC8ENgLPqaq75+44yYYk00mmd+3s6THRkqQe9HvoZjvwriTvAD5ZVdcmAfhw0/5h4D82y48EPpJkPfAQ4Jtd43yiqn7c9f3TgUngn1fVvfPtuKqm6DzljQPWH7X8nzYkSUtEXzOGqvo6nb/2twNvT/Km3U3d3Zp//xPwnqo6Dvg3wIFdfe6bM/QddJ73/E/6qU+StHj9nmN4BLCzqi4D3gWc1DT9ete/X26W1wE7muVzFhj6W8CLgEuTHNNPjZKkxen3UNJxwDuTPADcD7wauBI4IMmNdILn7KbvBcAVSXYANwCP2dvAVfW1JC9rtnleVX2jz1olST1I1WAPzyeZASbnO2E8LAesP6rWn3PRqHanVcArn7UaJNlcVZNz16+I6waOO3Id0/5HlqSBGHgwVNXEoMeUJI3OkrryWZI0fgaDJKnFYJAktRgMkqQWg0GS1GIwSJJaDAZJUovBIElqMRgkSS0r4pYY23fMMrFx07jL0BLlfY+kxXHGIElq6TsYkkwkuXUR/T+cZFuS301yTZIH3dlPkjQ+Iz2UlOQfAU+pql9qvj9rlPuXJC1soIeSkjw2yZYk/yzJl5rlLyU5uunyGeAfJtma5LSu7X4hySVJ/rj5/uNJNie5LcmGQdYoSdq7gc0Yml/+lwPn0nlm8+lV9bMkzwT+BHgx8Hzgk1V1YrPN7ho+BNxaVW9rhvvtqronyUHAV5J8rKq+N2d/G4ANAGsedsSgXoYkrXqDCoYjgP8OvLiqbkvyKOCSJEcBBey/l23/K/DRrlAAeG2SFzbLjwKOAlrBUFVTwBR0nuA2mJchSRrUoaRZ4E7gqc33fwR8vqqOBZ4HHLiXbb8EPD3JgQBJzgCeCZxaVScAWxbYXpI0QIOaMfwUeAHw10l+BKwDdjRtv7XAtn8JnA5c0cwS1gHfr6qdSR4PnDKgGiVJPRjYyeequg94LvC7wFbg7UmuB9b0sO27gZuBDwKfBvZLso3OzOOGQdUoSVpYqpb/4fkD1h9V68+5aNxlaInyymdpfkk2V9WDriVbEbfEOO7IdUz7n1+SBsJbYkiSWgwGSVKLwSBJajEYJEktBoMkqcVgkCS1GAySpBaDQZLUYjBIklpWxJXP23fMMrFx07jL0Jh56wtpMJwxSJJaDAZJUovBIElqMRgkSS1jCYYkH0+yOcltSTYkeWmSdzdtr0tyR7P8uCTXjaNGSVqtxvWppN+uqnuSHAR8Bfg14PVN22nA95IcCTwNuHa+AZJsADYArHnYEcOvWJJWiXEdSnptklvoPLbzUc3XwUkOaZb/is5zoE9jD8FQVVNVNVlVk2vWrhtR2ZK08o08GJKcATwTOLWqTgC2AAcCXwbOBb5GJwxOA04Frh91jZK0mo1jxrAO+H5V7UzyeOCUZv0XgfObf7cATwd+UlWzY6hRklatcZxj+DTwqiTb6MwObmjWX0vnMNIXq2pXkjuBr46hPkla1VJV466hb5OTkzU9PT3uMiRpWUmyuaom5673OgZJUovBIElqMRgkSS0GgySpxWCQJLWsiE8lJfkhnY++LjeHA3ePu4h9YN2jtRzrXo41w+qr+5eq6kH3FFoRT3ADvjbfR66WuiTT1j061j06y7FmsO7dPJQkSWoxGCRJLSslGKbGXcA+su7Rsu7RWY41g3UDK+TksyRpcFbKjEGSNCAGgySpZUkHQ5JnJflakr9LsnGe9iT586Z9W5KTet12Cdf935J8N8mto6y52fc+1Z3kUUk+n+T25jner1smdR+Y5KYktzR1v2U51N3VvibJliSfHF3Vfb+/Z5JsT7I1yUhvidxn3YcmuTLJV5v3+alLve4kRzc/591f9yY5r6edVtWS/ALWAN8AHgs8BLgFeMKcPs8BPgWEzgN/bux126VYd9N2OnAScOsy+nmvB05qlg8Bvr4cft7N9wc3y/sDNwKnLPW6u9p/j85jcD+5HN4nTdsMcPgo39sDqvsS4JXN8kOAQ5dD3XPG+d90LmhbcL9LecbwZODvquqOqvopcDlw1pw+ZwGXVscNwKFJ1ve47VKsm6r6InDPiGrtts91V9V3qupmgKr6IXA7cOQyqLuq6kdNn/2br1F9GqOv90mSRwJnAu8bUb279VX3GO1z3UkeRucPtr8EqKqfVtUPlnrdc/r8CvCNqvpWLztdysFwJHBn1/ff5sG/bPbUp5dth6WfusdpIHUnmQCeSOev71Hoq+7mcMxW4LvA31TVsqgbuAj4feCBIdW3J/3WXcBnkmxOsmFoVT5YP3U/Fvi/wPubQ3fvS/LQYRbbQ02L7fMbwId73elSDobMs27uX3N76tPLtsPST93j1HfdSQ4GPgacV1X3DrC2vemr7qraVVUnAo8Enpzk2MGWt0f7XHeS5wLfrarNgy9rQf2+T55aVScBzwZ+J8npgyxuL/qpez86h3cvrqonAvcBozpvOYj/lw8Bng9c0etOl3IwfJvOM6B3eyRwV499etl2WPqpe5z6qjvJ/nRC4UNVddUQ65xrID/v5tDANcCzBl7h/Pqp+6nA85PM0Dm08Iwklw2v1J5q6qlPVe3+97vA1XQOlYxCv79Pvt01m7ySTlCMwiDe388Gbq6q/9PzXkdxAmVfvuik9B3AY/j7ky7HzOlzJu2TLjf1uu1SrLurfYLRn3zu5+cd4FLgomX2PjmC5iQicBBwLfDcpV73nD5nMNqTz/38vB8KHNK1/CXgWUu97qbtWuDoZvkC4J3Loe6m/XLg3EXtd1RvqH38oTyHzidcvgG8sVn3KuBVzXKAv2jatwOTe9t2mdT9YeA7wP10/hJ4xVKvG3gananrNmBr8/WcZVD38cCWpu5bgTctl/dJ1xhnMMJg6PPn/djmF9stwG3L7P/licB08175OPDwZVL3WuB7wLrF7NNbYkiSWpbyOQZJ0hgYDJKkFoNBktRiMEiSWgwGSVKLwSBJajEYJEkt/x/JobWCXXF2TQAAAABJRU5ErkJggg==\n",
>>>>>>> 202b8eb86a0866135e016a692eae503f560a6a37
      "text/plain": [
       "<Figure size 432x288 with 1 Axes>"
      ]
     },
     "metadata": {
      "needs_background": "light"
     },
     "output_type": "display_data"
    }
   ],
   "source": [
    "evaluate_model(DE_model,rf,rf=True)"
   ]
  },
  {
   "cell_type": "markdown",
   "metadata": {},
   "source": [
    "## Bagging"
   ]
  },
  {
   "cell_type": "code",
   "execution_count": 26,
   "metadata": {},
   "outputs": [],
   "source": [
    "from sklearn.ensemble import BaggingClassifier\n",
    "# parameters = {\n",
    "#      'n_estimators':(30, 50,80), #the number of trees\n",
    "#      'max_samples':(20,40,60,80,100,120,150,200),\n",
    "#      'max_features':(20,40,60,80,100,120,150,200),\n",
    "     \n",
    "# }\n",
    "\n",
    "# model = GridSearchCV(BaggingClassifier(),parameters,cv=3,iid=False)\n",
    "# model.fit(X_train, Y_train)\n",
    "# model.best_score_, model.best_params_"
   ]
  },
  {
   "cell_type": "code",
   "execution_count": 27,
   "metadata": {},
   "outputs": [
    {
     "name": "stdout",
     "output_type": "stream",
     "text": [
      "              precision    recall  f1-score   support\n",
      "\n",
<<<<<<< HEAD
      "          BA       0.77      0.81      0.79       307\n",
      "          DA       0.64      0.70      0.67       293\n",
      "          DE       0.82      0.80      0.81       335\n",
      "          DS       0.86      0.76      0.81       307\n",
=======
      "          BA       0.70      0.86      0.77       292\n",
      "          DA       0.69      0.57      0.63       304\n",
      "          DE       0.79      0.81      0.80       335\n",
      "          DS       0.83      0.77      0.80       311\n",
>>>>>>> 202b8eb86a0866135e016a692eae503f560a6a37
      "\n",
      "    accuracy                           0.75      1242\n",
      "   macro avg       0.75      0.75      0.75      1242\n",
      "weighted avg       0.76      0.75      0.75      1242\n",
      "\n"
     ]
    }
   ],
   "source": [
    "bg_model=BaggingClassifier(max_features=120,max_samples=200,n_estimators=80)\n",
    "evaluate_model(df_whole,bg_model)"
   ]
  },
  {
   "cell_type": "code",
   "execution_count": 28,
   "metadata": {},
   "outputs": [],
   "source": [
    "bg=BaggingClassifier()"
   ]
  },
  {
   "cell_type": "code",
   "execution_count": 29,
   "metadata": {},
   "outputs": [
    {
     "name": "stdout",
     "output_type": "stream",
     "text": [
      "              precision    recall  f1-score   support\n",
      "\n",
<<<<<<< HEAD
      "           0       0.92      0.88      0.90       304\n",
      "           1       0.89      0.93      0.91       302\n",
      "\n",
      "    accuracy                           0.91       606\n",
      "   macro avg       0.91      0.91      0.91       606\n",
      "weighted avg       0.91      0.91      0.91       606\n",
=======
      "           0       0.90      0.88      0.89       300\n",
      "           1       0.89      0.91      0.90       306\n",
      "\n",
      "    accuracy                           0.89       606\n",
      "   macro avg       0.89      0.89      0.89       606\n",
      "weighted avg       0.89      0.89      0.89       606\n",
>>>>>>> 202b8eb86a0866135e016a692eae503f560a6a37
      "\n"
     ]
    }
   ],
   "source": [
    "evaluate_model(BA_model,bg)"
   ]
  },
  {
   "cell_type": "code",
   "execution_count": 30,
   "metadata": {},
   "outputs": [
    {
     "name": "stdout",
     "output_type": "stream",
     "text": [
      "              precision    recall  f1-score   support\n",
      "\n",
<<<<<<< HEAD
      "           0       0.79      0.89      0.83       317\n",
      "           1       0.86      0.73      0.79       289\n",
      "\n",
      "    accuracy                           0.82       606\n",
      "   macro avg       0.82      0.81      0.81       606\n",
      "weighted avg       0.82      0.82      0.81       606\n",
=======
      "           0       0.81      0.78      0.80       319\n",
      "           1       0.77      0.79      0.78       287\n",
      "\n",
      "    accuracy                           0.79       606\n",
      "   macro avg       0.79      0.79      0.79       606\n",
      "weighted avg       0.79      0.79      0.79       606\n",
>>>>>>> 202b8eb86a0866135e016a692eae503f560a6a37
      "\n"
     ]
    }
   ],
   "source": [
    "evaluate_model(DA_model,bg)"
   ]
  },
  {
   "cell_type": "code",
   "execution_count": null,
   "metadata": {},
   "outputs": [],
   "source": []
  },
  {
   "cell_type": "code",
   "execution_count": null,
   "metadata": {},
   "outputs": [],
   "source": []
  }
 ],
 "metadata": {
  "kernelspec": {
   "display_name": "Python 3",
   "language": "python",
   "name": "python3"
  },
  "language_info": {
   "codemirror_mode": {
    "name": "ipython",
    "version": 3
   },
   "file_extension": ".py",
   "mimetype": "text/x-python",
   "name": "python",
   "nbconvert_exporter": "python",
   "pygments_lexer": "ipython3",
   "version": "3.8.8"
  }
 },
 "nbformat": 4,
 "nbformat_minor": 4
}
