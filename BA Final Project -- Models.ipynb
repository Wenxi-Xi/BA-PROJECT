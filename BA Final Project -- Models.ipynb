{
 "cells": [
  {
   "cell_type": "code",
   "execution_count": 51,
   "metadata": {},
   "outputs": [],
   "source": [
    "import pandas as pd\n",
    "import numpy as np\n",
    "from sklearn.model_selection import train_test_split"
   ]
  },
  {
   "cell_type": "markdown",
   "metadata": {},
   "source": [
    "# Read In Data"
   ]
  },
  {
   "cell_type": "code",
   "execution_count": 52,
   "metadata": {},
   "outputs": [],
   "source": [
    "df_BA=pd.read_csv('BA')\n",
    "df_DS=pd.read_csv('DS')\n",
    "df_DA=pd.read_csv('DA')\n",
    "df_DE=pd.read_csv('DE')"
   ]
  },
  {
   "cell_type": "code",
   "execution_count": null,
   "metadata": {},
   "outputs": [],
   "source": []
  },
  {
   "cell_type": "markdown",
   "metadata": {},
   "source": [
    "# Sample and Split"
   ]
  },
  {
   "cell_type": "code",
   "execution_count": 53,
   "metadata": {},
   "outputs": [],
   "source": [
    "from sklearn.model_selection import train_test_split"
   ]
  },
  {
   "cell_type": "code",
   "execution_count": 54,
   "metadata": {},
   "outputs": [
    {
     "data": {
      "text/plain": [
       "(973, 3983, 1663, 1167)"
      ]
     },
     "execution_count": 54,
     "metadata": {},
     "output_type": "execute_result"
    }
   ],
   "source": [
    "len(df_DS),len(df_DA),len(df_BA),len(df_DE)"
   ]
  },
  {
   "cell_type": "code",
   "execution_count": 55,
   "metadata": {},
   "outputs": [],
   "source": [
    "df_DA=df_DA.sample(n=1000,replace=True)\n",
    "df_BA=df_BA.sample(n=1000,replace=True)"
   ]
  },
  {
   "cell_type": "code",
   "execution_count": 56,
   "metadata": {},
   "outputs": [
    {
     "data": {
      "text/plain": [
       "(973, 1000, 1000, 1167)"
      ]
     },
     "execution_count": 56,
     "metadata": {},
     "output_type": "execute_result"
    }
   ],
   "source": [
    "len(df_DS),len(df_DA),len(df_BA),len(df_DE)"
   ]
  },
  {
   "cell_type": "code",
   "execution_count": 57,
   "metadata": {},
   "outputs": [],
   "source": [
    "whole_list=[df_DA,df_DS,df_DE,df_BA]\n",
    "df_whole=pd.concat(whole_list)"
   ]
  },
  {
   "cell_type": "code",
   "execution_count": 58,
   "metadata": {},
   "outputs": [
    {
     "data": {
      "text/html": [
       "<div>\n",
       "<style scoped>\n",
       "    .dataframe tbody tr th:only-of-type {\n",
       "        vertical-align: middle;\n",
       "    }\n",
       "\n",
       "    .dataframe tbody tr th {\n",
       "        vertical-align: top;\n",
       "    }\n",
       "\n",
       "    .dataframe thead th {\n",
       "        text-align: right;\n",
       "    }\n",
       "</style>\n",
       "<table border=\"1\" class=\"dataframe\">\n",
       "  <thead>\n",
       "    <tr style=\"text-align: right;\">\n",
       "      <th></th>\n",
       "      <th>JT</th>\n",
       "      <th>JD</th>\n",
       "      <th>tool_list</th>\n",
       "      <th>skill_list</th>\n",
       "      <th>degree_list</th>\n",
       "      <th>clean</th>\n",
       "    </tr>\n",
       "  </thead>\n",
       "  <tbody>\n",
       "    <tr>\n",
       "      <th>2172</th>\n",
       "      <td>DA</td>\n",
       "      <td>The Pharmacy Data Analyst will be responsible ...</td>\n",
       "      <td>['excel']</td>\n",
       "      <td>['analyz', 'end user', 'data', 'account', 'com...</td>\n",
       "      <td>1.0</td>\n",
       "      <td>['excel', 'analyz', 'end user', 'data', 'accou...</td>\n",
       "    </tr>\n",
       "    <tr>\n",
       "      <th>2782</th>\n",
       "      <td>DA</td>\n",
       "      <td>Bigger challenges.\\nBolder ideas.\\nGlobal impa...</td>\n",
       "      <td>['seaborn', 'scikit', 'matplotlib', 'python', ...</td>\n",
       "      <td>['visual', 'regress', 'problem solving', 'mach...</td>\n",
       "      <td>1.0</td>\n",
       "      <td>['seaborn', 'scikit', 'matplotlib', 'python', ...</td>\n",
       "    </tr>\n",
       "    <tr>\n",
       "      <th>1301</th>\n",
       "      <td>DA</td>\n",
       "      <td>Req ID: 94674\\nRole Responsibilities:\\n* Estab...</td>\n",
       "      <td>[None]</td>\n",
       "      <td>['busi', 'etl', 'healthcar']</td>\n",
       "      <td>1.0</td>\n",
       "      <td>['busi', 'etl', 'healthcar']</td>\n",
       "    </tr>\n",
       "    <tr>\n",
       "      <th>1150</th>\n",
       "      <td>DA</td>\n",
       "      <td>Data Analyst III\\nDuration: 6+ months\\nDuties:...</td>\n",
       "      <td>['c', 'sql', 'power bi', 'bi', 'excel', 'table...</td>\n",
       "      <td>['visual', 'problem solving', 'data', 'busi', ...</td>\n",
       "      <td>1.0</td>\n",
       "      <td>['c', 'sql', 'powerbi', 'excel', 'tableau', 'v...</td>\n",
       "    </tr>\n",
       "    <tr>\n",
       "      <th>1327</th>\n",
       "      <td>DA</td>\n",
       "      <td>Hello,\\nÂ\\nHope you are doing goodâ!!\\n!Â\\nÂ\\n...</td>\n",
       "      <td>['sql']</td>\n",
       "      <td>['data']</td>\n",
       "      <td>999.0</td>\n",
       "      <td>['sql', 'data']</td>\n",
       "    </tr>\n",
       "    <tr>\n",
       "      <th>...</th>\n",
       "      <td>...</td>\n",
       "      <td>...</td>\n",
       "      <td>...</td>\n",
       "      <td>...</td>\n",
       "      <td>...</td>\n",
       "      <td>...</td>\n",
       "    </tr>\n",
       "    <tr>\n",
       "      <th>1429</th>\n",
       "      <td>NaN</td>\n",
       "      <td>Job title: Salesforce BSA with Service Cloud a...</td>\n",
       "      <td>['cloud', 'salesforc']</td>\n",
       "      <td>['busi']</td>\n",
       "      <td>999.0</td>\n",
       "      <td>['cloud', 'salesforc', 'busi']</td>\n",
       "    </tr>\n",
       "    <tr>\n",
       "      <th>281</th>\n",
       "      <td>NaN</td>\n",
       "      <td>Req ID: 177704\\nThe Job\\nWarner Bros. Entertai...</td>\n",
       "      <td>['hana']</td>\n",
       "      <td>['regress', 'busi', 'commun', 'optim']</td>\n",
       "      <td>999.0</td>\n",
       "      <td>['hana', 'regress', 'busi', 'commun', 'optim']</td>\n",
       "    </tr>\n",
       "    <tr>\n",
       "      <th>1595</th>\n",
       "      <td>NaN</td>\n",
       "      <td>You will be the go-to individual for all Web D...</td>\n",
       "      <td>['excel', 'microsoft', 'javascript']</td>\n",
       "      <td>['research', 'busi', 'commun']</td>\n",
       "      <td>999.0</td>\n",
       "      <td>['excel', 'microsoft', 'javascript', 'research...</td>\n",
       "    </tr>\n",
       "    <tr>\n",
       "      <th>899</th>\n",
       "      <td>NaN</td>\n",
       "      <td>Job Summary:\\nLooking for high powered and qua...</td>\n",
       "      <td>[None]</td>\n",
       "      <td>['data', 'busi', 'statist']</td>\n",
       "      <td>2.0</td>\n",
       "      <td>['data', 'busi', 'statist']</td>\n",
       "    </tr>\n",
       "    <tr>\n",
       "      <th>1045</th>\n",
       "      <td>NaN</td>\n",
       "      <td>About the Role:\\nThis role will manage activit...</td>\n",
       "      <td>['sql', 'excel']</td>\n",
       "      <td>['data', 'busi', 'commun']</td>\n",
       "      <td>1.0</td>\n",
       "      <td>['sql', 'excel', 'data', 'busi', 'commun']</td>\n",
       "    </tr>\n",
       "  </tbody>\n",
       "</table>\n",
       "<p>4140 rows × 6 columns</p>\n",
       "</div>"
      ],
      "text/plain": [
       "       JT                                                 JD  \\\n",
       "2172   DA  The Pharmacy Data Analyst will be responsible ...   \n",
       "2782   DA  Bigger challenges.\\nBolder ideas.\\nGlobal impa...   \n",
       "1301   DA  Req ID: 94674\\nRole Responsibilities:\\n* Estab...   \n",
       "1150   DA  Data Analyst III\\nDuration: 6+ months\\nDuties:...   \n",
       "1327   DA  Hello,\\nÂ\\nHope you are doing goodâ!!\\n!Â\\nÂ\\n...   \n",
       "...   ...                                                ...   \n",
       "1429  NaN  Job title: Salesforce BSA with Service Cloud a...   \n",
       "281   NaN  Req ID: 177704\\nThe Job\\nWarner Bros. Entertai...   \n",
       "1595  NaN  You will be the go-to individual for all Web D...   \n",
       "899   NaN  Job Summary:\\nLooking for high powered and qua...   \n",
       "1045  NaN  About the Role:\\nThis role will manage activit...   \n",
       "\n",
       "                                              tool_list  \\\n",
       "2172                                          ['excel']   \n",
       "2782  ['seaborn', 'scikit', 'matplotlib', 'python', ...   \n",
       "1301                                             [None]   \n",
       "1150  ['c', 'sql', 'power bi', 'bi', 'excel', 'table...   \n",
       "1327                                            ['sql']   \n",
       "...                                                 ...   \n",
       "1429                             ['cloud', 'salesforc']   \n",
       "281                                            ['hana']   \n",
       "1595               ['excel', 'microsoft', 'javascript']   \n",
       "899                                              [None]   \n",
       "1045                                   ['sql', 'excel']   \n",
       "\n",
       "                                             skill_list  degree_list  \\\n",
       "2172  ['analyz', 'end user', 'data', 'account', 'com...          1.0   \n",
       "2782  ['visual', 'regress', 'problem solving', 'mach...          1.0   \n",
       "1301                       ['busi', 'etl', 'healthcar']          1.0   \n",
       "1150  ['visual', 'problem solving', 'data', 'busi', ...          1.0   \n",
       "1327                                           ['data']        999.0   \n",
       "...                                                 ...          ...   \n",
       "1429                                           ['busi']        999.0   \n",
       "281              ['regress', 'busi', 'commun', 'optim']        999.0   \n",
       "1595                     ['research', 'busi', 'commun']        999.0   \n",
       "899                         ['data', 'busi', 'statist']          2.0   \n",
       "1045                         ['data', 'busi', 'commun']          1.0   \n",
       "\n",
       "                                                  clean  \n",
       "2172  ['excel', 'analyz', 'end user', 'data', 'accou...  \n",
       "2782  ['seaborn', 'scikit', 'matplotlib', 'python', ...  \n",
       "1301                       ['busi', 'etl', 'healthcar']  \n",
       "1150  ['c', 'sql', 'powerbi', 'excel', 'tableau', 'v...  \n",
       "1327                                    ['sql', 'data']  \n",
       "...                                                 ...  \n",
       "1429                     ['cloud', 'salesforc', 'busi']  \n",
       "281      ['hana', 'regress', 'busi', 'commun', 'optim']  \n",
       "1595  ['excel', 'microsoft', 'javascript', 'research...  \n",
       "899                         ['data', 'busi', 'statist']  \n",
       "1045         ['sql', 'excel', 'data', 'busi', 'commun']  \n",
       "\n",
       "[4140 rows x 6 columns]"
      ]
     },
     "execution_count": 58,
     "metadata": {},
     "output_type": "execute_result"
    }
   ],
   "source": [
    "df_whole"
   ]
  },
  {
   "cell_type": "code",
   "execution_count": 59,
   "metadata": {},
   "outputs": [],
   "source": [
    "from sklearn.model_selection import train_test_split\n",
    "df_train, df_test = train_test_split(df_whole, test_size = 0.3)\n",
    "clean_train=df_train[\"clean\"]\n",
    "Y_train=df_train[\"JT\"]\n",
    "clean_test=df_test[\"clean\"]\n",
    "Y_test=df_test[\"JT\"]"
   ]
  },
  {
   "cell_type": "code",
   "execution_count": null,
   "metadata": {},
   "outputs": [],
   "source": []
  },
  {
   "cell_type": "markdown",
   "metadata": {},
   "source": [
    "# Decision Tree/ Random Forest"
   ]
  },
  {
   "cell_type": "code",
   "execution_count": 50,
   "metadata": {},
   "outputs": [],
   "source": [
    "from sklearn.feature_extraction.text import CountVectorizer\n",
    "from sklearn.feature_extraction.text import TfidfTransformer\n",
    "from sklearn.metrics import classification_report,confusion_matrix\n",
    "from sklearn.tree import DecisionTreeClassifier"
   ]
  },
  {
   "cell_type": "code",
   "execution_count": 30,
   "metadata": {},
   "outputs": [],
   "source": [
    "vectorizer = CountVectorizer().fit(df_whole[\"clean\"])\n",
    "clean_bow= vectorizer.transform(df_whole[\"clean\"])\n",
    "train_bow = vectorizer.transform(clean_train)\n",
    "test_bow = vectorizer.transform(clean_test)"
   ]
  },
  {
   "cell_type": "code",
   "execution_count": 31,
   "metadata": {},
   "outputs": [
    {
     "name": "stdout",
     "output_type": "stream",
     "text": [
      "(2898, 226)\n"
     ]
    }
   ],
   "source": [
    "tfidf_transformer = TfidfTransformer().fit(clean_bow)\n",
    "X_train = tfidf_transformer.transform(train_bow)\n",
    "X_test = tfidf_transformer.transform(test_bow)\n",
    "print(X_train.shape)"
   ]
  },
  {
   "cell_type": "code",
   "execution_count": null,
   "metadata": {},
   "outputs": [],
   "source": []
  },
  {
   "cell_type": "code",
   "execution_count": 32,
   "metadata": {},
   "outputs": [
    {
     "data": {
      "text/plain": [
       "DecisionTreeClassifier()"
      ]
     },
     "execution_count": 32,
     "metadata": {},
     "output_type": "execute_result"
    }
   ],
   "source": [
    "dtree = DecisionTreeClassifier()\n",
    "dtree.fit(X_train,Y_train)"
   ]
  },
  {
   "cell_type": "code",
   "execution_count": 33,
   "metadata": {},
   "outputs": [
    {
     "name": "stdout",
     "output_type": "stream",
     "text": [
      "              precision    recall  f1-score   support\n",
      "\n",
      "          BA       0.76      0.86      0.80       308\n",
      "          DA       0.64      0.64      0.64       289\n",
      "          DE       0.82      0.77      0.79       358\n",
      "          DS       0.78      0.73      0.76       287\n",
      "\n",
      "    accuracy                           0.75      1242\n",
      "   macro avg       0.75      0.75      0.75      1242\n",
      "weighted avg       0.75      0.75      0.75      1242\n",
      "\n"
     ]
    }
   ],
   "source": [
    "predictions = dtree.predict(X_test)\n",
    "print(classification_report(Y_test,predictions))"
   ]
  },
  {
   "cell_type": "code",
   "execution_count": 35,
   "metadata": {},
   "outputs": [],
   "source": [
    "#conda install -c conda-forge skater"
   ]
  },
  {
   "cell_type": "code",
   "execution_count": 36,
   "metadata": {},
   "outputs": [],
   "source": [
    "from sklearn.pipeline import Pipeline\n",
    "\n",
    "pipelines = Pipeline([\n",
    "    ('bow', CountVectorizer()),  # strings to token integer counts\n",
    "    ('tfidf', TfidfTransformer()),  # integer counts to weighted TF-IDF scores\n",
    "    ('classifier', DecisionTreeClassifier()),  # train on TF-IDF vectors w/ Naive Bayes classifier\n",
    "])"
   ]
  },
  {
   "cell_type": "code",
   "execution_count": 37,
   "metadata": {},
   "outputs": [
    {
     "ename": "ModuleNotFoundError",
     "evalue": "No module named 'skater'",
     "output_type": "error",
     "traceback": [
      "\u001b[0;31m---------------------------------------------------------------------------\u001b[0m",
      "\u001b[0;31mModuleNotFoundError\u001b[0m                       Traceback (most recent call last)",
      "\u001b[0;32m<ipython-input-37-819de3089967>\u001b[0m in \u001b[0;36m<module>\u001b[0;34m\u001b[0m\n\u001b[1;32m      3\u001b[0m \u001b[0mwarnings\u001b[0m\u001b[0;34m.\u001b[0m\u001b[0mfilterwarnings\u001b[0m\u001b[0;34m(\u001b[0m\u001b[0;34m'ignore'\u001b[0m\u001b[0;34m)\u001b[0m\u001b[0;34m\u001b[0m\u001b[0;34m\u001b[0m\u001b[0m\n\u001b[1;32m      4\u001b[0m \u001b[0;32mimport\u001b[0m \u001b[0mmatplotlib\u001b[0m\u001b[0;34m.\u001b[0m\u001b[0mpyplot\u001b[0m \u001b[0;32mas\u001b[0m \u001b[0mplt\u001b[0m\u001b[0;34m\u001b[0m\u001b[0;34m\u001b[0m\u001b[0m\n\u001b[0;32m----> 5\u001b[0;31m \u001b[0;32mfrom\u001b[0m \u001b[0mskater\u001b[0m\u001b[0;34m.\u001b[0m\u001b[0mmodel\u001b[0m \u001b[0;32mimport\u001b[0m \u001b[0mInMemoryModel\u001b[0m\u001b[0;34m\u001b[0m\u001b[0;34m\u001b[0m\u001b[0m\n\u001b[0m\u001b[1;32m      6\u001b[0m \u001b[0;32mfrom\u001b[0m \u001b[0mskater\u001b[0m\u001b[0;34m.\u001b[0m\u001b[0mcore\u001b[0m\u001b[0;34m.\u001b[0m\u001b[0mexplanations\u001b[0m \u001b[0;32mimport\u001b[0m \u001b[0mInterpretation\u001b[0m\u001b[0;34m\u001b[0m\u001b[0;34m\u001b[0m\u001b[0m\n\u001b[1;32m      7\u001b[0m \u001b[0mtransfromed_x_test\u001b[0m \u001b[0;34m=\u001b[0m \u001b[0mvectorizer\u001b[0m\u001b[0;34m.\u001b[0m\u001b[0mtransform\u001b[0m\u001b[0;34m(\u001b[0m\u001b[0mclean_train\u001b[0m\u001b[0;34m)\u001b[0m\u001b[0;34m.\u001b[0m\u001b[0mtoarray\u001b[0m\u001b[0;34m(\u001b[0m\u001b[0;34m)\u001b[0m\u001b[0;34m\u001b[0m\u001b[0;34m\u001b[0m\u001b[0m\n",
      "\u001b[0;31mModuleNotFoundError\u001b[0m: No module named 'skater'"
     ]
    }
   ],
   "source": [
    "%matplotlib inline\n",
    "import warnings\n",
    "warnings.filterwarnings('ignore')\n",
    "import matplotlib.pyplot as plt\n",
    "from skater.model import InMemoryModel\n",
    "from skater.core.explanations import Interpretation\n",
    "transfromed_x_test = vectorizer.transform(clean_train).toarray()\n",
    "interpreter = Interpretation(transfromed_x_test, feature_names=vectorizer.get_feature_names())\n",
    "for pipeline in pipelines:\n",
    "    print('-' * 50)\n",
    "    #print('Estimator: %s' % (pipeline['name']))\n",
    "    \n",
    "    if pipeline['name'] in ['Logistic Regression', 'Random Forest']:\n",
    "        estimator = pipeline['pipeline'].steps[1][1]\n",
    "    else:\n",
    "        continue\n",
    "        \n",
    "    print(estimator)\n",
    "        \n",
    "    pyint_model = InMemoryModel(estimator.predict_proba, examples=transfromed_x_test)\n",
    "    \n",
    "    f, axes = plt.subplots(1, 1, figsize = (26, 18))\n",
    "    ax = axes\n",
    "    interpreter.feature_importance.plot_feature_importance(pyint_model, ascending=False, ax=ax)\n",
    "    plt.show()"
   ]
  },
  {
   "cell_type": "code",
   "execution_count": null,
   "metadata": {},
   "outputs": [],
   "source": []
  },
  {
   "cell_type": "code",
   "execution_count": null,
   "metadata": {},
   "outputs": [],
   "source": []
  }
 ],
 "metadata": {
  "kernelspec": {
   "display_name": "Python 3",
   "language": "python",
   "name": "python3"
  },
  "language_info": {
   "codemirror_mode": {
    "name": "ipython",
    "version": 3
   },
   "file_extension": ".py",
   "mimetype": "text/x-python",
   "name": "python",
   "nbconvert_exporter": "python",
   "pygments_lexer": "ipython3",
   "version": "3.8.5"
  }
 },
 "nbformat": 4,
 "nbformat_minor": 4
}
