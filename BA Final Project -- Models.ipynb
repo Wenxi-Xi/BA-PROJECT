{
 "cells": [
  {
   "cell_type": "code",
   "execution_count": 52,
   "metadata": {},
   "outputs": [],
   "source": [
    "import pandas as pd\n",
    "import numpy as np\n",
    "from sklearn.model_selection import train_test_split"
   ]
  },
  {
   "cell_type": "markdown",
   "metadata": {},
   "source": [
    "# Read In Data"
   ]
  },
  {
   "cell_type": "code",
   "execution_count": 53,
   "metadata": {},
   "outputs": [],
   "source": [
    "df_BA=pd.read_csv('BA')\n",
    "df_DS=pd.read_csv('DS')\n",
    "df_DA=pd.read_csv('DA')\n",
    "df_DE=pd.read_csv('DE')"
   ]
  },
  {
   "cell_type": "code",
   "execution_count": null,
   "metadata": {},
   "outputs": [],
   "source": []
  },
  {
   "cell_type": "markdown",
   "metadata": {},
   "source": [
    "# Sample and Split"
   ]
  },
  {
   "cell_type": "code",
   "execution_count": 54,
   "metadata": {},
   "outputs": [],
   "source": [
    "from sklearn.model_selection import train_test_split"
   ]
  },
  {
   "cell_type": "code",
   "execution_count": 55,
   "metadata": {},
   "outputs": [
    {
     "data": {
      "text/plain": [
       "(973, 3983, 1663, 1167)"
      ]
     },
     "execution_count": 55,
     "metadata": {},
     "output_type": "execute_result"
    }
   ],
   "source": [
    "len(df_DS),len(df_DA),len(df_BA),len(df_DE)"
   ]
  },
  {
   "cell_type": "code",
   "execution_count": 56,
   "metadata": {},
   "outputs": [],
   "source": [
    "df_DA=df_DA.sample(n=1000,replace=True)\n",
    "df_BA=df_BA.sample(n=1000,replace=True)"
   ]
  },
  {
   "cell_type": "code",
   "execution_count": 57,
   "metadata": {},
   "outputs": [
    {
     "data": {
      "text/plain": [
       "(973, 1000, 1000, 1167)"
      ]
     },
     "execution_count": 57,
     "metadata": {},
     "output_type": "execute_result"
    }
   ],
   "source": [
    "len(df_DS),len(df_DA),len(df_BA),len(df_DE)"
   ]
  },
  {
   "cell_type": "code",
   "execution_count": 58,
   "metadata": {},
   "outputs": [],
   "source": [
    "whole_list=[df_DA,df_DS,df_DE,df_BA]\n",
    "df_whole=pd.concat(whole_list)"
   ]
  },
  {
   "cell_type": "code",
   "execution_count": null,
   "metadata": {},
   "outputs": [],
   "source": []
  },
  {
   "cell_type": "markdown",
   "metadata": {},
   "source": [
    "# Models"
   ]
  },
  {
   "cell_type": "code",
   "execution_count": 59,
   "metadata": {},
   "outputs": [],
   "source": [
    "from sklearn.feature_extraction.text import CountVectorizer\n",
    "from sklearn.feature_extraction.text import TfidfTransformer\n",
    "from sklearn.metrics import classification_report,confusion_matrix\n",
    "from sklearn.tree import DecisionTreeClassifier\n",
    "from sklearn.model_selection import train_test_split"
   ]
  },
  {
   "cell_type": "code",
   "execution_count": 60,
   "metadata": {},
   "outputs": [],
   "source": [
    "def evaluate_model(df,best,rf=False):\n",
    "    df_train, df_test = train_test_split(df, test_size = 0.3)\n",
    "    clean_train=df_train[\"clean\"]\n",
    "    Y_train=df_train[\"JT\"]\n",
    "    clean_test=df_test[\"clean\"]\n",
    "    Y_test=df_test[\"JT\"]\n",
    "\n",
    "    vectorizer = CountVectorizer().fit(df[\"clean\"])\n",
    "    clean_bow= vectorizer.transform(df[\"clean\"])\n",
    "    train_bow = vectorizer.transform(clean_train)\n",
    "    test_bow = vectorizer.transform(clean_test)\n",
    "    parameter=vectorizer.get_feature_names()\n",
    "    \n",
    "    tfidf_transformer = TfidfTransformer().fit(clean_bow)\n",
    "    X_train = tfidf_transformer.transform(train_bow)\n",
    "    X_test = tfidf_transformer.transform(test_bow)\n",
    "    \n",
    "    best.fit(X_train, Y_train)\n",
    "    predictions1 = best.predict(X_test)\n",
    "    print(classification_report(Y_test,predictions1))\n",
    "    if rf:\n",
    "        importances =best.feature_importances_\n",
    "        forest_importances = pd.Series(importances,index=parameter)\n",
    "        forest_importances=forest_importances.sort_values(ascending=False)[0:10]\n",
    "        ax=forest_importances.plot.barh(x='lab', y='val')\n",
    "        ax.invert_yaxis()\n",
    "    "
   ]
  },
  {
   "cell_type": "code",
   "execution_count": 61,
   "metadata": {},
   "outputs": [],
   "source": [
    "def get_df_name(df):\n",
    "    name =[x for x in globals() if globals()[x] is df][0]\n",
    "    return name"
   ]
  },
  {
   "cell_type": "code",
   "execution_count": 62,
   "metadata": {},
   "outputs": [],
   "source": [
    "def encoding(name):\n",
    "    df = pd.DataFrame()\n",
    "    whole_list=[df_DA,df_DS,df_DE,df_BA]\n",
    "    for i in whole_list:\n",
    "        name1=get_df_name(i)\n",
    "        if name1.split(\"_\")[1]!=name:\n",
    "            i_copy=i.sample(n=340,replace=True)\n",
    "        else:\n",
    "            i_copy=i.copy()\n",
    "        df=pd.concat([df,i_copy],ignore_index=True)\n",
    "    df[\"NEWJT\"]= np.where(df[\"JT\"]==name,\"1\",\"0\")\n",
    "\n",
    "    df[\"JT\"]=df[\"NEWJT\"]\n",
    "    return df"
   ]
  },
  {
   "cell_type": "code",
   "execution_count": 63,
   "metadata": {},
   "outputs": [],
   "source": [
    "BA_model = encoding('BA')"
   ]
  },
  {
   "cell_type": "code",
   "execution_count": 64,
   "metadata": {},
   "outputs": [
    {
     "data": {
      "text/html": [
       "<div>\n",
       "<style scoped>\n",
       "    .dataframe tbody tr th:only-of-type {\n",
       "        vertical-align: middle;\n",
       "    }\n",
       "\n",
       "    .dataframe tbody tr th {\n",
       "        vertical-align: top;\n",
       "    }\n",
       "\n",
       "    .dataframe thead th {\n",
       "        text-align: right;\n",
       "    }\n",
       "</style>\n",
       "<table border=\"1\" class=\"dataframe\">\n",
       "  <thead>\n",
       "    <tr style=\"text-align: right;\">\n",
       "      <th></th>\n",
       "      <th>JT</th>\n",
       "      <th>JD</th>\n",
       "      <th>tool_list</th>\n",
       "      <th>skill_list</th>\n",
       "      <th>degree_list</th>\n",
       "      <th>clean</th>\n",
       "      <th>NEWJT</th>\n",
       "    </tr>\n",
       "  </thead>\n",
       "  <tbody>\n",
       "    <tr>\n",
       "      <th>0</th>\n",
       "      <td>0</td>\n",
       "      <td>Job Summary*\\n*\\nPrincipal Accountabilities*\\n...</td>\n",
       "      <td>['excel', 'cloud']</td>\n",
       "      <td>['data', 'analyz', 'account', 'research', 'nor...</td>\n",
       "      <td>1.0</td>\n",
       "      <td>['excel', 'cloud', 'data', 'analyz', 'account'...</td>\n",
       "      <td>0</td>\n",
       "    </tr>\n",
       "    <tr>\n",
       "      <th>1</th>\n",
       "      <td>0</td>\n",
       "      <td>Requisition Number:\\n64524\\nFacility:\\nLOC0001...</td>\n",
       "      <td>['powerpoint', 'microsoft']</td>\n",
       "      <td>['data', 'analyz', 'graph', 'research', 'stati...</td>\n",
       "      <td>2.0</td>\n",
       "      <td>['powerpoint', 'microsoft', 'data', 'analyz', ...</td>\n",
       "      <td>0</td>\n",
       "    </tr>\n",
       "    <tr>\n",
       "      <th>2</th>\n",
       "      <td>0</td>\n",
       "      <td>Advanced knowledge of technical environments (...</td>\n",
       "      <td>['excel', 'jira', 'git']</td>\n",
       "      <td>['recommend', 'research', 'commun', 'busi']</td>\n",
       "      <td>999.0</td>\n",
       "      <td>['excel', 'jira', 'git', 'recommend', 'researc...</td>\n",
       "      <td>0</td>\n",
       "    </tr>\n",
       "    <tr>\n",
       "      <th>3</th>\n",
       "      <td>0</td>\n",
       "      <td>The Data Analyst is primarily responsible for ...</td>\n",
       "      <td>['excel', 'sql', 'python']</td>\n",
       "      <td>['recommend', 'data', 'busi']</td>\n",
       "      <td>1.0</td>\n",
       "      <td>['excel', 'sql', 'python', 'recommend', 'data'...</td>\n",
       "      <td>0</td>\n",
       "    </tr>\n",
       "    <tr>\n",
       "      <th>4</th>\n",
       "      <td>0</td>\n",
       "      <td>The Data Architect/Data Analyst is responsible...</td>\n",
       "      <td>['excel', 'sql', 'tableau', 'c', 'sa']</td>\n",
       "      <td>['statist', 'data', 'busi']</td>\n",
       "      <td>999.0</td>\n",
       "      <td>['excel', 'sql', 'tableau', 'c', 'sa', 'statis...</td>\n",
       "      <td>0</td>\n",
       "    </tr>\n",
       "    <tr>\n",
       "      <th>...</th>\n",
       "      <td>...</td>\n",
       "      <td>...</td>\n",
       "      <td>...</td>\n",
       "      <td>...</td>\n",
       "      <td>...</td>\n",
       "      <td>...</td>\n",
       "      <td>...</td>\n",
       "    </tr>\n",
       "    <tr>\n",
       "      <th>2015</th>\n",
       "      <td>1</td>\n",
       "      <td>My client in Philadelphia, PA is looking for a...</td>\n",
       "      <td>['excel']</td>\n",
       "      <td>['commun', 'busi', 'visual']</td>\n",
       "      <td>1.0</td>\n",
       "      <td>['excel', 'commun', 'busi', 'visual']</td>\n",
       "      <td>1</td>\n",
       "    </tr>\n",
       "    <tr>\n",
       "      <th>2016</th>\n",
       "      <td>1</td>\n",
       "      <td>About the Role:\\nThis role will manage activit...</td>\n",
       "      <td>['excel', 'sql']</td>\n",
       "      <td>['commun', 'data', 'busi']</td>\n",
       "      <td>1.0</td>\n",
       "      <td>['excel', 'sql', 'commun', 'data', 'busi']</td>\n",
       "      <td>1</td>\n",
       "    </tr>\n",
       "    <tr>\n",
       "      <th>2017</th>\n",
       "      <td>1</td>\n",
       "      <td>Title: Business Analyst- Rhapsody\\nDuration: 6...</td>\n",
       "      <td>['ms office', 'sql', 'java']</td>\n",
       "      <td>['etl', 'data', 'analyz', 'busi']</td>\n",
       "      <td>999.0</td>\n",
       "      <td>['microsoft', 'sql', 'java', 'etl', 'data', 'a...</td>\n",
       "      <td>1</td>\n",
       "    </tr>\n",
       "    <tr>\n",
       "      <th>2018</th>\n",
       "      <td>1</td>\n",
       "      <td>--------\\nBrowse other high-impact jobs at wit...</td>\n",
       "      <td>['python', 'google cloud', 'aw', 'sql', 'cloud...</td>\n",
       "      <td>['regress', 'data', 'research', 'busi', 'commun']</td>\n",
       "      <td>1.0</td>\n",
       "      <td>['python', 'google cloud', 'aw', 'sql', 'cloud...</td>\n",
       "      <td>1</td>\n",
       "    </tr>\n",
       "    <tr>\n",
       "      <th>2019</th>\n",
       "      <td>1</td>\n",
       "      <td>Functional Area:\\nOP - Operations\\nEstimated T...</td>\n",
       "      <td>['powerpoint', 'ms office', 'jira']</td>\n",
       "      <td>['risk', 'sequenc', 'data', 'analyz', 'problem...</td>\n",
       "      <td>1.0</td>\n",
       "      <td>['powerpoint', 'microsoft', 'jira', 'risk', 's...</td>\n",
       "      <td>1</td>\n",
       "    </tr>\n",
       "  </tbody>\n",
       "</table>\n",
       "<p>2020 rows × 7 columns</p>\n",
       "</div>"
      ],
      "text/plain": [
       "     JT                                                 JD  \\\n",
       "0     0  Job Summary*\\n*\\nPrincipal Accountabilities*\\n...   \n",
       "1     0  Requisition Number:\\n64524\\nFacility:\\nLOC0001...   \n",
       "2     0  Advanced knowledge of technical environments (...   \n",
       "3     0  The Data Analyst is primarily responsible for ...   \n",
       "4     0  The Data Architect/Data Analyst is responsible...   \n",
       "...  ..                                                ...   \n",
       "2015  1  My client in Philadelphia, PA is looking for a...   \n",
       "2016  1  About the Role:\\nThis role will manage activit...   \n",
       "2017  1  Title: Business Analyst- Rhapsody\\nDuration: 6...   \n",
       "2018  1  --------\\nBrowse other high-impact jobs at wit...   \n",
       "2019  1  Functional Area:\\nOP - Operations\\nEstimated T...   \n",
       "\n",
       "                                              tool_list  \\\n",
       "0                                    ['excel', 'cloud']   \n",
       "1                           ['powerpoint', 'microsoft']   \n",
       "2                              ['excel', 'jira', 'git']   \n",
       "3                            ['excel', 'sql', 'python']   \n",
       "4                ['excel', 'sql', 'tableau', 'c', 'sa']   \n",
       "...                                                 ...   \n",
       "2015                                          ['excel']   \n",
       "2016                                   ['excel', 'sql']   \n",
       "2017                       ['ms office', 'sql', 'java']   \n",
       "2018  ['python', 'google cloud', 'aw', 'sql', 'cloud...   \n",
       "2019                ['powerpoint', 'ms office', 'jira']   \n",
       "\n",
       "                                             skill_list  degree_list  \\\n",
       "0     ['data', 'analyz', 'account', 'research', 'nor...          1.0   \n",
       "1     ['data', 'analyz', 'graph', 'research', 'stati...          2.0   \n",
       "2           ['recommend', 'research', 'commun', 'busi']        999.0   \n",
       "3                         ['recommend', 'data', 'busi']          1.0   \n",
       "4                           ['statist', 'data', 'busi']        999.0   \n",
       "...                                                 ...          ...   \n",
       "2015                       ['commun', 'busi', 'visual']          1.0   \n",
       "2016                         ['commun', 'data', 'busi']          1.0   \n",
       "2017                  ['etl', 'data', 'analyz', 'busi']        999.0   \n",
       "2018  ['regress', 'data', 'research', 'busi', 'commun']          1.0   \n",
       "2019  ['risk', 'sequenc', 'data', 'analyz', 'problem...          1.0   \n",
       "\n",
       "                                                  clean NEWJT  \n",
       "0     ['excel', 'cloud', 'data', 'analyz', 'account'...     0  \n",
       "1     ['powerpoint', 'microsoft', 'data', 'analyz', ...     0  \n",
       "2     ['excel', 'jira', 'git', 'recommend', 'researc...     0  \n",
       "3     ['excel', 'sql', 'python', 'recommend', 'data'...     0  \n",
       "4     ['excel', 'sql', 'tableau', 'c', 'sa', 'statis...     0  \n",
       "...                                                 ...   ...  \n",
       "2015              ['excel', 'commun', 'busi', 'visual']     1  \n",
       "2016         ['excel', 'sql', 'commun', 'data', 'busi']     1  \n",
       "2017  ['microsoft', 'sql', 'java', 'etl', 'data', 'a...     1  \n",
       "2018  ['python', 'google cloud', 'aw', 'sql', 'cloud...     1  \n",
       "2019  ['powerpoint', 'microsoft', 'jira', 'risk', 's...     1  \n",
       "\n",
       "[2020 rows x 7 columns]"
      ]
     },
     "execution_count": 64,
     "metadata": {},
     "output_type": "execute_result"
    }
   ],
   "source": [
    "BA_model"
   ]
  },
  {
   "cell_type": "code",
   "execution_count": 67,
   "metadata": {},
   "outputs": [
    {
     "data": {
      "text/plain": [
       "count     2020\n",
       "unique       2\n",
       "top          0\n",
       "freq      1020\n",
       "Name: JT, dtype: object"
      ]
     },
     "execution_count": 67,
     "metadata": {},
     "output_type": "execute_result"
    }
   ],
   "source": [
    "BA_model['JT'].describe()"
   ]
  },
  {
   "cell_type": "markdown",
   "metadata": {},
   "source": [
    "## Decision Tree"
   ]
  },
  {
   "cell_type": "code",
   "execution_count": 68,
   "metadata": {},
   "outputs": [
    {
     "name": "stdout",
     "output_type": "stream",
     "text": [
      "              precision    recall  f1-score   support\n",
      "\n",
      "          BA       0.72      0.77      0.74       285\n",
      "          DA       0.65      0.64      0.64       291\n",
      "          DE       0.78      0.80      0.79       355\n",
      "          DS       0.83      0.77      0.80       311\n",
      "\n",
      "    accuracy                           0.75      1242\n",
      "   macro avg       0.74      0.74      0.74      1242\n",
      "weighted avg       0.75      0.75      0.75      1242\n",
      "\n"
     ]
    },
    {
     "data": {
      "image/png": "[encoded data removed]",
      "text/plain": [
       "<Figure size 432x288 with 1 Axes>"
      ]
     },
     "metadata": {
      "needs_background": "light"
     },
     "output_type": "display_data"
    }
   ],
   "source": [
    "dtree = DecisionTreeClassifier()\n",
    "evaluate_model(df_whole,dtree,rf=True)"
   ]
  },
  {
   "cell_type": "markdown",
   "metadata": {},
   "source": [
    "## Random Forest"
   ]
  },
  {
   "cell_type": "code",
   "execution_count": 70,
   "metadata": {},
   "outputs": [
    {
     "name": "stdout",
     "output_type": "stream",
     "text": [
      "              precision    recall  f1-score   support\n",
      "\n",
      "          BA       0.75      0.86      0.81       296\n",
      "          DA       0.68      0.64      0.66       300\n",
      "          DE       0.85      0.84      0.85       355\n",
      "          DS       0.85      0.79      0.82       291\n",
      "\n",
      "    accuracy                           0.79      1242\n",
      "   macro avg       0.78      0.78      0.78      1242\n",
      "weighted avg       0.79      0.79      0.79      1242\n",
      "\n"
     ]
    },
    {
     "data": {
      "image/png": "[encoded data removed]",
      "text/plain": [
       "<Figure size 432x288 with 1 Axes>"
      ]
     },
     "metadata": {
      "needs_background": "light"
     },
     "output_type": "display_data"
    }
   ],
   "source": [
    "from sklearn.ensemble import RandomForestClassifier\n",
    "rf = RandomForestClassifier(n_estimators=10)\n",
    "evaluate_model(df_whole,rf,rf=True)"
   ]
  },
  {
   "cell_type": "code",
   "execution_count": 71,
   "metadata": {},
   "outputs": [],
   "source": [
    "# from sklearn.model_selection import GridSearchCV\n",
    "# parameters = {\n",
    "#      'n_estimators':(10, 50,100,150,200), #the number of trees\n",
    "#      'max_depth':(5,10,20,30,50,80),\n",
    "#      'min_samples_split': (2, 4, 8),\n",
    "#      'min_samples_leaf': (4,8,12,16)\n",
    "# }\n",
    "\n",
    "# model = GridSearchCV(RandomForestClassifier(),parameters,cv=3,iid=False)\n",
    "# model.fit(X_train, Y_train)\n",
    "# model.best_score_, model.best_params_"
   ]
  },
  {
   "cell_type": "code",
   "execution_count": 72,
   "metadata": {},
   "outputs": [],
   "source": [
    "b_model = RandomForestClassifier(max_depth=20,min_samples_leaf=4,min_samples_split=8,n_estimators=200)"
   ]
  },
  {
   "cell_type": "code",
   "execution_count": 73,
   "metadata": {},
   "outputs": [
    {
     "name": "stdout",
     "output_type": "stream",
     "text": [
      "              precision    recall  f1-score   support\n",
      "\n",
      "          BA       0.75      0.88      0.81       286\n",
      "          DA       0.70      0.67      0.68       296\n",
      "          DE       0.86      0.83      0.84       355\n",
      "          DS       0.84      0.79      0.81       305\n",
      "\n",
      "    accuracy                           0.79      1242\n",
      "   macro avg       0.79      0.79      0.79      1242\n",
      "weighted avg       0.79      0.79      0.79      1242\n",
      "\n"
     ]
    },
    {
     "data": {
      "image/png": "[encoded data removed]",
      "text/plain": [
       "<Figure size 432x288 with 1 Axes>"
      ]
     },
     "metadata": {
      "needs_background": "light"
     },
     "output_type": "display_data"
    }
   ],
   "source": [
    "evaluate_model(df_whole,b_model,rf=True)"
   ]
  },
  {
   "cell_type": "code",
   "execution_count": 74,
   "metadata": {},
   "outputs": [],
   "source": [
    "BA_model = encoding('BA')\n",
    "DE_model = encoding('DE')\n",
    "DS_model = encoding('DS')\n",
    "DA_model = encoding('DA')"
   ]
  },
  {
   "cell_type": "code",
   "execution_count": 75,
   "metadata": {},
   "outputs": [],
   "source": [
    "rf = RandomForestClassifier(n_estimators=10)"
   ]
  },
  {
   "cell_type": "code",
   "execution_count": 76,
   "metadata": {},
   "outputs": [
    {
     "name": "stdout",
     "output_type": "stream",
     "text": [
      "              precision    recall  f1-score   support\n",
      "\n",
      "           0       0.93      0.92      0.92       318\n",
      "           1       0.91      0.92      0.92       288\n",
      "\n",
      "    accuracy                           0.92       606\n",
      "   macro avg       0.92      0.92      0.92       606\n",
      "weighted avg       0.92      0.92      0.92       606\n",
      "\n"
     ]
    },
    {
     "data": {
      "image/png": "[encoded data removed]",
      "text/plain": [
       "<Figure size 432x288 with 1 Axes>"
      ]
     },
     "metadata": {
      "needs_background": "light"
     },
     "output_type": "display_data"
    }
   ],
   "source": [
    "evaluate_model(BA_model,rf,rf=True)"
   ]
  },
  {
   "cell_type": "code",
   "execution_count": 77,
   "metadata": {},
   "outputs": [
    {
     "name": "stdout",
     "output_type": "stream",
     "text": [
      "              precision    recall  f1-score   support\n",
      "\n",
      "           0       0.82      0.83      0.83       312\n",
      "           1       0.82      0.81      0.82       294\n",
      "\n",
      "    accuracy                           0.82       606\n",
      "   macro avg       0.82      0.82      0.82       606\n",
      "weighted avg       0.82      0.82      0.82       606\n",
      "\n"
     ]
    },
    {
     "data": {
      "image/png": "[encoded data removed]",
      "text/plain": [
       "<Figure size 432x288 with 1 Axes>"
      ]
     },
     "metadata": {
      "needs_background": "light"
     },
     "output_type": "display_data"
    }
   ],
   "source": [
    "evaluate_model(DA_model,rf,rf=True)"
   ]
  },
  {
   "cell_type": "code",
   "execution_count": 78,
   "metadata": {},
   "outputs": [
    {
     "name": "stdout",
     "output_type": "stream",
     "text": [
      "              precision    recall  f1-score   support\n",
      "\n",
      "           0       0.87      0.89      0.88       321\n",
      "           1       0.87      0.85      0.86       277\n",
      "\n",
      "    accuracy                           0.87       598\n",
      "   macro avg       0.87      0.87      0.87       598\n",
      "weighted avg       0.87      0.87      0.87       598\n",
      "\n"
     ]
    },
    {
     "data": {
      "image/png": "[encoded data removed]",
      "text/plain": [
       "<Figure size 432x288 with 1 Axes>"
      ]
     },
     "metadata": {
      "needs_background": "light"
     },
     "output_type": "display_data"
    }
   ],
   "source": [
    "evaluate_model(DS_model,rf,rf=True)"
   ]
  },
  {
   "cell_type": "code",
   "execution_count": 79,
   "metadata": {},
   "outputs": [
    {
     "name": "stdout",
     "output_type": "stream",
     "text": [
      "              precision    recall  f1-score   support\n",
      "\n",
      "           0       0.88      0.90      0.89       289\n",
      "           1       0.92      0.90      0.91       368\n",
      "\n",
      "    accuracy                           0.90       657\n",
      "   macro avg       0.90      0.90      0.90       657\n",
      "weighted avg       0.90      0.90      0.90       657\n",
      "\n"
     ]
    },
    {
     "data": {
      "image/png": "[encoded data removed]",
      "text/plain": [
       "<Figure size 432x288 with 1 Axes>"
      ]
     },
     "metadata": {
      "needs_background": "light"
     },
     "output_type": "display_data"
    }
   ],
   "source": [
    "evaluate_model(DE_model,rf,rf=True)"
   ]
  },
  {
   "cell_type": "markdown",
   "metadata": {},
   "source": [
    "## Bagging"
   ]
  },
  {
   "cell_type": "code",
   "execution_count": 80,
   "metadata": {},
   "outputs": [],
   "source": [
    "from sklearn.ensemble import BaggingClassifier\n",
    "# parameters = {\n",
    "#      'n_estimators':(30, 50,80), #the number of trees\n",
    "#      'max_samples':(20,40,60,80,100,120,150,200),\n",
    "#      'max_features':(20,40,60,80,100,120,150,200),\n",
    "     \n",
    "# }\n",
    "\n",
    "# model = GridSearchCV(BaggingClassifier(),parameters,cv=3,iid=False)\n",
    "# model.fit(X_train, Y_train)\n",
    "# model.best_score_, model.best_params_"
   ]
  },
  {
   "cell_type": "code",
   "execution_count": 86,
   "metadata": {},
   "outputs": [
    {
     "name": "stdout",
     "output_type": "stream",
     "text": [
      "              precision    recall  f1-score   support\n",
      "\n",
      "          BA       0.68      0.89      0.77       273\n",
      "          DA       0.72      0.62      0.67       317\n",
      "          DE       0.86      0.80      0.83       352\n",
      "          DS       0.82      0.77      0.80       300\n",
      "\n",
      "    accuracy                           0.77      1242\n",
      "   macro avg       0.77      0.77      0.77      1242\n",
      "weighted avg       0.78      0.77      0.77      1242\n",
      "\n"
     ]
    }
   ],
   "source": [
    "bg_model=BaggingClassifier(max_features=120,max_samples=200,n_estimators=80)\n",
    "evaluate_model(df_whole,bg_model)"
   ]
  },
  {
   "cell_type": "code",
   "execution_count": 87,
   "metadata": {},
   "outputs": [],
   "source": [
    "bg=BaggingClassifier()"
   ]
  },
  {
   "cell_type": "code",
   "execution_count": 88,
   "metadata": {},
   "outputs": [
    {
     "name": "stdout",
     "output_type": "stream",
     "text": [
      "              precision    recall  f1-score   support\n",
      "\n",
      "           0       0.91      0.90      0.90       322\n",
      "           1       0.89      0.90      0.89       284\n",
      "\n",
      "    accuracy                           0.90       606\n",
      "   macro avg       0.90      0.90      0.90       606\n",
      "weighted avg       0.90      0.90      0.90       606\n",
      "\n"
     ]
    }
   ],
   "source": [
    "evaluate_model(BA_model,bg)"
   ]
  },
  {
   "cell_type": "code",
   "execution_count": 89,
   "metadata": {},
   "outputs": [
    {
     "name": "stdout",
     "output_type": "stream",
     "text": [
      "              precision    recall  f1-score   support\n",
      "\n",
      "           0       0.76      0.86      0.80       294\n",
      "           1       0.85      0.74      0.79       312\n",
      "\n",
      "    accuracy                           0.80       606\n",
      "   macro avg       0.80      0.80      0.80       606\n",
      "weighted avg       0.80      0.80      0.80       606\n",
      "\n"
     ]
    }
   ],
   "source": [
    "evaluate_model(DA_model,bg)"
   ]
  },
  {
   "cell_type": "code",
   "execution_count": null,
   "metadata": {},
   "outputs": [],
   "source": []
  },
  {
   "cell_type": "code",
   "execution_count": null,
   "metadata": {},
   "outputs": [],
   "source": []
  }
 ],
 "metadata": {
  "kernelspec": {
   "display_name": "Python 3",
   "language": "python",
   "name": "python3"
  },
  "language_info": {
   "codemirror_mode": {
    "name": "ipython",
    "version": 3
   },
   "file_extension": ".py",
   "mimetype": "text/x-python",
   "name": "python",
   "nbconvert_exporter": "python",
   "pygments_lexer": "ipython3",
   "version": "3.8.5"
  }
 },
 "nbformat": 4,
 "nbformat_minor": 4
}
