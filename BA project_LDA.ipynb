{
 "cells": [
  {
   "cell_type": "code",
   "execution_count": 1,
   "metadata": {},
   "outputs": [],
   "source": [
    "import pandas as pd\n",
    "import numpy as np\n",
    "# do the LDA\n",
    "from gensim import corpora\n",
    "from gensim.models.ldamodel import LdaModel\n",
    "from gensim.parsing.preprocessing import STOPWORDS\n",
    "import pprint\n",
    "import nltk\n",
    "from nltk import sent_tokenize,word_tokenize "
   ]
  },
  {
   "cell_type": "code",
   "execution_count": 2,
   "metadata": {},
   "outputs": [],
   "source": [
    "df_BA=pd.read_csv('BA')\n",
    "df_DS=pd.read_csv('DS')\n",
    "df_DA=pd.read_csv('DA')\n",
    "df_DE=pd.read_csv('DE')"
   ]
  },
  {
   "cell_type": "code",
   "execution_count": 3,
   "metadata": {},
   "outputs": [],
   "source": [
    "my_stop_words = STOPWORDS.union(set(['experience', 'work','requirements','ability','years','analyst',\n",
    "                                     'required','including','best','new','applicants','jobs','candidate',\n",
    "                                     'help','regard','qualified','employment','consideration','applications',\n",
    "                                     'position','able','application','role'\n",
    "                                    ]))"
   ]
  },
  {
   "cell_type": "markdown",
   "metadata": {},
   "source": [
    "# LDA Model"
   ]
  },
  {
   "cell_type": "code",
   "execution_count": 4,
   "metadata": {},
   "outputs": [],
   "source": [
    "def get_df_name(df):\n",
    "    name =[x for x in globals() if globals()[x] is df][0]\n",
    "    return name\n",
    "\n",
    "def lda(df,num_topics = 3,passes = 30,num_words=8):\n",
    "    l1=[]\n",
    "    for i in df.index:\n",
    "        sents=df.loc[i]['JD']\n",
    "        l1.append(sents.replace('\\n',''))\n",
    "    \n",
    "    texts = [[word for word in story.lower().split()\n",
    "            if word not in my_stop_words and word.isalnum()]\n",
    "            for story in l1]\n",
    "    dictionary = corpora.Dictionary(texts) #(word_id,word) pairs\n",
    "    dictionary.filter_extremes(no_below=20,no_above=0.2, keep_n= 100000)\n",
    "    corpus = [dictionary.doc2bow(text) for text in texts]\n",
    "    \n",
    "    \n",
    "    lda = LdaModel(corpus,\n",
    "              id2word=dictionary,\n",
    "              num_topics=num_topics,\n",
    "              passes=passes)\n",
    "    pp = pprint.PrettyPrinter(indent=4)\n",
    "    pp.pprint(lda.print_topics(num_words))\n",
    "    \n",
    "    return lda"
   ]
  },
  {
   "cell_type": "code",
   "execution_count": 5,
   "metadata": {},
   "outputs": [
    {
     "name": "stdout",
     "output_type": "stream",
     "text": [
      "[   (   0,\n",
      "        '0.007*\"client\" + 0.006*\"able\" + 0.006*\"agile\" + 0.006*\"financial\" + '\n",
      "        '0.005*\"verbal\" + 0.005*\"training\" + 0.005*\"solution\" + '\n",
      "        '0.005*\"industry\" + 0.005*\"users\" + 0.005*\"office\"'),\n",
      "    (   1,\n",
      "        '0.016*\"sap\" + 0.009*\"high\" + 0.008*\"monitoring\" + 0.008*\"areas\" + '\n",
      "        '0.007*\"improvement\" + 0.007*\"review\" + 0.007*\"risk\" + 0.007*\"change\" '\n",
      "        '+ 0.007*\"time\" + 0.007*\"problems\"'),\n",
      "    (   2,\n",
      "        '0.008*\"reports\" + 0.008*\"microsoft\" + 0.007*\"reporting\" + '\n",
      "        '0.007*\"duties\" + 0.006*\"assigned\" + 0.006*\"ms\" + 0.006*\"issues\" + '\n",
      "        '0.006*\"salesforce\" + 0.005*\"operational\" + 0.005*\"services\"')]\n"
     ]
    },
    {
     "data": {
      "text/plain": [
       "[('client', 0.007322344),\n",
       " ('able', 0.006169489),\n",
       " ('agile', 0.0061636427),\n",
       " ('financial', 0.0055259336),\n",
       " ('verbal', 0.0051059197),\n",
       " ('training', 0.005047989),\n",
       " ('solution', 0.0050025703),\n",
       " ('industry', 0.004857691),\n",
       " ('users', 0.0048178737),\n",
       " ('office', 0.0047422876)]"
      ]
     },
     "execution_count": 5,
     "metadata": {},
     "output_type": "execute_result"
    }
   ],
   "source": [
    "lda(df_BA).show_topic(0)"
   ]
  },
  {
   "cell_type": "code",
   "execution_count": 6,
   "metadata": {},
   "outputs": [
    {
     "name": "stdout",
     "output_type": "stream",
     "text": [
      "[   (   0,\n",
      "        '0.007*\"research\" + 0.006*\"financial\" + 0.006*\"health\" + '\n",
      "        '0.005*\"office\" + 0.005*\"duties\" + 0.005*\"software\" + 0.005*\"perform\" '\n",
      "        '+ 0.005*\"job\" + 0.005*\"healthcare\" + 0.005*\"program\"'),\n",
      "    (   1,\n",
      "        '0.039*\"interpret\" + 0.035*\"packages\" + 0.023*\"patterns\" + '\n",
      "        '0.022*\"efficiency\" + 0.021*\"trends\" + 0.021*\"collection\" + '\n",
      "        '0.021*\"datasets\" + 0.021*\"programming\" + 0.021*\"implement\" + '\n",
      "        '0.021*\"code\"'),\n",
      "    (   2,\n",
      "        '0.007*\"insights\" + 0.007*\"product\" + 0.006*\"solutions\" + '\n",
      "        '0.006*\"marketing\" + 0.006*\"visualization\" + 0.006*\"role\" + '\n",
      "        '0.005*\"customer\" + 0.005*\"drive\" + 0.005*\"understand\" + '\n",
      "        '0.005*\"advanced\"')]\n"
     ]
    },
    {
     "data": {
      "text/plain": [
       "[('research', 0.006701625),\n",
       " ('financial', 0.0060773734),\n",
       " ('health', 0.0057612094),\n",
       " ('office', 0.0050414796),\n",
       " ('duties', 0.005034944),\n",
       " ('software', 0.004999746),\n",
       " ('perform', 0.0049505252),\n",
       " ('job', 0.004786722),\n",
       " ('healthcare', 0.0046979417),\n",
       " ('program', 0.0045955554)]"
      ]
     },
     "execution_count": 6,
     "metadata": {},
     "output_type": "execute_result"
    }
   ],
   "source": [
    "lda(df_DA).show_topic(0)"
   ]
  },
  {
   "cell_type": "code",
   "execution_count": 7,
   "metadata": {},
   "outputs": [
    {
     "name": "stdout",
     "output_type": "stream",
     "text": [
      "[   (   0,\n",
      "        '0.020*\"ml\" + 0.014*\"analytic\" + 0.013*\"professional\" + '\n",
      "        '0.011*\"clinical\" + 0.009*\"healthcare\" + 0.008*\"hours\" + '\n",
      "        '0.008*\"health\" + 0.008*\"services\" + 0.008*\"deliver\" + '\n",
      "        '0.007*\"writing\"'),\n",
      "    (   1,\n",
      "        '0.047*\"quantum\" + 0.016*\"application\" + 0.013*\"qiskit\" + '\n",
      "        '0.012*\"computers\" + 0.012*\"employee\" + 0.011*\"flexible\" + '\n",
      "        '0.011*\"linear\" + 0.011*\"diverse\" + 0.011*\"career\" + 0.011*\"looking\"'),\n",
      "    (   2,\n",
      "        '0.005*\"applied\" + 0.005*\"provide\" + 0.005*\"decision\" + '\n",
      "        '0.005*\"internal\" + 0.005*\"performance\" + 0.005*\"sets\" + '\n",
      "        '0.005*\"identify\" + 0.005*\"based\" + 0.004*\"cloud\" + 0.004*\"analyze\"')]\n"
     ]
    },
    {
     "data": {
      "text/plain": [
       "[('ml', 0.019926121),\n",
       " ('analytic', 0.013514839),\n",
       " ('professional', 0.012630859),\n",
       " ('clinical', 0.011359002),\n",
       " ('healthcare', 0.009352398),\n",
       " ('hours', 0.008444445),\n",
       " ('health', 0.008096305),\n",
       " ('services', 0.007961692),\n",
       " ('deliver', 0.00771099),\n",
       " ('writing', 0.007326064)]"
      ]
     },
     "execution_count": 7,
     "metadata": {},
     "output_type": "execute_result"
    }
   ],
   "source": [
    "lda(df_DS).show_topic(0)"
   ]
  },
  {
   "cell_type": "code",
   "execution_count": 8,
   "metadata": {},
   "outputs": [
    {
     "name": "stdout",
     "output_type": "stream",
     "text": [
      "[   (   0,\n",
      "        '0.018*\"azure\" + 0.014*\"spark\" + 0.012*\"pipeline\" + '\n",
      "        '0.011*\"infrastructure\" + 0.010*\"processes\" + 0.010*\"apache\" + '\n",
      "        '0.009*\"variety\" + 0.009*\"nosql\" + 0.008*\"optimizing\" + '\n",
      "        '0.008*\"internal\"'),\n",
      "    (   1,\n",
      "        '0.007*\"project\" + 0.006*\"models\" + 0.006*\"learning\" + 0.006*\"agile\" + '\n",
      "        '0.006*\"streaming\" + 0.006*\"code\" + 0.006*\"customer\" + 0.006*\"able\" + '\n",
      "        '0.006*\"developing\" + 0.005*\"projects\"'),\n",
      "    (   2,\n",
      "        '0.008*\"use\" + 0.007*\"processes\" + 0.007*\"integration\" + '\n",
      "        '0.006*\"protected\" + 0.006*\"provide\" + 0.006*\"environment\" + '\n",
      "        '0.006*\"opportunity\" + 0.006*\"national\" + 0.006*\"production\" + '\n",
      "        '0.006*\"security\"')]\n"
     ]
    },
    {
     "data": {
      "text/plain": [
       "[('azure', 0.018425904),\n",
       " ('spark', 0.014158488),\n",
       " ('pipeline', 0.011764156),\n",
       " ('infrastructure', 0.010547885),\n",
       " ('processes', 0.010135129),\n",
       " ('apache', 0.009501849),\n",
       " ('variety', 0.009330016),\n",
       " ('nosql', 0.008586794),\n",
       " ('optimizing', 0.008498363),\n",
       " ('internal', 0.0084456755)]"
      ]
     },
     "execution_count": 8,
     "metadata": {},
     "output_type": "execute_result"
    }
   ],
   "source": [
    "lda(df_DE).show_topic(0)"
   ]
  },
  {
   "cell_type": "code",
   "execution_count": null,
   "metadata": {},
   "outputs": [],
   "source": []
  },
  {
   "cell_type": "markdown",
   "metadata": {},
   "source": [
    "# LDA Ver2"
   ]
  },
  {
   "cell_type": "code",
   "execution_count": 9,
   "metadata": {},
   "outputs": [],
   "source": [
    "df_BA=pd.read_csv('BA')"
   ]
  },
  {
   "cell_type": "code",
   "execution_count": 10,
   "metadata": {},
   "outputs": [],
   "source": [
    "l1=[]\n",
    "for i in df_BA.index:\n",
    "    sents=df_BA.loc[i]['JD']\n",
    "    l1.append(sents.replace('\\n',''))\n",
    "    \n",
    "texts = [[word for word in story.lower().split()\n",
    "            if word not in STOPWORDS and word.isalnum()]\n",
    "            for story in l1]\n",
    "dictionary = corpora.Dictionary(texts)\n",
    "dictionary.filter_extremes(no_below=20,no_above=0.2, keep_n= 100000)\n",
    "corpus = [dictionary.doc2bow(text) for text in texts]"
   ]
  },
  {
   "cell_type": "code",
   "execution_count": 11,
   "metadata": {},
   "outputs": [
    {
     "name": "stdout",
     "output_type": "stream",
     "text": [
      "[   (   0,\n",
      "        '0.012*\"required\" + 0.006*\"health\" + 0.006*\"sap\" + 0.006*\"services\" + '\n",
      "        '0.005*\"reporting\" + 0.005*\"developing\" + 0.005*\"duties\" + '\n",
      "        '0.005*\"employment\" + 0.005*\"based\" + 0.005*\"able\"'),\n",
      "    (   1,\n",
      "        '0.011*\"client\" + 0.008*\"financial\" + 0.007*\"time\" + '\n",
      "        '0.007*\"improvement\" + 0.007*\"high\" + 0.006*\"change\" + 0.006*\"level\" + '\n",
      "        '0.006*\"environment\" + 0.006*\"problems\" + 0.005*\"ms\"'),\n",
      "    (   2,\n",
      "        '0.006*\"agile\" + 0.006*\"drive\" + 0.005*\"verbal\" + 0.005*\"excellent\" + '\n",
      "        '0.005*\"users\" + 0.005*\"microsoft\" + 0.005*\"sales\" + 0.005*\"training\" '\n",
      "        '+ 0.005*\"reporting\" + 0.005*\"candidate\"')]\n"
     ]
    }
   ],
   "source": [
    "lda = LdaModel(corpus,\n",
    "              id2word=dictionary,\n",
    "              num_topics=3,\n",
    "              passes=10)\n",
    "pp = pprint.PrettyPrinter(indent=4)\n",
    "pp.pprint(lda.print_topics(8))"
   ]
  },
  {
   "cell_type": "code",
   "execution_count": null,
   "metadata": {},
   "outputs": [],
   "source": []
  },
  {
   "cell_type": "code",
   "execution_count": 12,
   "metadata": {},
   "outputs": [
    {
     "ename": "OSError",
     "evalue": "[E050] Can't find model 'en_core_web_sm'. It doesn't seem to be a Python package or a valid path to a data directory.",
     "output_type": "error",
     "traceback": [
      "\u001b[0;31m---------------------------------------------------------------------------\u001b[0m",
      "\u001b[0;31mOSError\u001b[0m                                   Traceback (most recent call last)",
      "\u001b[0;32m<ipython-input-12-44cc11682853>\u001b[0m in \u001b[0;36m<module>\u001b[0;34m\u001b[0m\n\u001b[1;32m      1\u001b[0m \u001b[0;32mimport\u001b[0m \u001b[0mspacy\u001b[0m\u001b[0;34m\u001b[0m\u001b[0;34m\u001b[0m\u001b[0m\n\u001b[0;32m----> 2\u001b[0;31m \u001b[0mnlp\u001b[0m \u001b[0;34m=\u001b[0m \u001b[0mspacy\u001b[0m\u001b[0;34m.\u001b[0m\u001b[0mload\u001b[0m\u001b[0;34m(\u001b[0m\u001b[0;34m'en_core_web_sm'\u001b[0m\u001b[0;34m)\u001b[0m\u001b[0;34m\u001b[0m\u001b[0;34m\u001b[0m\u001b[0m\n\u001b[0m\u001b[1;32m      3\u001b[0m \u001b[0;31m# excluded tags\u001b[0m\u001b[0;34m\u001b[0m\u001b[0;34m\u001b[0m\u001b[0;34m\u001b[0m\u001b[0m\n\u001b[1;32m      4\u001b[0m \u001b[0mexcluded_tags\u001b[0m \u001b[0;34m=\u001b[0m \u001b[0;34m{\u001b[0m\u001b[0;34m\"VERB\"\u001b[0m\u001b[0;34m,\u001b[0m \u001b[0;34m\"ADJ\"\u001b[0m\u001b[0;34m,\u001b[0m \u001b[0;34m\"ADV\"\u001b[0m\u001b[0;34m,\u001b[0m \u001b[0;34m\"ADP\"\u001b[0m\u001b[0;34m}\u001b[0m\u001b[0;34m\u001b[0m\u001b[0;34m\u001b[0m\u001b[0m\n\u001b[1;32m      5\u001b[0m \u001b[0;34m\u001b[0m\u001b[0m\n",
      "\u001b[0;32m~/opt/anaconda3/lib/python3.8/site-packages/spacy/__init__.py\u001b[0m in \u001b[0;36mload\u001b[0;34m(name, vocab, disable, exclude, config)\u001b[0m\n\u001b[1;32m     49\u001b[0m     \u001b[0mRETURNS\u001b[0m \u001b[0;34m(\u001b[0m\u001b[0mLanguage\u001b[0m\u001b[0;34m)\u001b[0m\u001b[0;34m:\u001b[0m \u001b[0mThe\u001b[0m \u001b[0mloaded\u001b[0m \u001b[0mnlp\u001b[0m \u001b[0mobject\u001b[0m\u001b[0;34m.\u001b[0m\u001b[0;34m\u001b[0m\u001b[0;34m\u001b[0m\u001b[0m\n\u001b[1;32m     50\u001b[0m     \"\"\"\n\u001b[0;32m---> 51\u001b[0;31m     return util.load_model(\n\u001b[0m\u001b[1;32m     52\u001b[0m         \u001b[0mname\u001b[0m\u001b[0;34m,\u001b[0m \u001b[0mvocab\u001b[0m\u001b[0;34m=\u001b[0m\u001b[0mvocab\u001b[0m\u001b[0;34m,\u001b[0m \u001b[0mdisable\u001b[0m\u001b[0;34m=\u001b[0m\u001b[0mdisable\u001b[0m\u001b[0;34m,\u001b[0m \u001b[0mexclude\u001b[0m\u001b[0;34m=\u001b[0m\u001b[0mexclude\u001b[0m\u001b[0;34m,\u001b[0m \u001b[0mconfig\u001b[0m\u001b[0;34m=\u001b[0m\u001b[0mconfig\u001b[0m\u001b[0;34m\u001b[0m\u001b[0;34m\u001b[0m\u001b[0m\n\u001b[1;32m     53\u001b[0m     )\n",
      "\u001b[0;32m~/opt/anaconda3/lib/python3.8/site-packages/spacy/util.py\u001b[0m in \u001b[0;36mload_model\u001b[0;34m(name, vocab, disable, exclude, config)\u001b[0m\n\u001b[1;32m    425\u001b[0m     \u001b[0;32mif\u001b[0m \u001b[0mname\u001b[0m \u001b[0;32min\u001b[0m \u001b[0mOLD_MODEL_SHORTCUTS\u001b[0m\u001b[0;34m:\u001b[0m\u001b[0;34m\u001b[0m\u001b[0;34m\u001b[0m\u001b[0m\n\u001b[1;32m    426\u001b[0m         \u001b[0;32mraise\u001b[0m \u001b[0mIOError\u001b[0m\u001b[0;34m(\u001b[0m\u001b[0mErrors\u001b[0m\u001b[0;34m.\u001b[0m\u001b[0mE941\u001b[0m\u001b[0;34m.\u001b[0m\u001b[0mformat\u001b[0m\u001b[0;34m(\u001b[0m\u001b[0mname\u001b[0m\u001b[0;34m=\u001b[0m\u001b[0mname\u001b[0m\u001b[0;34m,\u001b[0m \u001b[0mfull\u001b[0m\u001b[0;34m=\u001b[0m\u001b[0mOLD_MODEL_SHORTCUTS\u001b[0m\u001b[0;34m[\u001b[0m\u001b[0mname\u001b[0m\u001b[0;34m]\u001b[0m\u001b[0;34m)\u001b[0m\u001b[0;34m)\u001b[0m  \u001b[0;31m# type: ignore[index]\u001b[0m\u001b[0;34m\u001b[0m\u001b[0;34m\u001b[0m\u001b[0m\n\u001b[0;32m--> 427\u001b[0;31m     \u001b[0;32mraise\u001b[0m \u001b[0mIOError\u001b[0m\u001b[0;34m(\u001b[0m\u001b[0mErrors\u001b[0m\u001b[0;34m.\u001b[0m\u001b[0mE050\u001b[0m\u001b[0;34m.\u001b[0m\u001b[0mformat\u001b[0m\u001b[0;34m(\u001b[0m\u001b[0mname\u001b[0m\u001b[0;34m=\u001b[0m\u001b[0mname\u001b[0m\u001b[0;34m)\u001b[0m\u001b[0;34m)\u001b[0m\u001b[0;34m\u001b[0m\u001b[0;34m\u001b[0m\u001b[0m\n\u001b[0m\u001b[1;32m    428\u001b[0m \u001b[0;34m\u001b[0m\u001b[0m\n\u001b[1;32m    429\u001b[0m \u001b[0;34m\u001b[0m\u001b[0m\n",
      "\u001b[0;31mOSError\u001b[0m: [E050] Can't find model 'en_core_web_sm'. It doesn't seem to be a Python package or a valid path to a data directory."
     ]
    }
   ],
   "source": [
    "import spacy\n",
    "nlp = spacy.load('en_core_web_sm') \n",
    "# excluded tags\n",
    "excluded_tags = {\"VERB\", \"ADJ\", \"ADV\", \"ADP\"}\n",
    "\n",
    "l1=[]\n",
    "for i in df_BA.index:\n",
    "    sents=df_BA.loc[i]['JD']\n",
    "    l1.append(sents.split(\"\\n\"))\n",
    "\n",
    "sentences = l1[0]\n",
    "new_sentences = []\n",
    "for sentence in sentences:\n",
    "    new_sentence = []\n",
    "    for token in nlp(sentence):\n",
    "        if token.pos_ not in excluded_tags:\n",
    "            new_sentence.append(token.text)\n",
    "    new_sentences.append(\" \".join(new_sentence))"
   ]
  },
  {
   "cell_type": "code",
   "execution_count": null,
   "metadata": {},
   "outputs": [],
   "source": []
  },
  {
   "cell_type": "code",
   "execution_count": null,
   "metadata": {},
   "outputs": [],
   "source": [
    "\n"
   ]
  },
  {
   "cell_type": "markdown",
   "metadata": {},
   "source": [
    "# Match Topic to Document"
   ]
  },
  {
   "cell_type": "code",
   "execution_count": null,
   "metadata": {},
   "outputs": [],
   "source": [
    "from operator import itemgetter\n",
    "lda.get_document_topics(corpus_new[0],minimum_probability=0.05,per_word_topics=False)\n",
    "sorted(lda.get_document_topics(corpus_new[0],minimum_probability=0,per_word_topics=False),key=itemgetter(1),reverse=True)"
   ]
  }
 ],
 "metadata": {
  "kernelspec": {
   "display_name": "Python 3",
   "language": "python",
   "name": "python3"
  },
  "language_info": {
   "codemirror_mode": {
    "name": "ipython",
    "version": 3
   },
   "file_extension": ".py",
   "mimetype": "text/x-python",
   "name": "python",
   "nbconvert_exporter": "python",
   "pygments_lexer": "ipython3",
   "version": "3.8.5"
  }
 },
 "nbformat": 4,
 "nbformat_minor": 4
}
