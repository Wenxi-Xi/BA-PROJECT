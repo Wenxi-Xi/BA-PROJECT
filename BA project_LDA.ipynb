{
 "cells": [
  {
   "cell_type": "code",
   "execution_count": 1,
   "metadata": {},
   "outputs": [],
   "source": [
    "import pandas as pd\n",
    "import numpy as np\n",
    "# do the LDA\n",
    "from gensim import corpora\n",
    "from gensim.models.ldamodel import LdaModel\n",
    "from gensim.parsing.preprocessing import STOPWORDS\n",
    "import pprint\n",
    "import nltk\n",
    "from nltk import sent_tokenize,word_tokenize "
   ]
  },
  {
   "cell_type": "code",
   "execution_count": 36,
   "metadata": {},
   "outputs": [],
   "source": [
    "df_BA=pd.read_csv('BA')\n",
    "df_DS=pd.read_csv('DS')\n",
    "df_DA=pd.read_csv('DA')\n",
    "df_DE=pd.read_csv('DE')"
   ]
  },
  {
   "cell_type": "code",
   "execution_count": 37,
   "metadata": {},
   "outputs": [],
   "source": [
    "my_stop_words = STOPWORDS.union(set(['experience', 'work','requirements','ability','years','analyst',\n",
    "                                     'required','including','best','new','applicants','jobs','candidate',\n",
    "                                     'help','regard','qualified','employment','consideration','applications',\n",
    "                                     'position'\n",
    "                                    ]))"
   ]
  },
  {
   "cell_type": "markdown",
   "metadata": {},
   "source": [
    "# LDA Model"
   ]
  },
  {
   "cell_type": "code",
   "execution_count": 38,
   "metadata": {},
   "outputs": [],
   "source": [
    "def get_df_name(df):\n",
    "    name =[x for x in globals() if globals()[x] is df][0]\n",
    "    return name\n",
    "\n",
    "def lda(df,num_topics = 3,passes = 10,num_words=8):\n",
    "    l1=[]\n",
    "    for i in df.index:\n",
    "        sents=df.loc[i]['JD']\n",
    "        l1.append(sents.replace('\\n',''))\n",
    "    \n",
    "    texts = [[word for word in story.lower().split()\n",
    "            if word not in my_stop_words and word.isalnum()]\n",
    "            for story in l1]\n",
    "    dictionary = corpora.Dictionary(texts) #(word_id,word) pairs\n",
    "    #dictionary.filter_extremes(no_below=20,no_above=0.2, keep_n= 100000)\n",
    "    corpus = [dictionary.doc2bow(text) for text in texts]\n",
    "    \n",
    "    \n",
    "    lda = LdaModel(corpus,\n",
    "              id2word=dictionary,\n",
    "              num_topics=num_topics,\n",
    "              passes=passes)\n",
    "    pp = pprint.PrettyPrinter(indent=4)\n",
    "    pp.pprint(lda.print_topics(num_words))\n",
    "    \n",
    "    return lda"
   ]
  },
  {
   "cell_type": "code",
   "execution_count": 39,
   "metadata": {},
   "outputs": [
    {
     "name": "stdout",
     "output_type": "stream",
     "text": [
      "[   (   0,\n",
      "        '0.014*\"business\" + 0.006*\"sap\" + 0.005*\"user\" + 0.005*\"team\" + '\n",
      "        '0.005*\"job\" + 0.005*\"management\" + 0.005*\"product\" + 0.005*\"working\" '\n",
      "        '+ 0.005*\"project\" + 0.005*\"client\"'),\n",
      "    (   1,\n",
      "        '0.050*\"business\" + 0.014*\"project\" + 0.009*\"technical\" + '\n",
      "        '0.008*\"development\" + 0.008*\"user\" + 0.008*\"team\" + '\n",
      "        '0.008*\"management\" + 0.008*\"process\" + 0.007*\"skills\" + 0.007*\"data\"'),\n",
      "    (   2,\n",
      "        '0.027*\"business\" + 0.023*\"data\" + 0.009*\"analysis\" + '\n",
      "        '0.008*\"management\" + 0.007*\"support\" + 0.006*\"team\" + 0.006*\"process\" '\n",
      "        '+ 0.006*\"technical\" + 0.006*\"knowledge\" + 0.005*\"working\"')]\n"
     ]
    },
    {
     "data": {
      "text/plain": [
       "[('business', 0.013602724),\n",
       " ('sap', 0.0062115295),\n",
       " ('user', 0.005364983),\n",
       " ('team', 0.005297141),\n",
       " ('job', 0.0052675176),\n",
       " ('management', 0.0052300896),\n",
       " ('product', 0.005160689),\n",
       " ('working', 0.0048702396),\n",
       " ('project', 0.0048605334),\n",
       " ('client', 0.004511152)]"
      ]
     },
     "execution_count": 39,
     "metadata": {},
     "output_type": "execute_result"
    }
   ],
   "source": [
    "lda(df_BA).show_topic(0)"
   ]
  },
  {
   "cell_type": "code",
   "execution_count": 40,
   "metadata": {},
   "outputs": [
    {
     "name": "stdout",
     "output_type": "stream",
     "text": [
      "[   (   0,\n",
      "        '0.059*\"data\" + 0.019*\"business\" + 0.009*\"analysis\" + 0.006*\"team\" + '\n",
      "        '0.006*\"reporting\" + 0.006*\"technical\" + 0.006*\"support\" + '\n",
      "        '0.006*\"skills\" + 0.006*\"management\" + 0.006*\"working\"'),\n",
      "    (   1,\n",
      "        '0.017*\"data\" + 0.006*\"research\" + 0.006*\"information\" + '\n",
      "        '0.006*\"analysis\" + 0.005*\"skills\" + 0.005*\"related\" + 0.005*\"degree\" '\n",
      "        '+ 0.005*\"program\" + 0.004*\"position\" + 0.004*\"support\"'),\n",
      "    (   2,\n",
      "        '0.078*\"data\" + 0.020*\"statistical\" + 0.017*\"information\" + '\n",
      "        '0.017*\"management\" + 0.014*\"business\" + 0.009*\"interpret\" + '\n",
      "        '0.009*\"knowledge\" + 0.008*\"packages\" + 0.007*\"reporting\" + '\n",
      "        '0.007*\"analytics\"')]\n"
     ]
    },
    {
     "data": {
      "text/plain": [
       "[('data', 0.0592469),\n",
       " ('business', 0.01949335),\n",
       " ('analysis', 0.008528931),\n",
       " ('team', 0.006467388),\n",
       " ('reporting', 0.0064358646),\n",
       " ('technical', 0.006231752),\n",
       " ('support', 0.006199515),\n",
       " ('skills', 0.006096549),\n",
       " ('management', 0.005956776),\n",
       " ('working', 0.005621578)]"
      ]
     },
     "execution_count": 40,
     "metadata": {},
     "output_type": "execute_result"
    }
   ],
   "source": [
    "lda(df_DA).show_topic(0)"
   ]
  },
  {
   "cell_type": "code",
   "execution_count": 41,
   "metadata": {},
   "outputs": [
    {
     "name": "stdout",
     "output_type": "stream",
     "text": [
      "[   (   0,\n",
      "        '0.036*\"data\" + 0.012*\"science\" + 0.011*\"business\" + '\n",
      "        '0.007*\"statistical\" + 0.007*\"machine\" + 0.007*\"learning\" + '\n",
      "        '0.006*\"project\" + 0.006*\"models\" + 0.005*\"product\" + '\n",
      "        '0.005*\"solutions\"'),\n",
      "    (   1,\n",
      "        '0.019*\"data\" + 0.014*\"quantum\" + 0.008*\"development\" + '\n",
      "        '0.007*\"business\" + 0.007*\"science\" + 0.007*\"machine\" + 0.007*\"ml\" + '\n",
      "        '0.006*\"professional\" + 0.006*\"knowledge\" + 0.006*\"industry\"'),\n",
      "    (   2,\n",
      "        '0.054*\"data\" + 0.015*\"business\" + 0.010*\"machine\" + 0.009*\"learning\" '\n",
      "        '+ 0.008*\"statistical\" + 0.007*\"team\" + 0.007*\"science\" + '\n",
      "        '0.007*\"analysis\" + 0.007*\"working\" + 0.006*\"analytics\"')]\n"
     ]
    },
    {
     "data": {
      "text/plain": [
       "[('data', 0.0360207),\n",
       " ('science', 0.01155025),\n",
       " ('business', 0.010796782),\n",
       " ('statistical', 0.0074941944),\n",
       " ('machine', 0.0069543933),\n",
       " ('learning', 0.0068186196),\n",
       " ('project', 0.0062082238),\n",
       " ('models', 0.00566545),\n",
       " ('product', 0.0052705063),\n",
       " ('solutions', 0.004548205)]"
      ]
     },
     "execution_count": 41,
     "metadata": {},
     "output_type": "execute_result"
    }
   ],
   "source": [
    "lda(df_DS).show_topic(0)"
   ]
  },
  {
   "cell_type": "code",
   "execution_count": 42,
   "metadata": {},
   "outputs": [
    {
     "name": "stdout",
     "output_type": "stream",
     "text": [
      "[   (   0,\n",
      "        '0.043*\"data\" + 0.012*\"business\" + 0.008*\"development\" + '\n",
      "        '0.007*\"technical\" + 0.007*\"working\" + 0.007*\"cloud\" + 0.006*\"azure\" + '\n",
      "        '0.005*\"solutions\" + 0.005*\"skills\" + 0.005*\"team\"'),\n",
      "    (   1,\n",
      "        '0.087*\"data\" + 0.011*\"business\" + 0.009*\"working\" + 0.007*\"sql\" + '\n",
      "        '0.006*\"engineering\" + 0.006*\"technical\" + 0.006*\"development\" + '\n",
      "        '0.006*\"tools\" + 0.006*\"knowledge\" + 0.006*\"team\"'),\n",
      "    (   2,\n",
      "        '0.047*\"data\" + 0.010*\"big\" + 0.009*\"business\" + 0.007*\"team\" + '\n",
      "        '0.006*\"aws\" + 0.006*\"development\" + 0.006*\"technical\" + '\n",
      "        '0.006*\"working\" + 0.005*\"tools\" + 0.005*\"solutions\"')]\n"
     ]
    },
    {
     "data": {
      "text/plain": [
       "[('data', 0.043186802),\n",
       " ('business', 0.011900463),\n",
       " ('development', 0.007776956),\n",
       " ('technical', 0.0072984984),\n",
       " ('working', 0.0072065173),\n",
       " ('cloud', 0.007055843),\n",
       " ('azure', 0.005515861),\n",
       " ('solutions', 0.005454027),\n",
       " ('skills', 0.005397784),\n",
       " ('team', 0.0053206827)]"
      ]
     },
     "execution_count": 42,
     "metadata": {},
     "output_type": "execute_result"
    }
   ],
   "source": [
    "lda(df_DE).show_topic(0)"
   ]
  },
  {
   "cell_type": "code",
   "execution_count": null,
   "metadata": {},
   "outputs": [],
   "source": []
  },
  {
   "cell_type": "markdown",
   "metadata": {},
   "source": [
    "# LDA Ver2"
   ]
  },
  {
   "cell_type": "code",
   "execution_count": 28,
   "metadata": {},
   "outputs": [],
   "source": [
    "df_BA=pd.read_csv('BA')"
   ]
  },
  {
   "cell_type": "code",
   "execution_count": 29,
   "metadata": {},
   "outputs": [],
   "source": [
    "l1=[]\n",
    "for i in df_BA.index:\n",
    "    sents=df_BA.loc[i]['JD']\n",
    "    l1.append(sents.replace('\\n',''))\n",
    "    \n",
    "texts = [[word for word in story.lower().split()\n",
    "            if word not in STOPWORDS and word.isalnum()]\n",
    "            for story in l1]\n",
    "dictionary = corpora.Dictionary(texts)\n",
    "dictionary.filter_extremes(no_below=20,no_above=0.2, keep_n= 100000)\n",
    "corpus = [dictionary.doc2bow(text) for text in texts]"
   ]
  },
  {
   "cell_type": "code",
   "execution_count": 30,
   "metadata": {},
   "outputs": [
    {
     "name": "stdout",
     "output_type": "stream",
     "text": [
      "[   (   0,\n",
      "        '0.008*\"sap\" + 0.008*\"required\" + 0.007*\"applicants\" + '\n",
      "        '0.006*\"employment\" + 0.006*\"protected\" + 0.006*\"time\" + '\n",
      "        '0.005*\"qualified\" + 0.005*\"acceptance\" + 0.005*\"national\" + '\n",
      "        '0.005*\"high\"'),\n",
      "    (   1,\n",
      "        '0.010*\"reporting\" + 0.008*\"service\" + 0.008*\"required\" + '\n",
      "        '0.007*\"sales\" + 0.007*\"reports\" + 0.007*\"financial\" + '\n",
      "        '0.007*\"performance\" + 0.006*\"salesforce\" + 0.006*\"drive\" + '\n",
      "        '0.006*\"able\"'),\n",
      "    (   2,\n",
      "        '0.010*\"client\" + 0.006*\"solution\" + 0.006*\"agile\" + 0.005*\"industry\" '\n",
      "        '+ 0.005*\"best\" + 0.005*\"training\" + 0.005*\"requirement\" + '\n",
      "        '0.005*\"senior\" + 0.005*\"delivery\" + 0.004*\"current\"')]\n"
     ]
    }
   ],
   "source": [
    "lda = LdaModel(corpus,\n",
    "              id2word=dictionary,\n",
    "              num_topics=3,\n",
    "              passes=10)\n",
    "pp = pprint.PrettyPrinter(indent=4)\n",
    "pp.pprint(lda.print_topics(8))"
   ]
  },
  {
   "cell_type": "code",
   "execution_count": null,
   "metadata": {},
   "outputs": [],
   "source": []
  },
  {
   "cell_type": "code",
   "execution_count": null,
   "metadata": {},
   "outputs": [],
   "source": [
    "import spacy\n",
    "nlp = spacy.load('en_core_web_sm') \n",
    "# excluded tags\n",
    "excluded_tags = {\"VERB\", \"ADJ\", \"ADV\", \"ADP\"}\n",
    "\n",
    "l1=[]\n",
    "for i in df_BA.index:\n",
    "    sents=df_BA.loc[i]['JD']\n",
    "    l1.append(sents.split(\"\\n\"))\n",
    "\n",
    "sentences = l1[0]\n",
    "new_sentences = []\n",
    "for sentence in sentences:\n",
    "    new_sentence = []\n",
    "    for token in nlp(sentence):\n",
    "        if token.pos_ not in excluded_tags:\n",
    "            new_sentence.append(token.text)\n",
    "    new_sentences.append(\" \".join(new_sentence))"
   ]
  },
  {
   "cell_type": "code",
   "execution_count": null,
   "metadata": {},
   "outputs": [],
   "source": []
  },
  {
   "cell_type": "code",
   "execution_count": null,
   "metadata": {},
   "outputs": [],
   "source": [
    "\n"
   ]
  },
  {
   "cell_type": "markdown",
   "metadata": {},
   "source": [
    "# Match Topic to Document"
   ]
  },
  {
   "cell_type": "code",
   "execution_count": null,
   "metadata": {},
   "outputs": [],
   "source": [
    "from operator import itemgetter\n",
    "lda.get_document_topics(corpus_new[0],minimum_probability=0.05,per_word_topics=False)\n",
    "sorted(lda.get_document_topics(corpus_new[0],minimum_probability=0,per_word_topics=False),key=itemgetter(1),reverse=True)"
   ]
  }
 ],
 "metadata": {
  "kernelspec": {
   "display_name": "Python 3",
   "language": "python",
   "name": "python3"
  },
  "language_info": {
   "codemirror_mode": {
    "name": "ipython",
    "version": 3
   },
   "file_extension": ".py",
   "mimetype": "text/x-python",
   "name": "python",
   "nbconvert_exporter": "python",
   "pygments_lexer": "ipython3",
   "version": "3.8.5"
  }
 },
 "nbformat": 4,
 "nbformat_minor": 4
}
